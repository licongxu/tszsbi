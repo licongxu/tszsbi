{
 "cells": [
  {
   "cell_type": "code",
   "execution_count": 1,
   "metadata": {},
   "outputs": [
    {
     "name": "stdout",
     "output_type": "stream",
     "text": [
      "PATH_TO_CLASS_SZ_DATA not set. Setting it now...\n",
      "Defaulting to: /home/lx256/class_sz_data_directory\n"
     ]
    },
    {
     "name": "stderr",
     "output_type": "stream",
     "text": [
      "2025-06-24 02:07:31.829791: E external/local_xla/xla/stream_executor/cuda/cuda_fft.cc:477] Unable to register cuFFT factory: Attempting to register factory for plugin cuFFT when one has already been registered\n",
      "WARNING: All log messages before absl::InitializeLog() is called are written to STDERR\n",
      "E0000 00:00:1750727251.847278 1360659 cuda_dnn.cc:8310] Unable to register cuDNN factory: Attempting to register factory for plugin cuDNN when one has already been registered\n",
      "E0000 00:00:1750727251.852603 1360659 cuda_blas.cc:1418] Unable to register cuBLAS factory: Attempting to register factory for plugin cuBLAS when one has already been registered\n",
      "2025-06-24 02:07:35.138394: E external/local_xla/xla/stream_executor/cuda/cuda_driver.cc:152] failed call to cuInit: INTERNAL: CUDA error: Failed call to cuInit: CUDA_ERROR_NO_DEVICE: no CUDA-capable device is detected\n",
      "/home/lx256/tsz_project/tszpower/tszpower/__init__.py:1: DeprecationWarning: compute_class_szfast is deprecated. Use initialize_classy_szfast instead.\n",
      "  from .config import classy_sz\n",
      "/home/lx256/envs/tsz_env/lib64/python3.11/site-packages/tqdm/auto.py:21: TqdmWarning: IProgress not found. Please update jupyter and ipywidgets. See https://ipywidgets.readthedocs.io/en/stable/user_install.html\n",
      "  from .autonotebook import tqdm as notebook_tqdm\n"
     ]
    }
   ],
   "source": [
    "import tszpower as tsz\n",
    "import jax.numpy as jnp\n",
    "import jax\n",
    "import psutil\n",
    "import os\n",
    "import matplotlib.pyplot as plt\n",
    "from functools import partial\n",
    "from typing import Optional, Tuple\n",
    "import numpy as np\n",
    "import jax\n",
    "import jax.numpy as jnp\n",
    "import pylab as pl\n",
    "import scipy.integrate as integrate\n",
    "# DTYPE = jnp.float16"
   ]
  },
  {
   "cell_type": "code",
   "execution_count": 2,
   "metadata": {},
   "outputs": [],
   "source": [
    "def print_memory_usage(note=\"\"):\n",
    "    process = psutil.Process(os.getpid())\n",
    "    mem = process.memory_info().rss / 1024**2  # in MB\n",
    "    print(f\"[{note}] Memory usage: {mem:.2f} MB\")"
   ]
  },
  {
   "cell_type": "code",
   "execution_count": 3,
   "metadata": {},
   "outputs": [
    {
     "name": "stderr",
     "output_type": "stream",
     "text": [
      "/tmp/ipykernel_1360659/3306305697.py:26: DeprecationWarning: compute_class_szfast is deprecated. Use initialize_classy_szfast instead.\n",
      "  tsz.initialise()\n"
     ]
    },
    {
     "name": "stdout",
     "output_type": "stream",
     "text": [
      "[After initialisation] Memory usage: 5267.77 MB\n"
     ]
    }
   ],
   "source": [
    "# 1) Define parameters\n",
    "allparams = {\n",
    "    'omega_b': 0.049*0.68**2,\n",
    "    'omega_cdm': (0.31-0.049)*0.68**2,\n",
    "    'H0': 68.,\n",
    "    'tau_reio': 0.0544,\n",
    "    'ln10^{10}A_s': 3.0352,\n",
    "    'n_s': 0.965,\n",
    "    'M_min': 1e14*0.68,\n",
    "    'M_max': 1e16*0.68,\n",
    "    # 'ell_min': 2,\n",
    "    # 'ell_max': 8000,\n",
    "    # 'dlogell': 0.1,\n",
    "    'z_min': 0.01,\n",
    "    'z_max': 3.0,\n",
    "    'P0GNFW': 8.130,\n",
    "    'c500': 1.156,\n",
    "    'gammaGNFW': 0.3292,\n",
    "    'alphaGNFW': 1.0620,\n",
    "    'betaGNFW': 5.4807,\n",
    "    'B': 1.4,\n",
    "    \"cosmo_model\": 0, # use mnu-lcdm emulators\n",
    "    'jax': 1\n",
    "}\n",
    "tsz.classy_sz.set(allparams)\n",
    "tsz.initialise()\n",
    "print_memory_usage(\"After initialisation\")"
   ]
  },
  {
   "cell_type": "code",
   "execution_count": 4,
   "metadata": {},
   "outputs": [
    {
     "name": "stdout",
     "output_type": "stream",
     "text": [
      "[After computation] Memory usage: 5274.82 MB\n"
     ]
    }
   ],
   "source": [
    "tsz.classy_sz.get_sigma8_and_der(params_values_dict=allparams)\n",
    "print_memory_usage(\"After computation\")"
   ]
  },
  {
   "cell_type": "code",
   "execution_count": 5,
   "metadata": {},
   "outputs": [],
   "source": [
    "z_min = allparams['z_min']\n",
    "z_max = allparams['z_max']\n",
    "z_grid = jnp.geomspace(z_min, z_max, 10000)\n",
    "\n",
    "M_min = allparams['M_min']\n",
    "M_max = allparams['M_max']\n",
    "m_grid = jnp.geomspace(M_min, M_max, 10000)\n",
    "logm_grid = jnp.log(m_grid)"
   ]
  },
  {
   "cell_type": "code",
   "execution_count": 6,
   "metadata": {},
   "outputs": [],
   "source": [
    "# 2) Get halo mass function dndlnm over the same z,m\n",
    "def get_hmf_for_z(zp):\n",
    "    return tsz.get_hmf_at_z_and_m(z=zp, m=m_grid, params_values_dict=allparams)"
   ]
  },
  {
   "cell_type": "code",
   "execution_count": 7,
   "metadata": {},
   "outputs": [
    {
     "name": "stdout",
     "output_type": "stream",
     "text": [
      "[After HMF] Memory usage: 5302.05 MB\n"
     ]
    }
   ],
   "source": [
    "dnddzlnm_grid = jax.vmap(get_hmf_for_z)(z_grid)  \n",
    "print_memory_usage(\"After HMF\")"
   ]
  },
  {
   "cell_type": "code",
   "execution_count": 8,
   "metadata": {},
   "outputs": [],
   "source": [
    "# -------------------------------------------------------------------\n",
    "# JAX clone of cosmocnc/sim.py:get_samples_pdf_2d\n",
    "# -------------------------------------------------------------------\n",
    "from functools import partial\n",
    "from typing import Optional, Tuple\n",
    "\n",
    "import jax\n",
    "import jax.numpy as jnp\n",
    "import jax.scipy.ndimage as jnd\n",
    "\n",
    "# -------------------------------------------------------------------\n",
    "# 1. deterministic helper (jitted, static shapes)\n",
    "# -------------------------------------------------------------------\n",
    "@partial(jax.jit, static_argnames=(\"n_z\", \"n_m\"))\n",
    "def _pdf_and_grids(\n",
    "    params: dict,\n",
    "    *,\n",
    "    n_z: int,\n",
    "    n_m: int,\n",
    "    dndlnm_grid: Optional[jnp.ndarray] = None,\n",
    "    sky_frac: float = 1.0,\n",
    ") -> Tuple[jnp.ndarray, jnp.ndarray, jnp.ndarray, float]:\n",
    "    \"\"\"Return z_grid, lnM_grid, joint PDF, and expected cluster count.\"\"\"\n",
    "    z_min, z_max = params[\"z_min\"], params[\"z_max\"]\n",
    "    M_min, M_max = params[\"M_min\"], params[\"M_max\"]\n",
    "\n",
    "    # log-spaced grids (same as cosmocnc)\n",
    "    z_grid   = jnp.geomspace(z_min,  z_max,  n_z)\n",
    "    m_grid   = jnp.geomspace(M_min,  M_max,  n_m)\n",
    "    lnM_grid = jnp.log(m_grid)\n",
    "\n",
    "    # HMF on the grid ------------------------------------------------------\n",
    "    if dndlnm_grid is None:\n",
    "        def hmf_at_z(zp):\n",
    "            return tsz.get_hmf_at_z_and_m(z=zp, m=m_grid,\n",
    "                                          params_values_dict=params)\n",
    "        dndlnm_grid = jax.vmap(hmf_at_z)(z_grid)           # (n_z, n_m)\n",
    "\n",
    "    dV = tsz.dVdzdOmega(z_grid, params_values_dict=params)  # (n_z,)\n",
    "\n",
    "    # full-sky × sky_frac\n",
    "    dNdzdlnM = dndlnm_grid * dV[:, None] * (4.0 * jnp.pi * sky_frac)\n",
    "\n",
    "    # ------------------------------------------------- constant bin widths\n",
    "# correct, variable bin widths\n",
    "    dz   = jnp.diff(z_grid,   append=z_grid[-1]   * (z_grid[-1]   / z_grid[-2]))\n",
    "    dlnM = jnp.diff(lnM_grid, append=lnM_grid[-1] + (lnM_grid[-1] - lnM_grid[-2]))\n",
    "\n",
    "    dN_cell = dNdzdlnM * dz[:, None] * dlnM[None, :]\n",
    "\n",
    "    N_exp   = dN_cell.sum()\n",
    "    pdf     = dN_cell / N_exp                             # Σ = 1\n",
    "\n",
    "    return z_grid, lnM_grid, pdf, N_exp\n",
    "\n",
    "\n",
    "# -------------------------------------------------------------------\n",
    "# 2. exact inverse-CDF sampler (no jit – dynamic shapes OK)\n",
    "# -------------------------------------------------------------------\n",
    "# @jax.jit\n",
    "def _sample_from_2d_pdf(\n",
    "    key: jax.Array,\n",
    "    n_samples: int,\n",
    "    x: jnp.ndarray,           # z grid  (length Nx)\n",
    "    y: jnp.ndarray,           # lnM grid (length Ny)\n",
    "    pdf: jnp.ndarray,         # (Nx, Ny), Σ = 1\n",
    ") -> Tuple[jnp.ndarray, jnp.ndarray]:\n",
    "    \"\"\"Reproduces cosmocnc.get_samples_pdf_2d one-for-one.\"\"\"\n",
    "    dx = x[1] - x[0]\n",
    "    dy = y[1] - y[0]\n",
    "\n",
    "    # --- Conditional CDF P(X|Y) (shape Nx×Ny) ----------------------------\n",
    "    cdf_xgy = jnp.cumsum(pdf, axis=0) * dx\n",
    "    cdf_xgy = cdf_xgy / cdf_xgy[-1, :]                    # each column → [0,1]\n",
    "\n",
    "    # --- Marginal CDF for Y ----------------------------------------------\n",
    "    pdf_y = pdf.sum(axis=0)                               # integrate over x\n",
    "    cdf_y = jnp.cumsum(pdf_y) * dx * dy                   # length Ny (not normed)\n",
    "\n",
    "    # sample Y (ln M) ------------------------------------------------------\n",
    "    key, k1, k2 = jax.random.split(key, 3)\n",
    "    u_y = jax.random.uniform(k1, (n_samples,))\n",
    "    y_samples = jnp.interp(u_y, cdf_y / cdf_y[-1], y)     # identical to NumPy\n",
    "\n",
    "    # build LUT x(z_unit, y) ----------------------------------------------\n",
    "    z_unit = jnp.linspace(0.0, 1.0, x.size)               # same “z” axis\n",
    "    x_matrix = jax.vmap(\n",
    "        lambda col: jnp.interp(z_unit, col, x)\n",
    "    )(cdf_xgy.T)                                          # (Ny, Nx)\n",
    "\n",
    "    # sample X (z) given Y -------------------------------------------------\n",
    "    u_x = jax.random.uniform(k2, (n_samples,))\n",
    "\n",
    "    # map_coordinates expects index coordinates\n",
    "    coords = jnp.vstack([\n",
    "        u_x * (z_unit.size - 1),                          # z index\n",
    "        jnp.interp(y_samples, y, jnp.arange(y.size))      # y index\n",
    "    ])\n",
    "    x_samples = jnd.map_coordinates(\n",
    "        x_matrix.T, coords, order=1, mode=\"nearest\"\n",
    "    )\n",
    "\n",
    "    return x_samples, y_samples\n",
    "\n",
    "\n",
    "# -------------------------------------------------------------------\n",
    "# 3. public catalogue generator (HMF-only)\n",
    "# -------------------------------------------------------------------\n",
    "def sample_cluster_catalogue(\n",
    "    key: jax.Array,\n",
    "    params_values_dict: dict,\n",
    "    *,\n",
    "    n_z: int = 1000,\n",
    "    n_m: int = 1000,\n",
    "    dndlnm_grid: Optional[jnp.ndarray] = None,\n",
    "    sky_frac: float = 1.0,\n",
    ") -> Tuple[jnp.ndarray, jnp.ndarray]:\n",
    "    \"\"\"\n",
    "    JAX equivalent of catalogue_generator.generate_catalogues_hmf():\n",
    "    returns arrays  z_cat,  M_cat  (both length N drawn from Poisson).\n",
    "    \"\"\"\n",
    "    z_grid, lnM_grid, pdf, N_exp = _pdf_and_grids(\n",
    "        params_values_dict,\n",
    "        n_z=n_z,\n",
    "        n_m=n_m,\n",
    "        dndlnm_grid=dndlnm_grid,\n",
    "        sky_frac=sky_frac,\n",
    "    )\n",
    "\n",
    "    key, sub = jax.random.split(key)\n",
    "    N = int(jax.random.poisson(sub, N_exp))\n",
    "\n",
    "    key, sub = jax.random.split(key)\n",
    "    z_cat, lnM_cat = _sample_from_2d_pdf(sub, N, z_grid, lnM_grid, pdf)\n",
    "\n",
    "    return z_cat, jnp.exp(lnM_cat)         # return M, not ln M\n"
   ]
  },
  {
   "cell_type": "code",
   "execution_count": 9,
   "metadata": {},
   "outputs": [
    {
     "name": "stdout",
     "output_type": "stream",
     "text": [
      "N clusters in catalogue 0: 389454\n",
      "[After catalogue 0:] Memory usage: 9917.15 MB\n",
      "N clusters in catalogue 1: 390917\n",
      "[After catalogue 1:] Memory usage: 9975.26 MB\n",
      "N clusters in catalogue 2: 390046\n",
      "[After catalogue 2:] Memory usage: 10017.41 MB\n",
      "N clusters in catalogue 3: 389967\n",
      "[After catalogue 3:] Memory usage: 10074.25 MB\n",
      "N clusters in catalogue 4: 390487\n",
      "[After catalogue 4:] Memory usage: 10091.02 MB\n",
      "N clusters in catalogue 5: 389705\n",
      "[After catalogue 5:] Memory usage: 10105.67 MB\n",
      "N clusters in catalogue 6: 390657\n",
      "[After catalogue 6:] Memory usage: 10124.30 MB\n",
      "N clusters in catalogue 7: 390228\n",
      "[After catalogue 7:] Memory usage: 10159.66 MB\n",
      "N clusters in catalogue 8: 391851\n",
      "[After catalogue 8:] Memory usage: 10172.23 MB\n",
      "N clusters in catalogue 9: 389755\n",
      "[After catalogue 9:] Memory usage: 10208.42 MB\n",
      "Time to generate 10 catalogues: 77.07 seconds\n"
     ]
    }
   ],
   "source": [
    "import time\n",
    "n_cat= 10\n",
    "\n",
    "# master RNG seed\n",
    "key = jax.random.key(12310)\n",
    "\n",
    "# split into 10 sub-keys\n",
    "subkeys = jax.random.split(key, num=n_cat)\n",
    "\n",
    "# time the catalogue generation\n",
    "start_time = time.time()\n",
    "\n",
    "# draw the catalogues\n",
    "catalogues = []\n",
    "for i, k in enumerate(subkeys):\n",
    "    z_cat, m_cat = sample_cluster_catalogue(\n",
    "        k,\n",
    "        params_values_dict=allparams,\n",
    "        n_z=10000,      # grid resolution in redshift\n",
    "        n_m=10000,      # grid resolution in mass\n",
    "        sky_frac=1.0,    # full sky\n",
    "    )\n",
    "    m_cat = m_cat/0.68/1e14  #In unit of 1e14\n",
    "    catalogues.append((z_cat, m_cat))\n",
    "    print(f\"N clusters in catalogue {i}: {len(z_cat)}\")\n",
    "    \n",
    "    print_memory_usage(f\"After catalogue {i}:\")\n",
    "\n",
    "end_time = time.time()\n",
    "print(f\"Time to generate {n_cat} catalogues: {end_time - start_time:.2f} seconds\")"
   ]
  },
  {
   "cell_type": "code",
   "execution_count": 10,
   "metadata": {},
   "outputs": [
    {
     "name": "stdout",
     "output_type": "stream",
     "text": [
      "Saved cat_0.csv  with 389454 rows\n",
      "Saved cat_1.csv  with 390917 rows\n",
      "Saved cat_2.csv  with 390046 rows\n",
      "Saved cat_3.csv  with 389967 rows\n",
      "Saved cat_4.csv  with 390487 rows\n",
      "Saved cat_5.csv  with 389705 rows\n",
      "Saved cat_6.csv  with 390657 rows\n",
      "Saved cat_7.csv  with 390228 rows\n",
      "Saved cat_8.csv  with 391851 rows\n",
      "Saved cat_9.csv  with 389755 rows\n"
     ]
    }
   ],
   "source": [
    "for idx, (z_arr, m_arr) in enumerate(catalogues):\n",
    "    # convert JAX DeviceArrays → NumPy (host) arrays\n",
    "    z_np = np.asarray(z_arr)\n",
    "    m_np = np.asarray(m_arr)\n",
    "\n",
    "    # two-column matrix for np.savetxt\n",
    "    data = np.column_stack([z_np, m_np])\n",
    "\n",
    "    # save: header \"z,M\", 6-digit scientific notation to keep files small\n",
    "    np.savetxt(\n",
    "        f\"cat_{idx}.csv\",      # cat_0.csv, cat_1.csv, …\n",
    "        data,\n",
    "        fmt=\"%.6e\",            # e.g. 1.234567e-01\n",
    "        delimiter=\",\",\n",
    "        header=\"z,M\",\n",
    "        comments=\"\"            # keep header line exactly as given\n",
    "    )\n",
    "\n",
    "    print(f\"Saved cat_{idx}.csv  with {data.shape[0]} rows\")"
   ]
  },
  {
   "cell_type": "code",
   "execution_count": 11,
   "metadata": {},
   "outputs": [],
   "source": [
    "z_bins_edges = np.linspace(0,3,20)\n",
    "ln_M_bins_edges = np.linspace(np.log(1),np.log(100),20)\n",
    "lnM_bins_edges_true = np.linspace(np.log(1e14*0.68), np.log(1e16*0.68),20)\n",
    "\n",
    "z_bins_centres = (z_bins_edges[0:-1]+z_bins_edges[1:])*0.5\n",
    "ln_M_bins_centres = (ln_M_bins_edges[0:-1]+ln_M_bins_edges[1:])*0.5"
   ]
  },
  {
   "cell_type": "code",
   "execution_count": 12,
   "metadata": {},
   "outputs": [
    {
     "name": "stdout",
     "output_type": "stream",
     "text": [
      "Total predicted clusters 389969.80257387395 389969.80257387384\n"
     ]
    }
   ],
   "source": [
    "# dnddzlnm_grid \n",
    "comov_vol = tsz.dVdzdOmega(z_grid, params_values_dict=allparams)\n",
    "comov_vol_expanded = comov_vol[:, None]  \n",
    "integrand = dnddzlnm_grid  * comov_vol_expanded \n",
    "sky_frac=1.0\n",
    "dndz = tsz.simpson(integrand, x=logm_grid, axis=1)\n",
    "dndlnm = tsz.simpson(integrand, x=z_grid, axis=0)\n",
    "\n",
    "n_z =  tsz.simpson(dndz, x=z_grid, axis=0)*4*np.pi*sky_frac\n",
    "n_ln_M = tsz.simpson(dndlnm, x=logm_grid, axis=0)*4*np.pi*sky_frac\n",
    "print('Total predicted clusters',np.sum(n_z),np.sum(n_ln_M))"
   ]
  },
  {
   "cell_type": "code",
   "execution_count": 13,
   "metadata": {},
   "outputs": [
    {
     "name": "stdout",
     "output_type": "stream",
     "text": [
      "Σ n_z_bins   = 390081.06566819584   vs  n_z = 389969.80257387395\n",
      "Σ n_lnM_bins = 389762.191477902   vs  n_ln_M = 389969.80257387384\n"
     ]
    }
   ],
   "source": [
    "import numpy as np\n",
    "\n",
    "# ------------------------------------------------------------\n",
    "# fine 1-D grids and differential counts you already have\n",
    "# ------------------------------------------------------------\n",
    "# z_grid        (Nz,)          fine redshift centres\n",
    "# logm_grid     (Nm,)          fine ln M centres\n",
    "# dndz          (Nz,)          differential counts  dN/dz   (already *4π sky_frac*)\n",
    "# dndlnm        (Nm,)          differential counts  dN/dlnM\n",
    "#\n",
    "# coarse histogram edges\n",
    "# z_bins_edges           = np.linspace(0, 3, 20)\n",
    "# lnM_bins_edges_true    = np.linspace(np.log(1e14*0.68),\n",
    "#                                      np.log(1e16*0.68), 20)\n",
    "\n",
    "# ------------------------------------------------------------\n",
    "# widths of each fine-grid cell (same length as centres)\n",
    "# ------------------------------------------------------------\n",
    "dz     = np.diff(z_grid,    append=z_grid[-1]    + (z_grid[-1]    - z_grid[-2]))\n",
    "dlnM   = np.diff(logm_grid, append=logm_grid[-1] + (logm_grid[-1] - logm_grid[-2]))\n",
    "\n",
    "# turn densities into *counts per cell*\n",
    "dN_dz_cell     = dndz   * dz\n",
    "dN_dlnM_cell   = dndlnm * dlnM\n",
    "\n",
    "# ------------------------------------------------------------\n",
    "# helper – sum counts that fall into each coarse bin\n",
    "# ------------------------------------------------------------\n",
    "def bin_sum(grid, counts_per_cell, edges):\n",
    "    idx_lo = np.searchsorted(grid, edges[:-1], side=\"left\")\n",
    "    idx_hi = np.searchsorted(grid, edges[1:] , side=\"left\")\n",
    "    return np.array([counts_per_cell[lo:hi].sum() for lo, hi in zip(idx_lo, idx_hi)])\n",
    "\n",
    "# expected counts in your histogram bins\n",
    "n_z_bins   = bin_sum(z_grid,    dN_dz_cell,   z_bins_edges)*4*jnp.pi*sky_frac          # length 19\n",
    "n_lnM_bins = bin_sum(logm_grid, dN_dlnM_cell, lnM_bins_edges_true)*4*jnp.pi*sky_frac      # length 19\n",
    "\n",
    "# ------------------------------------------------------------\n",
    "# totals now match the full-sky integral\n",
    "# ------------------------------------------------------------\n",
    "print(\"Σ n_z_bins   =\", n_z_bins.sum(),   \"  vs  n_z =\", n_z.sum())\n",
    "print(\"Σ n_lnM_bins =\", n_lnM_bins.sum(), \"  vs  n_ln_M =\", n_ln_M.sum())\n"
   ]
  },
  {
   "cell_type": "code",
   "execution_count": 14,
   "metadata": {},
   "outputs": [
    {
     "data": {
      "text/plain": [
       "<matplotlib.collections.PathCollection at 0x153d49a21610>"
      ]
     },
     "execution_count": 14,
     "metadata": {},
     "output_type": "execute_result"
    },
    {
     "data": {
      "image/png": "[encoded data removed]",
      "text/plain": [
       "<Figure size 640x480 with 1 Axes>"
      ]
     },
     "metadata": {},
     "output_type": "display_data"
    }
   ],
   "source": [
    "plt.scatter(z_bins_centres, n_z_bins)"
   ]
  },
  {
   "cell_type": "code",
   "execution_count": 15,
   "metadata": {},
   "outputs": [
    {
     "data": {
      "text/plain": [
       "<matplotlib.collections.PathCollection at 0x153d495ca510>"
      ]
     },
     "execution_count": 15,
     "metadata": {},
     "output_type": "execute_result"
    },
    {
     "data": {
      "image/png": "[encoded data removed]",
      "text/plain": [
       "<Figure size 640x480 with 1 Axes>"
      ]
     },
     "metadata": {},
     "output_type": "display_data"
    }
   ],
   "source": [
    "plt.scatter(ln_M_bins_centres, n_lnM_bins)"
   ]
  },
  {
   "cell_type": "code",
   "execution_count": 16,
   "metadata": {},
   "outputs": [
    {
     "name": "stdout",
     "output_type": "stream",
     "text": [
      "N clusters 389454\n",
      "N clusters 390917\n",
      "N clusters 390046\n",
      "N clusters 389967\n",
      "N clusters 390487\n",
      "N clusters 389705\n",
      "N clusters 390657\n",
      "N clusters 390228\n",
      "N clusters 391851\n",
      "N clusters 389755\n"
     ]
    }
   ],
   "source": [
    "# catalogue_total = {}\n",
    "catalogue_total = {           # pre-allocate the four columns you have\n",
    "    \"z\"  : np.empty(0, dtype=float),\n",
    "    \"M\"  : np.empty(0, dtype=float),\n",
    "}\n",
    "\n",
    "for i in range(0,n_cat):\n",
    "\n",
    "    # catalogue_new = np.loadtxt(\"/rds/lx256/hpc_work/tsz-project/catalogues_csv/catalogue_so_1e14_\" + str(i) + \".csv\",allow_pickle=True)[()]\n",
    "    fname = f\"cat_{i}.csv\"\n",
    "    \n",
    "    # ---- OPTION A: NumPy ---------------------------------------------------\n",
    "    data = np.genfromtxt(fname, delimiter=\",\", names=True)      # reads header\n",
    "    print(\"N clusters\", data.shape[0])\n",
    "\n",
    "    # append every column into catalogue_total\n",
    "    for key in catalogue_total:\n",
    "        catalogue_total[key] = np.concatenate((catalogue_total[key], data[key]))\n"
   ]
  },
  {
   "cell_type": "code",
   "execution_count": 17,
   "metadata": {},
   "outputs": [],
   "source": [
    "# Histograms (unchanged)\n",
    "z_hist, _   = np.histogram(catalogue_total[\"z\"],        bins=z_bins_edges)\n",
    "lnM_hist, _ = np.histogram(np.log(catalogue_total[\"M\"]), bins=ln_M_bins_edges)\n",
    "\n",
    "z_hist   = z_hist   / n_cat      # average over the 10 mock catalogues\n",
    "lnM_hist = lnM_hist / n_cat\n",
    "\n",
    "pl.rc('text', usetex=False)\n",
    "pl.rc('font', family='serif')"
   ]
  },
  {
   "cell_type": "code",
   "execution_count": 18,
   "metadata": {},
   "outputs": [
    {
     "data": {
      "text/plain": [
       "<matplotlib.collections.PathCollection at 0x153bb41e5490>"
      ]
     },
     "execution_count": 18,
     "metadata": {},
     "output_type": "execute_result"
    },
    {
     "data": {
      "image/png": "[encoded data removed]",
      "text/plain": [
       "<Figure size 640x480 with 1 Axes>"
      ]
     },
     "metadata": {},
     "output_type": "display_data"
    }
   ],
   "source": [
    "pl.scatter(z_bins_centres,z_hist,s=15,color='blue',zorder=10)\n",
    "pl.scatter(z_bins_centres, n_z_bins, color = 'red', zorder=10)"
   ]
  },
  {
   "cell_type": "code",
   "execution_count": 19,
   "metadata": {},
   "outputs": [
    {
     "data": {
      "text/plain": [
       "<matplotlib.collections.PathCollection at 0x153d493ad4d0>"
      ]
     },
     "execution_count": 19,
     "metadata": {},
     "output_type": "execute_result"
    },
    {
     "data": {
      "image/png": "[encoded data removed]",
      "text/plain": [
       "<Figure size 640x480 with 1 Axes>"
      ]
     },
     "metadata": {},
     "output_type": "display_data"
    }
   ],
   "source": [
    "pl.scatter(ln_M_bins_centres,lnM_hist,s=15,color='green',zorder=10)\n",
    "pl.scatter(ln_M_bins_centres,n_lnM_bins,s=15,color='blue',zorder=10)"
   ]
  },
  {
   "cell_type": "code",
   "execution_count": 25,
   "metadata": {},
   "outputs": [
    {
     "name": "stderr",
     "output_type": "stream",
     "text": [
      "<>:7: DeprecationWarning: invalid escape sequence '\\D'\n",
      "<>:7: DeprecationWarning: invalid escape sequence '\\D'\n",
      "/tmp/ipykernel_1360659/2820336489.py:7: DeprecationWarning: invalid escape sequence '\\D'\n",
      "  pl.ylabel(\"$\\Delta N$\")\n"
     ]
    },
    {
     "data": {
      "image/png": "[encoded data removed]",
      "text/plain": [
       "<Figure size 640x480 with 1 Axes>"
      ]
     },
     "metadata": {},
     "output_type": "display_data"
    }
   ],
   "source": [
    "pl.errorbar(z_bins_centres,n_z_bins-n_z_bins,yerr=np.sqrt(n_z_bins),linestyle=\"none\",fmt=\"\",zorder=0,label=\"Poisson error 1 cat.\")\n",
    "pl.errorbar(z_bins_centres,n_z_bins-n_z_bins,yerr=np.sqrt(n_z_bins)/np.sqrt(n_cat),linestyle=\"none\",fmt=\"\",color=\"tab:red\",zorder=5,label=\"Poisson error 10 cat.\")\n",
    "pl.scatter(z_bins_centres,z_hist-n_z_bins,s=15,color='tab:olive',zorder=10,label=\"Difference theory--catalogues, average 10 cats.\")\n",
    "\n",
    "pl.axhline(y=0,linestyle=\"dashed\",color=\"k\")\n",
    "pl.xlabel(\"$z$\")\n",
    "pl.ylabel(\"$\\Delta N$\")\n",
    "plt.title(\"N_M=10000, N_z=10000\")\n",
    "plt.savefig('Delta_n_z.png',dpi=300)\n",
    "pl.legend()\n",
    "pl.show()"
   ]
  },
  {
   "cell_type": "code",
   "execution_count": 24,
   "metadata": {},
   "outputs": [
    {
     "name": "stderr",
     "output_type": "stream",
     "text": [
      "<>:7: DeprecationWarning: invalid escape sequence '\\D'\n",
      "<>:7: DeprecationWarning: invalid escape sequence '\\D'\n",
      "/tmp/ipykernel_1360659/1962615988.py:7: DeprecationWarning: invalid escape sequence '\\D'\n",
      "  pl.ylabel(\"$\\Delta N$\")\n"
     ]
    },
    {
     "data": {
      "image/png": "[encoded data removed]",
      "text/plain": [
       "<Figure size 640x480 with 1 Axes>"
      ]
     },
     "metadata": {},
     "output_type": "display_data"
    }
   ],
   "source": [
    "pl.errorbar(ln_M_bins_centres,n_lnM_bins-n_lnM_bins,yerr=np.sqrt(n_lnM_bins),linestyle=\"none\",fmt=\"\",zorder=0,label=\"Poisson error 1 cat.\")\n",
    "pl.errorbar(ln_M_bins_centres,n_lnM_bins-n_lnM_bins,yerr=np.sqrt(n_lnM_bins)/np.sqrt(n_cat),linestyle=\"none\",fmt=\"\",color=\"tab:red\",zorder=5,label=\"Poisson error 10 cat.\")\n",
    "pl.scatter(ln_M_bins_centres,lnM_hist-n_lnM_bins,s=15,color='tab:olive',zorder=10,label=\"Difference theory--catalogues, average 10 cats.\")\n",
    "\n",
    "pl.axhline(y=0,linestyle=\"dashed\",color=\"k\")\n",
    "pl.xlabel(\"$ln(M/1e14)$\")\n",
    "pl.ylabel(\"$\\Delta N$\")\n",
    "plt.title(\"N_M=10000, N_z=10000\")\n",
    "pl.legend()\n",
    "plt.savefig('Delta_n_M.png',dpi=300)\n",
    "pl.show()"
   ]
  }
 ],
 "metadata": {
  "kernelspec": {
   "display_name": "tsz_env",
   "language": "python",
   "name": "python3"
  },
  "language_info": {
   "codemirror_mode": {
    "name": "ipython",
    "version": 3
   },
   "file_extension": ".py",
   "mimetype": "text/x-python",
   "name": "python",
   "nbconvert_exporter": "python",
   "pygments_lexer": "ipython3",
   "version": "3.11.11"
  }
 },
 "nbformat": 4,
 "nbformat_minor": 2
}
