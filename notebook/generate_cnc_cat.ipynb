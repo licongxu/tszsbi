{
 "cells": [
  {
   "cell_type": "code",
   "execution_count": 19,
   "id": "77e3cbab",
   "metadata": {},
   "outputs": [],
   "source": [
    "import numpy as np\n",
    "import time\n",
    "import cosmocnc as cnc\n",
    "import os"
   ]
  },
  {
   "cell_type": "markdown",
   "id": "3253d07e",
   "metadata": {},
   "source": [
    "# Set up configuration"
   ]
  },
  {
   "cell_type": "code",
   "execution_count": 20,
   "id": "64d28a5e",
   "metadata": {},
   "outputs": [],
   "source": [
    "# --------------------- Config ---------------------\n",
    "# 10 deg x 10 deg patch: (10/180*pi) x (10/180*pi) steradians\n",
    "# Full sky = 4*pi steradians\n",
    "sky_area_deg2 = 10 * 10\n",
    "full_sky_deg2 = 4*np.pi*(180/np.pi)**2\n",
    "sky_frac = sky_area_deg2 / full_sky_deg2\n",
    "sky_frac = 1.0\n",
    "get_sky_coords = False\n",
    "\n",
    "# Two parameter files: catalogue_sbi_0.csv and catalogue_sbi_1.csv\n",
    "indices = [0, 1]\n",
    "param_dir = \"../catalogue_demo\"\n",
    "param_tpl = \"params_sbi_{idx}.csv\"\n",
    "\n",
    "# One catalogue per run of catalogue_generator\n",
    "n_catalogues = 1\n",
    "# Where to save generated catalogues\n",
    "save_tpl = \"../catalogue_generated/catalogue_test_{idx}.npy\"\n"
   ]
  },
  {
   "cell_type": "markdown",
   "id": "82ee4785",
   "metadata": {},
   "source": [
    "# Initialization (note the precision parameters, can adjust to low precision parameters for testing)"
   ]
  },
  {
   "cell_type": "code",
   "execution_count": 21,
   "id": "2260f56d",
   "metadata": {},
   "outputs": [],
   "source": [
    "cnc_params = {\n",
    "    \"number_cores_hmf\": 1,\n",
    "    # \"n_points\": 1024*64,\n",
    "    # \"n_z\": 10000,\n",
    "    \"n_points\": 1024*16,\n",
    "    \"n_z\": 1000,\n",
    "    \"z_min\": 0.005,\n",
    "    \"z_max\": 3.0,\n",
    "    \"M_min\": 1e14,\n",
    "    \"M_max\": 1e16,\n",
    "    \"cosmo_model\": \"lcdm\",\n",
    "    \"hmf_type\": \"Tinker08\",\n",
    "    \"mass_definition\": \"500c\",\n",
    "    \"cosmology_tool\": \"classy_sz\",\n",
    "    \"hmf_calc\": \"cnc\",\n",
    "    \"hmf_type_deriv\": \"numerical\",\n",
    "    \"power_spectrum_type\": \"cosmopower\",\n",
    "    \"cosmo_amplitude_parameter\": \"logA\",\n",
    "    \"Hubble_parameter\": \"h\",\n",
    "    \"cosmo_param_density\": \"physical\",\n",
    "    \"interp_tinker\": \"log\",\n",
    "    \"class_sz_cosmo_model\": \"lcdm\",\n",
    "    \"cosmocnc_verbose\": \"none\",\n",
    "    \"load_catalogue\": False,\n",
    "    \"survey_sr\": \"/Users/licongxu/csd3/cosmocnc/surveys/survey_sr_so_sim.py\",\n",
    "    \"survey_cat\": \"/Users/licongxu/csd3/cosmocnc/surveys/survey_cat_so_sim.py\",\n",
    "    \"class_sz_ndim_masses\": 100,\n",
    "    \"class_sz_ndim_redshifts\": 500,\n",
    "    \"class_sz_concentration_parameter\": \"B13\",\n",
    "    \"class_sz_output\": \"mPk,m500c_to_m200c,m200c_to_m500c\",\n",
    "    \"class_sz_hmf\": \"T08M500c\",\n",
    "    \"class_sz_use_m500c_in_ym_relation\": 1,\n",
    "    \"class_sz_use_m200c_in_ym_relation\": 0,\n",
    "    \"observables\": [[\"q_so_sim\"]],\n",
    "    \"obs_select\": \"q_so_sim\",\n",
    "    \"stacked_likelihood\": False,\n",
    "    \"obs_select_min\": 0.0,\n",
    "    \"obs_select_max\": 0.0,\n",
    "}\n",
    "\n",
    "# Baseline cosmology; will be overwritten per-catalogue from CSV\n",
    "cosmo_params = {\n",
    "    \"h\": 0.6766,\n",
    "    \"Ob0h2\": 0.02242,\n",
    "    \"Oc0h2\": 0.1193,\n",
    "    \"logA\": 3.047,\n",
    "    \"n_s\": 0.9665,\n",
    "    \"m_nu\": 0.06,\n",
    "    \"tau_reio\": 0.0544,\n",
    "}\n",
    "\n",
    "scal_rel_params = cnc.scaling_relation_params_default\n",
    "scal_rel_params[\"bias_sz\"] = 0.8\n",
    "scal_rel_params[\"dof\"] = 0.0\n",
    "# --------------------------------------------------"
   ]
  },
  {
   "cell_type": "code",
   "execution_count": 22,
   "id": "caf81f6b",
   "metadata": {},
   "outputs": [
    {
     "name": "stdout",
     "output_type": "stream",
     "text": [
      "Initialised number_counts.\n"
     ]
    }
   ],
   "source": [
    "# Initialise number counts once\n",
    "number_counts = cnc.cluster_number_counts(cnc_params=cnc_params)\n",
    "number_counts.cosmo_params = cosmo_params\n",
    "number_counts.scal_rel_params = scal_rel_params\n",
    "number_counts.initialise()\n",
    "print(\"Initialised number_counts.\")"
   ]
  },
  {
   "cell_type": "code",
   "execution_count": 23,
   "id": "eeb584dd",
   "metadata": {},
   "outputs": [],
   "source": [
    "def load_params_from_csv(path):\n",
    "    \"\"\"\n",
    "    Load one row with header:\n",
    "    h,logA,n_s,Ob0h2,Oc0h2,B,A_cib,A_ir,A_rs\n",
    "    Returns a dict with only the first five relevant fields.\n",
    "    \"\"\"\n",
    "    if not os.path.exists(path):\n",
    "        raise FileNotFoundError(f\"Parameter file not found: {path}\")\n",
    "\n",
    "    data = np.genfromtxt(path, delimiter=\",\", names=True)\n",
    "    # Ensure we can index like an array even if there's only one row\n",
    "    if data.shape == ():  # single row -> np.void\n",
    "        row = data\n",
    "    else:\n",
    "        if data.shape[0] < 1:\n",
    "            raise ValueError(f\"No rows in parameter file: {path}\")\n",
    "        row = data[0]\n",
    "\n",
    "    return {\n",
    "        \"h\": float(row[\"h\"]),\n",
    "        \"logA\": float(row[\"logA\"]),\n",
    "        \"n_s\": float(row[\"n_s\"]),\n",
    "        \"Ob0h2\": float(row[\"Ob0h2\"]),\n",
    "        \"Oc0h2\": float(row[\"Oc0h2\"]),\n",
    "    }"
   ]
  },
  {
   "cell_type": "markdown",
   "id": "d1981f4e",
   "metadata": {},
   "source": [
    "# Generate cluster catalogues from parameters\n",
    "### Note: use classy_sz post23 here"
   ]
  },
  {
   "cell_type": "code",
   "execution_count": 24,
   "id": "4c9c3593",
   "metadata": {},
   "outputs": [
    {
     "name": "stdout",
     "output_type": "stream",
     "text": [
      "\n",
      "Catalogue index: 0\n",
      "Parameters from CSV: {'h': 0.65003166, 'logA': 2.9999497, 'n_s': 0.94439447, 'Ob0h2': 0.0218048, 'Oc0h2': 0.11680297}\n",
      "Generating Catalogue 0\n",
      "Sky frac 1.0\n",
      "N clusters: 331999\n",
      "Time generation (s): 7.160011053085327\n",
      "\n",
      "Catalogue index: 1\n",
      "Parameters from CSV: {'h': 0.89233252, 'logA': 2.87202526, 'n_s': 0.94435259, 'Ob0h2': 0.02449334, 'Oc0h2': 0.12588283}\n",
      "Generating Catalogue 1\n",
      "Sky frac 1.0\n",
      "N clusters: 63927\n",
      "Time generation (s): 7.164183139801025\n",
      "\n",
      "=== Finished 2 catalogues in 24.85 s (0.4 min) ===\n"
     ]
    }
   ],
   "source": [
    "t_global_start = time.time()\n",
    "\n",
    "for idx in indices:\n",
    "    print(f\"\\nCatalogue index: {idx}\")\n",
    "    param_path = os.path.join(param_dir, param_tpl.format(idx=idx))\n",
    "    params = load_params_from_csv(param_path)\n",
    "    print(\"Parameters from CSV:\", params)\n",
    "\n",
    "    # Update cosmology from the CSV (ignore the last four irrelevant params)\n",
    "    cosmo_params[\"h\"] = params[\"h\"]\n",
    "    cosmo_params[\"logA\"] = params[\"logA\"]\n",
    "    cosmo_params[\"n_s\"] = params[\"n_s\"]\n",
    "    cosmo_params[\"Ob0h2\"] = params[\"Ob0h2\"]\n",
    "    cosmo_params[\"Oc0h2\"] = params[\"Oc0h2\"]\n",
    "\n",
    "    number_counts.update_params(cosmo_params, scal_rel_params)\n",
    "\n",
    "    # Reproducible seed per catalogue\n",
    "    unique_seed = 20000401 + int(idx)\n",
    "    np.random.seed(unique_seed)\n",
    "\n",
    "    t0 = time.time()\n",
    "    print(\"Generating Catalogue\", idx)\n",
    "    cat_gen = cnc.catalogue_generator(\n",
    "        number_counts=number_counts,\n",
    "        n_catalogues=n_catalogues,\n",
    "        seed=unique_seed,\n",
    "        get_sky_coords=get_sky_coords,\n",
    "        sky_frac=sky_frac,\n",
    "    )\n",
    "    cat_gen.generate_catalogues_hmf()\n",
    "    catalogue_list = cat_gen.catalogue_list\n",
    "    catalogue = catalogue_list[0]\n",
    "\n",
    "    M = catalogue[\"M\"]\n",
    "    z = catalogue[\"z\"]\n",
    "    print(\"N clusters:\", len(M))\n",
    "    print(\"Time generation (s):\", time.time() - t0)\n",
    "\n",
    "    np.save(save_tpl.format(idx=idx), catalogue_list)\n",
    "\n",
    "t_total = time.time() - t_global_start\n",
    "print(f\"\\n=== Finished {len(indices)} catalogues in {t_total:.2f} s ({t_total/60:.1f} min) ===\")"
   ]
  }
 ],
 "metadata": {
  "kernelspec": {
   "display_name": "cmbagent_env",
   "language": "python",
   "name": "python3"
  },
  "language_info": {
   "codemirror_mode": {
    "name": "ipython",
    "version": 3
   },
   "file_extension": ".py",
   "mimetype": "text/x-python",
   "name": "python",
   "nbconvert_exporter": "python",
   "pygments_lexer": "ipython3",
   "version": "3.12.2"
  }
 },
 "nbformat": 4,
 "nbformat_minor": 5
}
