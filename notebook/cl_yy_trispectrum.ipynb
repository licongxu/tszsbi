{
 "cells": [
  {
   "cell_type": "markdown",
   "metadata": {},
   "source": [
    "# Compute tSZ power spectrum with JAX"
   ]
  },
  {
   "cell_type": "markdown",
   "metadata": {},
   "source": [
    "## Initialize"
   ]
  },
  {
   "cell_type": "code",
   "execution_count": 470,
   "metadata": {},
   "outputs": [],
   "source": [
    "import numpy as np\n",
    "import mcfit\n",
    "from mcfit import TophatVar\n",
    "import jax\n",
    "import jax.numpy as jnp\n",
    "import jax.scipy as jscipy\n",
    "from jax.scipy.interpolate import RegularGridInterpolator\n",
    "# from jax.scipy.integrate import trapezoid\n",
    "import functools\n",
    "import matplotlib.pyplot as plt\n",
    "from classy_sz import Class as Class_sz\n",
    "# from scipy.integrate import simpson"
   ]
  },
  {
   "cell_type": "code",
   "execution_count": 471,
   "metadata": {},
   "outputs": [],
   "source": [
    "allpars = {\n",
    "    'omega_b': 0.02,\n",
    "    'omega_cdm':  0.12,\n",
    "    'H0': 80., \n",
    "    'tau_reio': 0.0561,\n",
    "    'ln10^{10}A_s': 3.047,\n",
    "    'n_s': 0.9665, \n",
    "    \"cosmo_model\": 0, # 1: use mnu-lcdm emulators; 0: use lcdm with fixed neutrino mass\n",
    "\n",
    "    \"ell_min\" : 2,\n",
    "    \"ell_max\" : 8000,\n",
    "\n",
    "    'dlogell': 0.2,\n",
    "    'z_min' : 0.005,\n",
    "    'z_max' : 3.0,\n",
    "    'M_min' : 1.0e10, \n",
    "    'M_max' : 3.5e15,\n",
    "    \n",
    "    \"P0GNFW\": 8.130,\n",
    "    \"c500\": 1.156,\n",
    "    \"gammaGNFW\": 0.3292,\n",
    "    \"alphaGNFW\": 1.0620,\n",
    "    \"betaGNFW\":5.4807,\n",
    "    \"B\": 1.2,\n",
    "    \"jax\": 1,\n",
    "}"
   ]
  },
  {
   "cell_type": "code",
   "execution_count": 472,
   "metadata": {},
   "outputs": [
    {
     "name": "stderr",
     "output_type": "stream",
     "text": [
      "/Users/licongxu/envs/jax_env/lib/python3.12/site-packages/IPython/core/interactiveshell.py:3577: DeprecationWarning: compute_class_szfast is deprecated. Use initialize_classy_szfast instead.\n",
      "  exec(code_obj, self.user_global_ns, self.user_ns)\n"
     ]
    }
   ],
   "source": [
    "classy_sz = Class_sz()\n",
    "classy_sz.set(allpars)\n",
    "classy_sz.set({\n",
    "# 'output':'',\n",
    "'pressure_profile':'GNFW', # can be Battaglia, Arnaud, etc\n",
    "})\n",
    "classy_sz.compute_class_szfast()\n",
    "# par_dict = classy_sz.get_all_relevant_params()"
   ]
  },
  {
   "cell_type": "code",
   "execution_count": 473,
   "metadata": {},
   "outputs": [],
   "source": [
    "# pks, ks = classy_sz.get_pkl_at_z(1, params_values_dict=par_dict)\n",
    "# pks"
   ]
  },
  {
   "cell_type": "markdown",
   "metadata": {},
   "source": [
    "## Define Hankel transform of pressure profile"
   ]
  },
  {
   "cell_type": "code",
   "execution_count": 474,
   "metadata": {},
   "outputs": [],
   "source": [
    "def gnfw_pressure_profile(x, z, m, params_values_dict = None):\n",
    "    \"\"\"\n",
    "    GNFW pressure profile\n",
    "    \"\"\"\n",
    "    # Obtain cosmological parameters from classy_sz\n",
    "    rparams = classy_sz.get_all_relevant_params(params_values_dict = params_values_dict)\n",
    "    # rparams = classy_sz.pars\n",
    "    conv_fac = 299792.458 # speed of light\n",
    "    h = rparams['H0']/100\n",
    "    H = classy_sz.get_hubble_at_z(z, params_values_dict = params_values_dict) * conv_fac  # Hubble parameter at given z\n",
    "    H0 = rparams['H0']  # Hubble parameter at z=0\n",
    "\n",
    "    # GNFW prefactor\n",
    "    B = rparams['B']    \n",
    "    m_delta_tilde = (m / B) # convert to M_sun \n",
    "    C = 1.65 * (h / 0.7)**2 * (H / H0)**(8 / 3) * (m_delta_tilde / (0.7 * 3e14))**(2 / 3 + 0.12) * (0.7/h)**1.5 # eV cm^-3\n",
    "    # C = 1.65 * (h / 0.7)**2 * (H / H0)**(8 / 3) * (m_delta_tilde / (0.7 * 3e14))**(2 / 3 + 0.12) # eV cm^-3\n",
    "    c500 = rparams['c500']\n",
    "    gamma = rparams['gammaGNFW']\n",
    "    alpha = rparams['alphaGNFW']\n",
    "    beta = rparams['betaGNFW']\n",
    "    P0 = rparams['P0GNFW']\n",
    "\n",
    "    # Calculate scaled radius and pressure profile\n",
    "    scaled_x = c500 * x\n",
    "    term1 = scaled_x**(-gamma)\n",
    "    term2 = (1 + scaled_x**alpha)**((gamma - beta) / alpha)\n",
    "    Pe = C * P0 * term1 * term2\n",
    "\n",
    "    return Pe\n"
   ]
  },
  {
   "cell_type": "code",
   "execution_count": 475,
   "metadata": {},
   "outputs": [],
   "source": [
    "def window_function(x, x_min, x_max):\n",
    "    \"\"\"\n",
    "    Since the integral is between x_min and x_max\n",
    "    \"\"\"\n",
    "\n",
    "    return np.where((x >= x_min) & (x <= x_max), 1.0, 0.0)"
   ]
  },
  {
   "cell_type": "code",
   "execution_count": 476,
   "metadata": {},
   "outputs": [],
   "source": [
    "def hankel_integrand(x, z, m, x_min=1e-6, x_max=4, params_values_dict = None):\n",
    "    \"\"\"\n",
    "    Compute x^0.5 * Pe(x) * W(x).\n",
    "    Handles x and m as arrays using vmap for vectorization.\n",
    "    \"\"\"\n",
    "    # Vectorize over m\n",
    "    def single_m(m_val, params_values_dict = params_values_dict):\n",
    "        # Compute GNFW pressure profile for given m\n",
    "        Pe = gnfw_pressure_profile(x, z, m_val, params_values_dict = params_values_dict)\n",
    "        \n",
    "        # Compute the window function\n",
    "        W_x = window_function(x, x_min, x_max)\n",
    "        \n",
    "        # Combine the result\n",
    "        return x**0.5 * Pe * W_x\n",
    "    \n",
    "    # Apply vmap to vectorize over m\n",
    "    result = jax.vmap(single_m)(m)\n",
    "    \n",
    "    return result  # Shape: (len(m), len(x))"
   ]
  },
  {
   "cell_type": "code",
   "execution_count": 477,
   "metadata": {},
   "outputs": [],
   "source": [
    "def mpc_per_h_to_cm(mpc_per_h, h):\n",
    "    \"\"\"\n",
    "    Converts a distance in Mpc/h to centimeters.\n",
    "    \"\"\"\n",
    "    # 1 megaparsec (Mpc) in centimeters\n",
    "    Mpc_to_cm = 3.085677581e24  # cm\n",
    "\n",
    "    # Convert Mpc/h to Mpc by dividing by h\n",
    "    mpc = mpc_per_h / h\n",
    "\n",
    "    # Convert Mpc to cm\n",
    "    cm = mpc * Mpc_to_cm\n",
    "\n",
    "    return cm"
   ]
  },
  {
   "cell_type": "code",
   "execution_count": 478,
   "metadata": {},
   "outputs": [],
   "source": [
    "def y_ell_prefactor(z, m, delta = 500, params_values_dict = None): \n",
    "    \n",
    "    rparams = classy_sz.get_all_relevant_params(params_values_dict = params_values_dict)\n",
    "    # rparams = classy_sz.pars\n",
    "    h = rparams['H0']/100\n",
    "    B = rparams['B']\n",
    "\n",
    "    # print(rparams)\n",
    "    me_in_eV = 510998.95 # electron mass in eV/c^2\n",
    "    # me_in_eV = 511000 # electron mass in eV/c^2\n",
    "    sigmat_cm = 6.6524587321e-25 # Thomson cross section in cm^2\n",
    "    sigmat_over_mec2 = sigmat_cm / me_in_eV\n",
    "    # sigmat_over_mec2 = 283.2980000259841 / 0.5176\n",
    "\n",
    "    dAz = classy_sz.get_angular_distance_at_z(z,params_values_dict = params_values_dict)*h\n",
    "    # dAz = classy_sz.get_angular_distance_at_z(z,params_values_dict = params_values_dict)/(1+z)*h # in Mpc/h\n",
    "    r_delta = classy_sz.get_r_delta_of_m_delta_at_z(delta, m, z, params_values_dict = params_values_dict)/(B**(1/3))  # in Mpc/h\n",
    "    ell_delta = dAz/r_delta\n",
    "    # print(ell_delta)\n",
    "    h = rparams['H0']/100\n",
    "\n",
    "    r_delta_cm = mpc_per_h_to_cm(r_delta, h)  # r is in cm \n",
    "    # print(r_delta_cm/ell_delta**2)\n",
    "    # print(sigmat_over_mec2)\n",
    "\n",
    "    prefactor = sigmat_over_mec2 * 4 * np.pi * r_delta_cm/(ell_delta**2)\n",
    "\n",
    "    return prefactor"
   ]
  },
  {
   "cell_type": "code",
   "execution_count": 479,
   "metadata": {},
   "outputs": [],
   "source": [
    "def y_ell_complete(z, m, x_min=1e-6, x_max=4, params_values_dict = None):\n",
    "\n",
    "    rparams = classy_sz.get_all_relevant_params(params_values_dict = params_values_dict)\n",
    "    h = rparams['H0']/100\n",
    "    B = rparams['B']\n",
    "    \n",
    "    prefactor = y_ell_prefactor(z, m, params_values_dict=params_values_dict)\n",
    "    # print(prefactor)\n",
    "    # Define x in logarithmic space\n",
    "    x = jnp.logspace(jnp.log10(1e-4), jnp.log10(1e5), num=1024)  # Avoid x = 0 to prevent divergence\n",
    "\n",
    "    integrand = hankel_integrand(x, z, m, x_min=1e-6, x_max=4, params_values_dict=params_values_dict)\n",
    "    # print(integrand)\n",
    "\n",
    "    # Hankel transform with JAX\n",
    "    H = mcfit.Hankel(x, nu=0.5, lowring=True, backend='jax') \n",
    "    H_jit = jax.jit(functools.partial(H, extrap=False))\n",
    "\n",
    "    k, y_k = H_jit(integrand) # Note that k = ell/ell_delta\n",
    "    # print(k)\n",
    "    # print(y_k)\n",
    "\n",
    "    dAz = classy_sz.get_angular_distance_at_z(z, params_values_dict = params_values_dict) * h # in Mpc/h\n",
    "    # dAz = classy_sz.get_angular_distance_at_z(z,params_values_dict = params_values_dict)/(1+z)*h # in Mpc/h\n",
    "\n",
    "    delta = 500\n",
    "    r_delta = classy_sz.get_r_delta_of_m_delta_at_z(delta, m, z, params_values_dict = params_values_dict)/(B**(1/3))  # in Mpc/h\n",
    "    # print(r_delta)\n",
    "    ell_delta = dAz/r_delta\n",
    "    # print(ell_delta)\n",
    "\n",
    "    ell = jnp.zeros(ell_delta.shape)\n",
    "    # ell = k * ell_delta  # Note that k = ell/ell_delta\n",
    "    ell = k[None, :] * ell_delta[:, None]\n",
    "    # print(\"shape  of ell:\", ell.shape)\n",
    "\n",
    "\n",
    "    # print(\"shape of k:\", k.shape)\n",
    "    # print(\"shape of ell_delta:\", ell_delta.shape)\n",
    "\n",
    "    # print(ell)\n",
    "    # print(ell_delta[:, None].shape)\n",
    "    # print(k[None, :])\n",
    "    # print(y_k.shape)\n",
    "    # print(prefactor.shape)\n",
    "    # print(prefactor[:, None])\n",
    "\n",
    "    # y_ell = prefactor * y_k * np.sqrt(np.pi/(2*k)) # multiply the prefactor of spherical Bessel to Hankel\n",
    "    y_ell = prefactor[:, None] * y_k * jnp.sqrt(jnp.pi / (2 * k[None, :]))\n",
    "\n",
    "    return ell, y_ell"
   ]
  },
  {
   "cell_type": "markdown",
   "metadata": {},
   "source": [
    "## Interpolator of $y_\\ell$"
   ]
  },
  {
   "cell_type": "code",
   "execution_count": 480,
   "metadata": {},
   "outputs": [],
   "source": [
    "def y_ell_interpolate(z, m, params_values_dict = None):\n",
    "    \"\"\"\n",
    "    Interpolate y_ell values onto a uniform ell grid for multiple m values.\n",
    "    \"\"\"\n",
    "    # Get cosmological parameters\n",
    "    rparams = classy_sz.get_all_relevant_params(params_values_dict = params_values_dict)\n",
    "    l_min = rparams['ell_min']\n",
    "    l_max = rparams['ell_max']\n",
    "    dlogell = rparams['dlogell']\n",
    "\n",
    "\n",
    "    log10_l_min = jnp.log10(l_min)\n",
    "    log10_l_max = jnp.log10(l_max)\n",
    "    num = int((log10_l_max - log10_l_min) / dlogell) + 1\n",
    "    # print(num)\n",
    "\n",
    "    # Compute the complete y_ell values\n",
    "    ell_nointer_list, y_ell_nointer_list = y_ell_complete(z, m, params_values_dict = params_values_dict)\n",
    "\n",
    "    # Define evaluation ell values (uniform grid)\n",
    "    # ell_eval = jnp.logspace(log10_l_min, log10_l_max, num=num)\n",
    "    ell_eval = get_ell_range()\n",
    "\n",
    "    # Interpolator function for a single m\n",
    "    def interpolate_single(ell_nointer, y_ell_nointer):\n",
    "        interpolator = RegularGridInterpolator((ell_nointer,), y_ell_nointer, method='linear', bounds_error=False, fill_value=None)\n",
    "        return interpolator(ell_eval)\n",
    "\n",
    "    # Vectorize the interpolation across all m\n",
    "    interpolate_all = jax.vmap(interpolate_single, in_axes=(0, 0), out_axes=0)\n",
    "\n",
    "    # Perform the interpolation\n",
    "    y_ell_eval_list = interpolate_all(ell_nointer_list, y_ell_nointer_list)\n",
    "\n",
    "    return ell_eval, y_ell_eval_list\n"
   ]
  },
  {
   "cell_type": "code",
   "execution_count": 481,
   "metadata": {},
   "outputs": [
    {
     "data": {
      "image/png": "[encoded data removed]",
      "text/plain": [
       "<Figure size 640x480 with 1 Axes>"
      ]
     },
     "metadata": {},
     "output_type": "display_data"
    }
   ],
   "source": [
    "m = jnp.array([1e10])\n",
    "z = 1\n",
    "ell = y_ell_interpolate(z, m, params_values_dict=allpars)[0]\n",
    "y_ell = y_ell_interpolate(z, m, params_values_dict=allpars)[1][0]\n",
    "plt.plot(ell, y_ell, label='Interpolation', color='r')\n",
    "# print(ell)\n",
    "ell_no_inter = y_ell_complete(z, m, params_values_dict = allpars)[0][0]\n",
    "y_ell_no_inter = y_ell_complete(z, m, params_values_dict = allpars)[1][0]\n",
    "plt.plot(ell_no_inter, y_ell_no_inter, label='No Interpolation', color='b') \n",
    "plt.xlim(1,1e5)\n",
    "# plt.ylim(1.5e-25,3e-25)\n",
    "plt.ylabel(r'$y_{\\ell}$')\n",
    "plt.xlabel(r'$\\ell$')\n",
    "plt.xscale('log')\n",
    "# plt.yscale('log')\n",
    "plt.legend()\n",
    "plt.show()"
   ]
  },
  {
   "cell_type": "markdown",
   "metadata": {},
   "source": [
    "## Halo Mass Function (T08500c)"
   ]
  },
  {
   "cell_type": "code",
   "execution_count": 482,
   "metadata": {},
   "outputs": [],
   "source": [
    "def MF_T08(sigmas, z, delta_mean):\n",
    "    # Convert delta_mean to log scale\n",
    "    delta_mean = jnp.log10(delta_mean)\n",
    "\n",
    "    # Define parameters as JAX arrays\n",
    "    delta_mean_tab = jnp.log10(jnp.array([200, 300, 400, 600, 800, 1200, 1600, 2400, 3200]))\n",
    "    A_tab = jnp.array([0.186, 0.200, 0.212, 0.218, 0.248, 0.255, 0.260, 0.260, 0.260])\n",
    "    aa_tab = jnp.array([1.47, 1.52, 1.56, 1.61, 1.87, 2.13, 2.30, 2.53, 2.66])\n",
    "    b_tab = jnp.array([2.57, 2.25, 2.05, 1.87, 1.59, 1.51, 1.46, 1.44, 1.41])\n",
    "    c_tab = jnp.array([1.19, 1.27, 1.34, 1.45, 1.58, 1.80, 1.97, 2.24, 2.44])\n",
    "\n",
    "    # Linear interpolation using jnp.interp\n",
    "    Ap = jnp.interp(delta_mean, delta_mean_tab, A_tab) * (1 + z) ** -0.14\n",
    "    a = jnp.interp(delta_mean, delta_mean_tab, aa_tab) * (1 + z) ** -0.06\n",
    "    b = jnp.interp(delta_mean, delta_mean_tab, b_tab) * (1 + z) ** -jnp.power(10, -jnp.power(0.75 / jnp.log10(jnp.power(10, delta_mean) / 75), 1.2))\n",
    "    c = jnp.interp(delta_mean, delta_mean_tab, c_tab)\n",
    "\n",
    "    # print(a.shape,b.shape,c.shape,Ap.shape,sigmas.shape)\n",
    "\n",
    "    # Calculate final result\n",
    "    result = 0.5 * Ap[:,None] * (jnp.power(sigmas / b[:, None], -a[:, None]) + 1) * jnp.exp(-c[:, None] / sigmas**2)\n",
    "\n",
    "    return result"
   ]
  },
  {
   "cell_type": "code",
   "execution_count": 483,
   "metadata": {},
   "outputs": [],
   "source": [
    "def MF_T08(sigmas, z, delta_mean):\n",
    "    # Convert delta_mean to log scale\n",
    "    delta_mean = jnp.log10(delta_mean)\n",
    "    \n",
    "    # Define parameters as JAX arrays\n",
    "    delta_mean_tab = jnp.log10(jnp.array([200, 300, 400, 600, 800, 1200, 1600, 2400, 3200]))\n",
    "    A_tab = jnp.array([0.186, 0.200, 0.212, 0.218, 0.248, 0.255, 0.260, 0.260, 0.260])\n",
    "    aa_tab = jnp.array([1.47, 1.52, 1.56, 1.61, 1.87, 2.13, 2.30, 2.53, 2.66])\n",
    "    b_tab = jnp.array([2.57, 2.25, 2.05, 1.87, 1.59, 1.51, 1.46, 1.44, 1.41])\n",
    "    c_tab = jnp.array([1.19, 1.27, 1.34, 1.45, 1.58, 1.80, 1.97, 2.24, 2.44])\n",
    "\n",
    "    # Linear interpolation using jnp.interp\n",
    "    Ap = jnp.interp(delta_mean, delta_mean_tab, A_tab) * (1 + z) ** -0.14\n",
    "    a = jnp.interp(delta_mean, delta_mean_tab, aa_tab) * (1 + z) ** -0.06\n",
    "    b = jnp.interp(delta_mean, delta_mean_tab, b_tab) * (1 + z) ** -jnp.power(10, -jnp.power(0.75 / jnp.log10(jnp.power(10, delta_mean) / 75), 1.2))\n",
    "    c = jnp.interp(delta_mean, delta_mean_tab, c_tab)\n",
    "    \n",
    "    # print(a.shape,b.shape,c.shape,Ap.shape,sigmas.shape)\n",
    "\n",
    "    # Calculate final result\n",
    "    result = 0.5 * Ap[:,None] * (jnp.power(sigmas / b[:, None], -a[:, None]) + 1) * jnp.exp(-c[:, None] / sigmas**2)\n",
    "\n",
    "    return result"
   ]
  },
  {
   "cell_type": "code",
   "execution_count": 484,
   "metadata": {},
   "outputs": [],
   "source": [
    "def get_hmf_grid(delta = 500, delta_def = 'critical', params_values_dict = None):\n",
    "    \n",
    "    rparams = classy_sz.get_all_relevant_params(params_values_dict = params_values_dict)\n",
    "    # print(rparams)\n",
    "    h = rparams['h']\n",
    "    ## initialize (get ks)\n",
    "    z = 1.\n",
    "    _,ks = classy_sz.get_pkl_at_z(z,params_values_dict = params_values_dict)\n",
    "\n",
    "    # Define a single function for `get_pkl_at_z` calls\n",
    "    def get_pks_for_z(zp):\n",
    "        pks, ks = classy_sz.get_pkl_at_z(zp, params_values_dict= params_values_dict)\n",
    "        # print(pks)\n",
    "        return pks.flatten()\n",
    "\n",
    "    # Vectorize this function over `z_grid`\n",
    "    z_grid = classy_sz.z_grid()\n",
    "    P = jax.vmap(get_pks_for_z)(z_grid).T\n",
    "\n",
    "    # %timeit P = jax.vmap(get_pks_for_z)(z_grid).T\n",
    "\n",
    "    # Vectorize the TophatVar function over `z_grid`\n",
    "    def compute_tophat_var(pks, ks):\n",
    "        _, var_z = TophatVar(ks, lowring=True, backend='jax')(pks, extrap=True)\n",
    "        return var_z\n",
    "\n",
    "    # Apply the function to each column of P\n",
    "    var = jax.vmap(compute_tophat_var, in_axes=(1, None))(P, ks)\n",
    "\n",
    "\n",
    "    # # Vectorize the TophatVar function over `z_grid`\n",
    "    # def compute_tophat_dvar(pks, ks):\n",
    "    #     #analytical derivatives\n",
    "    #     rvar, var_z = TophatVar(ks, lowring=True, backend='jax',deriv=1)(pks*ks, extrap=True) \n",
    "        \n",
    "    #     #numerical derivatives\n",
    "    #     # var_z = jnp.gradient(jnp.sqrt(var),rvar)*2.*jnp.sqrt(var)\n",
    "    #     # cosmocnc:  TophatVar(self.k,lowring=True,deriv=1)(self.pk*self.k,extrap=True)\n",
    "    #     return var_z\n",
    "        # Vectorize the TophatVar function over `z_grid`\n",
    "    def compute_tophat_dvar(pks, ks, var = var):\n",
    "        # analytical method: ... doesnt work.....!\n",
    "        # rvar , dvar_z = TophatVar(ks, lowring=True, backend='jax',deriv=1)(pks*ks, extrap=True)\n",
    "        # numerical method: \n",
    "        rvar, var_z = TophatVar(ks, lowring=True, backend='jax')(pks, extrap=True)\n",
    "        dvar_z = jnp.gradient(jnp.sqrt(var_z),rvar)*2.*jnp.sqrt(var_z)\n",
    "        return dvar_z\n",
    "\n",
    "\n",
    "    # Apply the function to each column of P\n",
    "    dvar = jax.vmap(compute_tophat_dvar, in_axes=(1, None))(P, ks)\n",
    "    # %timeit dvar = jax.vmap(compute_tophat_dvar, in_axes=(1, None))(P, ks)\n",
    "\n",
    "\n",
    "    # Step 4: Compute gradient of var with respect to R\n",
    "    # Assuming R is uniform across z_grid, use the first R from TophatVar\n",
    "    R, _ = TophatVar(ks, lowring=True, backend='jax')(P[:, 0], extrap=True)\n",
    "    R = R.flatten()  # Ensure R has shape (1000,)\n",
    "    lnr_grid = jnp.log(R)\n",
    "    lnx_grid = jnp.log(1+z_grid)\n",
    "    \n",
    "    \n",
    "    \n",
    "    lnsigma_grid = 0.5*jnp.log(var)\n",
    "    \n",
    "    # dvar = R*jnp.gradient(var, jnp.log(R))\n",
    "    dsigma2_grid = dvar\n",
    "\n",
    "    \n",
    "    Rh = R*rparams['h']\n",
    "\n",
    "    lnm_grid = jnp.log(4*jnp.pi*rparams['Omega0_cb']*rparams['Rho_crit_0']*Rh**3/3.) # in h-units\n",
    "    \n",
    "    # Define the interpolator\n",
    "    # lnsigma_interpolator = jscipy.interpolate.RegularGridInterpolator((lnx_grid, lnm_grid), lnsigma_grid)\n",
    "    # dsigma2_interpolator = jscipy.interpolate.RegularGridInterpolator((lnx_grid, lnm_grid), dsigma2_grid)\n",
    "    # print(jnp.exp(lnm_grid)[0],jnp.exp(lnm_grid)[-1])\n",
    "    if delta_def == 'critical':\n",
    "        delta_mean = classy_sz.get_delta_mean_from_delta_crit_at_z(delta,z_grid,params_values_dict = params_values_dict)\n",
    "    elif delta_def == 'mean':\n",
    "        delta_mean = jnp.full_like(z_grid, delta)\n",
    "    else:\n",
    "        print(\"Not implemened yet\")\n",
    "    # print(delta_mean[0],delta_mean[-1])\n",
    "    \n",
    "    \n",
    "    delta_c =  (3./20.)*jnp.power(12.*jnp.pi,2./3.) # this is = 1.686470199841145\n",
    "    # print(delta_c)\n",
    "    # note here we dont use matter dependent delta_c\n",
    "    # which would be multiplied by (1.+0.012299*log10(pvecback[pba->index_bg_Omega_m]));\n",
    "    \n",
    "    \n",
    "    sigmas = jnp.exp(lnsigma_grid)\n",
    "    nus = (delta_c/sigmas)**2 ## currently for book keeping\n",
    "    # print(\"nus\",nus.shape)\n",
    "    # print(\"sigmas shape\",sigmas.shape)\n",
    "    # print(\"z_grid shape\",z_grid.shape)\n",
    "    # print(\"delta_mean shape\",delta_mean.shape)\n",
    "    \n",
    "    hmf = MF_T08(sigmas, z_grid, delta_mean)\n",
    "    # print(\"hmf shape\",hmf.shape)\n",
    "\n",
    "    lnSigma2 = 2.*lnsigma_grid\n",
    "    dlnsigmadlnR = dsigma2_grid/2.\n",
    "    dlnSigma2dlnR = 2.*dlnsigmadlnR*R/jnp.exp(lnSigma2)\n",
    "    dlnnudlnRh = -dlnSigma2dlnR\n",
    "    \n",
    "    # Return dn/dlogM in units of h^3 Mpc^-3\n",
    "    dndlnm_grid = 1./3.*3./(4.*jnp.pi*Rh**3)*dlnnudlnRh*hmf\n",
    "    return lnx_grid,lnm_grid,dndlnm_grid"
   ]
  },
  {
   "cell_type": "code",
   "execution_count": 485,
   "metadata": {},
   "outputs": [],
   "source": [
    "def get_hmf_at_z_and_m(z,m,params_values_dict = None):\n",
    "    lnx, lnm, dndlnm = get_hmf_grid(delta = 500, delta_def = 'critical', params_values_dict = params_values_dict)\n",
    "    hmf_interp = jscipy.interpolate.RegularGridInterpolator((lnx, lnm), jnp.log(dndlnm))\n",
    "    lnxp = jnp.log(1.+z)\n",
    "    lnmp = jnp.log(m)\n",
    "    return jnp.exp(hmf_interp((lnxp,lnmp)))"
   ]
  },
  {
   "cell_type": "code",
   "execution_count": 486,
   "metadata": {},
   "outputs": [
    {
     "data": {
      "text/plain": [
       "(10000000000.0, 1000000000000000.0)"
      ]
     },
     "execution_count": 486,
     "metadata": {},
     "output_type": "execute_result"
    },
    {
     "data": {
      "image/png": "[encoded data removed]",
      "text/plain": [
       "<Figure size 640x480 with 1 Axes>"
      ]
     },
     "metadata": {},
     "output_type": "display_data"
    }
   ],
   "source": [
    "m = jnp.geomspace(1e10,3.5e15,100)\n",
    "# m = 3e14\n",
    "for z in [0,1,2]:\n",
    "    dndlnm = get_hmf_at_z_and_m(z,m,params_values_dict = allpars)\n",
    "    # print(dndlnm)\n",
    "    plt.plot(m,dndlnm)\n",
    "plt.loglog()\n",
    "plt.grid(which='both',alpha=0.1)\n",
    "plt.ylim(1e-6,2e-1)\n",
    "plt.xlim(1e10,1e15)"
   ]
  },
  {
   "cell_type": "markdown",
   "metadata": {},
   "source": [
    "## Comoving Volume factor"
   ]
  },
  {
   "cell_type": "code",
   "execution_count": 487,
   "metadata": {},
   "outputs": [],
   "source": [
    "def dVdzdOmega(z, params_values_dict = None):\n",
    "\n",
    "    rparams = classy_sz.get_all_relevant_params(params_values_dict = params_values_dict)\n",
    "    h = rparams['h']\n",
    "    dAz = classy_sz.get_angular_distance_at_z(z,params_values_dict = params_values_dict) * h\n",
    "    # dAz = classy_sz.get_angular_distance_at_z(z,params_values_dict = cosmo_params)/(1+z)*h # in Mpc/h\n",
    "    Hz = classy_sz.get_hubble_at_z(z,params_values_dict = params_values_dict) / h # in Mpc^(-1) h\n",
    "    # print(Hz)\n",
    "\n",
    "    return (1+z)**2*dAz**2/Hz"
   ]
  },
  {
   "cell_type": "markdown",
   "metadata": {},
   "source": [
    "## Simpson Integration in JAX (c.f. Inigo's modification)"
   ]
  },
  {
   "cell_type": "code",
   "execution_count": 488,
   "metadata": {},
   "outputs": [],
   "source": [
    "def simpson(y, *, x=None, dx=1.0, axis=-1):\n",
    "    y = jnp.asarray(y)\n",
    "    nd = len(y.shape)\n",
    "    N = y.shape[axis]\n",
    "    last_dx = dx\n",
    "    returnshape = 0\n",
    "    if x is not None:\n",
    "        x = jnp.asarray(x)\n",
    "        if len(x.shape) == 1:\n",
    "            shapex = [1] * nd\n",
    "            shapex[axis] = x.shape[0]\n",
    "            saveshape = x.shape\n",
    "            returnshape = 1\n",
    "            x = x.reshape(tuple(shapex))\n",
    "        elif len(x.shape) != len(y.shape):\n",
    "            raise ValueError(\"If given, shape of x must be 1-D or the \"\n",
    "                             \"same as y.\")\n",
    "        if x.shape[axis] != N:\n",
    "            raise ValueError(\"If given, length of x along axis must be the \"\n",
    "                             \"same as y.\")\n",
    "    if N % 2 == 0:\n",
    "        val = 0.0\n",
    "        result = 0.0\n",
    "        slice_all = (slice(None),) * nd\n",
    "        if N == 2:\n",
    "            # need at least 3 points in integration axis to form parabolic\n",
    "            # segment. If there are two points then any of 'avg', 'first',\n",
    "            # 'last' should give the same result.\n",
    "            slice1 = tupleset(slice_all, axis, -1)\n",
    "            slice2 = tupleset(slice_all, axis, -2)\n",
    "            if x is not None:\n",
    "                last_dx = x[slice1] - x[slice2]\n",
    "            val += 0.5 * last_dx * (y[slice1] + y[slice2])\n",
    "        else:\n",
    "            # use Simpson's rule on first intervals\n",
    "            result = _basic_simpson(y, 0, N-3, x, dx, axis)\n",
    "            slice1 = tupleset(slice_all, axis, -1)\n",
    "            slice2 = tupleset(slice_all, axis, -2)\n",
    "            slice3 = tupleset(slice_all, axis, -3)\n",
    "            h = jnp.asarray([dx, dx], dtype=jnp.float64)\n",
    "            if x is not None:\n",
    "                # grab the last two spacings from the appropriate axis\n",
    "                hm2 = tupleset(slice_all, axis, slice(-2, -1, 1))\n",
    "                hm1 = tupleset(slice_all, axis, slice(-1, None, 1))\n",
    "                diffs = jnp.float64(jnp.diff(x, axis=axis))\n",
    "                h = [jnp.squeeze(diffs[hm2], axis=axis),\n",
    "                     jnp.squeeze(diffs[hm1], axis=axis)]\n",
    "            num = 2 * h[1] ** 2 + 3 * h[0] * h[1]\n",
    "            den = 6 * (h[1] + h[0])\n",
    "            alpha = jnp.true_divide(\n",
    "                num,\n",
    "                den,\n",
    "            )\n",
    "            num = h[1] ** 2 + 3.0 * h[0] * h[1]\n",
    "            den = 6 * h[0]\n",
    "            beta = jnp.true_divide(\n",
    "                num,\n",
    "                den,\n",
    "            )\n",
    "            num = 1 * h[1] ** 3\n",
    "            den = 6 * h[0] * (h[0] + h[1])\n",
    "            eta = jnp.true_divide(\n",
    "                num,\n",
    "                den,\n",
    "            )\n",
    "            result += alpha*y[slice1] + beta*y[slice2] - eta*y[slice3]\n",
    "        result += val\n",
    "    else:\n",
    "        result = _basic_simpson(y, 0, N-2, x, dx, axis)\n",
    "    if returnshape:\n",
    "        x = x.reshape(saveshape)\n",
    "    return result\n",
    "def _basic_simpson(y, start, stop, x, dx, axis):\n",
    "    nd = len(y.shape)\n",
    "    if start is None:\n",
    "        start = 0\n",
    "    step = 2\n",
    "    slice_all = (slice(None),)*nd\n",
    "    slice0 = tupleset(slice_all, axis, slice(start, stop, step))\n",
    "    slice1 = tupleset(slice_all, axis, slice(start+1, stop+1, step))\n",
    "    slice2 = tupleset(slice_all, axis, slice(start+2, stop+2, step))\n",
    "    if x is None:  # Even-spaced Simpson's rule.\n",
    "        result = jnp.sum(y[slice0] + 4.0*y[slice1] + y[slice2], axis=axis)\n",
    "        result *= dx / 3.0\n",
    "    else:\n",
    "        # Account for possibly different spacings.\n",
    "        #    Simpson's rule changes a bit.\n",
    "        h = jnp.diff(x, axis=axis)\n",
    "        sl0 = tupleset(slice_all, axis, slice(start, stop, step))\n",
    "        sl1 = tupleset(slice_all, axis, slice(start+1, stop+1, step))\n",
    "        h0 = h[sl0].astype(float)\n",
    "        h1 = h[sl1].astype(float)\n",
    "        hsum = h0 + h1\n",
    "        hprod = h0 * h1\n",
    "        h0divh1 = jnp.true_divide(h0, h1)\n",
    "        tmp = hsum/6.0 * (y[slice0] *\n",
    "                          (2.0 - jnp.true_divide(1.0, h0divh1)) +\n",
    "                          y[slice1] * (hsum *\n",
    "                                       jnp.true_divide(hsum, hprod)) +\n",
    "                          y[slice2] * (2.0 - h0divh1))\n",
    "        result = jnp.sum(tmp, axis=axis)\n",
    "    return result\n",
    "def tupleset(t, i, value):\n",
    "    l = list(t)\n",
    "    l[i] = value\n",
    "    return tuple(l)"
   ]
  },
  {
   "cell_type": "code",
   "execution_count": 489,
   "metadata": {},
   "outputs": [],
   "source": [
    "# def get_ell_range(params_values_dict = None):\n",
    "\n",
    "#     # Get cosmological parameters\n",
    "#     rparams = classy_sz.get_all_relevant_params(params_values_dict = params_values_dict)\n",
    "#     l_min = rparams['ell_min']\n",
    "#     l_max = rparams['ell_max']\n",
    "#     dlogell = rparams['dlogell']\n",
    "\n",
    "#     log10_l_min = jnp.log10(l_min)\n",
    "#     log10_l_max = jnp.log10(l_max)\n",
    "#     num = int((log10_l_max - log10_l_min) / dlogell) + 1\n",
    "#     # print(num)\n",
    "\n",
    "#     # Define evaluation ell values (uniform grid)\n",
    "#     ell_eval = jnp.logspace(log10_l_min, log10_l_max, num=num)\n",
    "    \n",
    "#     return ell_eval\n",
    "def get_ell_range():\n",
    "    # Predefined list of ell values\n",
    "    # ell_eval = jnp.array([10., 13.5, 18., 23.5, 30.5, 40., 52.5, 68.5, 89.5, \n",
    "    #                      117., 152.5, 198., 257.5, 335.5, 436.5, 567.5, 738., 959.5])\n",
    "    ell_eval = jnp.array([2.00000000e+00, 2.44280552e+00, 2.98364940e+00, 3.64423760e+00,\n",
    "       4.45108186e+00, 5.43656366e+00, 6.64023385e+00, 8.11039993e+00,\n",
    "       9.90606485e+00, 1.20992949e+01, 1.47781122e+01, 1.80500270e+01,\n",
    "       2.20463528e+01, 2.69274761e+01, 3.28892935e+01, 4.01710738e+01,\n",
    "       4.90650604e+01, 5.99282001e+01, 7.31964689e+01, 8.94023690e+01,\n",
    "       1.09196300e+02, 1.33372662e+02, 1.62901737e+02, 1.98968631e+02,\n",
    "       2.43020835e+02, 2.96826318e+02, 3.62544484e+02, 4.42812832e+02,\n",
    "       5.40852815e+02, 6.60599120e+02, 8.06857587e+02, 9.85498082e+02,\n",
    "       1.20369008e+03, 1.47019038e+03, 1.79569458e+03, 2.19326632e+03,\n",
    "       2.67886153e+03, 3.27196886e+03, 3.99639179e+03, 4.88120396e+03,\n",
    "       5.96191597e+03, 7.28190061e+03])\n",
    "    return ell_eval"
   ]
  },
  {
   "cell_type": "markdown",
   "metadata": {},
   "source": [
    "## Set up the integration grid"
   ]
  },
  {
   "cell_type": "code",
   "execution_count": 490,
   "metadata": {},
   "outputs": [],
   "source": [
    "def get_integral_grid(params_values_dict = None):\n",
    "    \n",
    "    rparams = classy_sz.get_all_relevant_params(params_values_dict = params_values_dict)\n",
    "    allparams = classy_sz.get_all_relevant_params(params_values_dict = params_values_dict)\n",
    "    \n",
    "\n",
    "    z_min = allparams['z_min']\n",
    "    z_max = allparams['z_max']\n",
    "    z_grid = jnp.geomspace(z_min, z_max, 100)\n",
    "    \n",
    "    h = rparams['h']\n",
    "    # Define an m_grid:\n",
    "    M_min = allparams['M_min']\n",
    "    M_max = allparams['M_max']\n",
    "    m_grid_yl = jnp.geomspace(M_min,M_max,100)\n",
    "    # m_grid_dndlnm = jnp.geomspace(M_min,M_max,100) * h\n",
    "\n",
    "\n",
    "    def get_yellm_for_z(zp):\n",
    "        ell, y_ellm = y_ell_interpolate(zp, m_grid_yl, params_values_dict = params_values_dict)\n",
    "        # print(y_ellm)\n",
    "        # print(ell.shape)\n",
    "        # ell, y_ellm = y_ell_complete(zp, m_grid_yl, params_values_dict=cosmo_params)\n",
    "        return ell, y_ellm\n",
    "    \n",
    "    def get_hmf_for_z(zp):\n",
    "        # dndlnm = get_hmf_at_z_and_m(z = zp, m=m_grid_dndlnm, params_values_dict=cosmo_params)\n",
    "        dndlnm = get_hmf_at_z_and_m(z = zp, m=m_grid_yl, params_values_dict= params_values_dict)\n",
    "        return dndlnm\n",
    " \n",
    "\n",
    "    # Vectorize this function over `z_grid`\n",
    "    # y_ell_mz_grid = jax.vmap(get_yellm_for_z)(z_grid)\n",
    "    ell, y_ell_mz_grid = jax.vmap(get_yellm_for_z)(z_grid)\n",
    "    # %timeit ell, y_ell_mz_grid = jax.vmap(get_yellm_for_z)(z_grid)\n",
    "    dndlnm_grid = jax.vmap(get_hmf_for_z)(z_grid)\n",
    "    # print(y_ell_mz_grid.shape)\n",
    "    # print(dndlnm_grid.shape)\n",
    "\n",
    "    # print(z_grid)\n",
    "    # print(y_ell_mz_grid)\n",
    "    # Ensure `dndlnm_grid` has a compatible shape for broadcasting\n",
    "    dndlnm_grid_expanded = dndlnm_grid[:, :, None]  # Shape becomes (100, 100, 1)\n",
    "\n",
    "    comov_vol = dVdzdOmega(z_grid, params_values_dict=params_values_dict)\n",
    "\n",
    "    # Expand comov_vol to align with the shape of `result`\n",
    "    comov_vol_expanded = comov_vol[:, None, None]  # Shape becomes (100, 1, 1)\n",
    "\n",
    "    # Perform element-wise multiplication\n",
    "    result = y_ell_mz_grid**2 * dndlnm_grid_expanded * comov_vol_expanded  # Shape becomes (100, 100, 18)= (dim_z, dim_m, dim_ell)\n",
    "    # result = y_ell_mz_grid\n",
    "    # prefactor = y_ell_prefactor(z_grid, m_grid_yl, params_values_dict=cosmo_params)\n",
    "\n",
    "    # Perform element-wise multiplication\n",
    "    # result = y_ell_mz_grid * dndlnm_grid_expanded  # Shape becomes (100, 100, 18)  \n",
    "    # print(result.shape) \n",
    "    # print(ell.shape)\n",
    "    return result\n",
    "    \n",
    "    "
   ]
  },
  {
   "cell_type": "code",
   "execution_count": 491,
   "metadata": {},
   "outputs": [],
   "source": [
    "def compute_integral(params_values_dict = None):\n",
    "\n",
    "    allparams = classy_sz.get_all_relevant_params(params_values_dict = params_values_dict)\n",
    "\n",
    "    integrand = get_integral_grid(params_values_dict = params_values_dict) # shape is (dim_z, dim_m, dim_ell) \n",
    "    # ell = get_integral_grid()[0]\n",
    "    # print(integrand.shape)\n",
    "    # print(ell.shape)\n",
    "\n",
    "    z_min = allparams['z_min']\n",
    "    z_max = allparams['z_max']\n",
    "    z_grid = jnp.geomspace(z_min, z_max, 100)\n",
    "    \n",
    "\n",
    "    # Define an m_grid:\n",
    "    M_min = allparams['M_min']\n",
    "    M_max = allparams['M_max']\n",
    "    m_grid = jnp.geomspace(M_min,M_max,100)\n",
    "    logm_grid = jnp.log(m_grid)\n",
    "\n",
    "\n",
    "    ell = get_ell_range()\n",
    "    # ell = y_ell_complete(z=1, m=m_grid, params_values_dict = cosmo_params)[0]\n",
    "    # This will store the integrated value for each ell\n",
    "    C_yy = jnp.zeros(len(ell))\n",
    "\n",
    "\n",
    "    for i in range(len(ell)):\n",
    "        # 1) Integrate over m\n",
    "        #    integrand[:, :, i] has shape (dim_z, dim_m)\n",
    "        partial_m = simpson(integrand[:, :, i], x=logm_grid, dx=(logm_grid[1]-logm_grid[0]),axis=1)\n",
    "        # partial_m = jnp.trapezoid(integrand[:, :, i], x=logm_grid, dx=(logm_grid[1]-logm_grid[0]),axis=1)\n",
    "        # partial_m = simpson(integrand[:, :, i], x=m_grid, axis=1)\n",
    "        # partial_m now has shape (dim_z,)\n",
    "\n",
    "        # 2) Integrate the result over z\n",
    "        result = simpson(partial_m, x=z_grid, dx = (z_grid[1]-z_grid[0]), axis=0)\n",
    "        # result = jnp.trapezoid(partial_m, x=z_grid, dx = (z_grid[1]-z_grid[0]), axis=0)\n",
    "\n",
    "        # Store the result for this ell\n",
    "        C_yy = C_yy.at[i].set(result)\n",
    "            \n",
    "    return C_yy  "
   ]
  },
  {
   "cell_type": "markdown",
   "metadata": {},
   "source": [
    "## Compute the integral"
   ]
  },
  {
   "cell_type": "code",
   "execution_count": null,
   "metadata": {},
   "outputs": [],
   "source": [
    "%timeit -n 10 -r 5  C_yy = compute_integral(params_values_dict = allpars)\n",
    "ell = get_ell_range()\n",
    "C_yy = compute_integral(params_values_dict = allpars)"
   ]
  },
  {
   "cell_type": "code",
   "execution_count": null,
   "metadata": {},
   "outputs": [
    {
     "data": {
      "image/png": "[encoded data removed]",
      "text/plain": [
       "<Figure size 640x480 with 1 Axes>"
      ]
     },
     "metadata": {},
     "output_type": "display_data"
    }
   ],
   "source": [
    "# ell=ell-0.5\n",
    "plt.plot(ell, ell*(ell+1)*C_yy*1e12/(2*jnp.pi))\n",
    "plt.xscale('log')\n",
    "plt.yscale('log')\n",
    "plt.xlabel(r'$\\ell$')\n",
    "plt.ylabel(r'$10^{12} D_{\\ell}^{y y}$')\n",
    "plt.grid(visible=True, which=\"both\", alpha=0.2, linestyle='--')\n",
    "plt.show()"
   ]
  },
  {
   "cell_type": "code",
   "execution_count": null,
   "metadata": {},
   "outputs": [
    {
     "name": "stdout",
     "output_type": "stream",
     "text": [
      "ell peak 3996.39179\n",
      "y_max: 0.7647698382255882\n"
     ]
    }
   ],
   "source": [
    "# Calculate the y values for the plot\n",
    "y_values = ell * (ell + 1) * C_yy * 1e12/(2*jnp.pi)\n",
    "# y_values = ell * (ell + 1) * C_yy * 1e12\n",
    "\n",
    "# Find the maximum value and the corresponding ell\n",
    "max_y = np.max(y_values)\n",
    "ell_max = ell[np.argmax(y_values)]\n",
    "print(\"ell peak\",ell_max)\n",
    "print(\"y_max:\",max_y)"
   ]
  },
  {
   "cell_type": "code",
   "execution_count": null,
   "metadata": {},
   "outputs": [
    {
     "data": {
      "text/plain": [
       "Array([9.40910332e-05, 1.31658516e-04, 1.85594048e-04, 2.63274604e-04,\n",
       "       3.75323251e-04, 5.36868317e-04, 7.69097236e-04, 1.10098000e-03,\n",
       "       1.57084701e-03, 2.22731710e-03, 3.12912142e-03, 4.34397206e-03,\n",
       "       5.94757586e-03, 8.02378126e-03, 1.06648902e-02, 1.39714713e-02,\n",
       "       1.80561959e-02, 2.30554809e-02, 2.91453479e-02, 3.65581928e-02,\n",
       "       4.55981929e-02, 5.66522960e-02, 7.01969447e-02, 8.67979487e-02,\n",
       "       1.07102885e-01, 1.31823216e-01, 1.61696335e-01, 1.97423786e-01,\n",
       "       2.39573231e-01, 2.88443578e-01, 3.43894580e-01, 4.05160471e-01,\n",
       "       4.70678057e-01, 5.37977307e-01, 6.03680819e-01, 6.63659619e-01,\n",
       "       7.13366966e-01, 7.48332447e-01, 7.64769838e-01, 7.60196769e-01,\n",
       "       7.33942612e-01, 6.87402902e-01], dtype=float64)"
      ]
     },
     "execution_count": 458,
     "metadata": {},
     "output_type": "execute_result"
    }
   ],
   "source": [
    "y_values"
   ]
  },
  {
   "cell_type": "code",
   "execution_count": null,
   "metadata": {},
   "outputs": [
    {
     "data": {
      "text/plain": [
       "Array([1.07946065, 1.06666025, 1.05552632, 1.04592999, 1.03772902,\n",
       "       1.03078598, 1.02496019, 1.02011084, 1.01608876, 1.01271919,\n",
       "       1.00982487, 1.00725085, 1.00488596, 1.00268639, 1.00067135,\n",
       "       0.99888081, 0.9973265 , 0.99599348, 0.99489182, 0.99395964,\n",
       "       0.99322835, 0.99265524, 0.99226042, 0.99204308, 0.99199146,\n",
       "       0.99208702, 0.99229979, 0.99260356, 0.99303789, 0.99338769,\n",
       "       0.99381864, 0.99426183, 0.99471625, 0.99514602, 0.99556598,\n",
       "       0.99596794, 0.99658293, 0.99669776, 0.99701492, 0.99727393,\n",
       "       0.99748001, 0.99768976], dtype=float64)"
      ]
     },
     "execution_count": 459,
     "metadata": {},
     "output_type": "execute_result"
    }
   ],
   "source": [
    "cl_yy_mod = jnp.array([8.71648572e-05, 1.23430601e-04, 1.75830810e-04, 2.51713410e-04,\n",
    "       3.61677512e-04, 5.20833934e-04, 7.50367910e-04, 1.07927488e-03,\n",
    "       1.54597420e-03, 2.19934323e-03, 3.09867731e-03, 4.31270131e-03,\n",
    "       5.91865755e-03, 8.00228397e-03, 1.06577351e-02, 1.39871255e-02,\n",
    "       1.81045985e-02, 2.31482246e-02, 2.92949919e-02, 3.67803595e-02,\n",
    "       4.59090731e-02, 5.70714724e-02, 7.07444773e-02, 8.74941321e-02,\n",
    "       1.07967547e-01, 1.32874651e-01, 1.62951092e-01, 1.98894901e-01,\n",
    "       2.41252859e-01, 2.90363552e-01, 3.46033538e-01, 4.07498767e-01,\n",
    "       4.73178212e-01, 5.40601373e-01, 6.06369475e-01, 6.66346370e-01,\n",
    "       7.15812951e-01, 7.50811807e-01, 7.67059574e-01, 7.62274782e-01,\n",
    "       7.35796816e-01, 6.88994642e-01])\n",
    "y_values/cl_yy_mod"
   ]
  },
  {
   "cell_type": "markdown",
   "metadata": {},
   "source": [
    "### Note, peak value is too low, should be ~2.60 from class_sz, cannot find the reason"
   ]
  },
  {
   "cell_type": "markdown",
   "metadata": {},
   "source": [
    "## tSZ trispectrum"
   ]
  },
  {
   "cell_type": "code",
   "execution_count": null,
   "metadata": {},
   "outputs": [],
   "source": [
    "def get_integral_grid_trisp(params_values_dict=None):\n",
    "\n",
    "    # 1) Get y_\\ell(z, m) over grids of z and m\n",
    "    rparams = classy_sz.get_all_relevant_params(params_values_dict=params_values_dict)\n",
    "    allparams = classy_sz.get_all_relevant_params(params_values_dict=params_values_dict)\n",
    "    \n",
    "    z_min = allparams['z_min']\n",
    "    z_max = allparams['z_max']\n",
    "    z_grid = jnp.geomspace(z_min, z_max, 100)\n",
    "\n",
    "    M_min = allparams['M_min']\n",
    "    M_max = allparams['M_max']\n",
    "    m_grid = jnp.geomspace(M_min, M_max, 100)\n",
    "\n",
    "    # y_ell_mz_grid: shape = (n_z, n_m, n_ell)\n",
    "    def get_yellm_for_z(zp):\n",
    "        # Returns ell (length n_ell) and y_ellm (length n_m x n_ell)\n",
    "        # but typically we stack in shape (n_m, n_ell)\n",
    "        ell_vals, y_ellm = y_ell_interpolate(zp, m_grid, params_values_dict=params_values_dict)\n",
    "        return y_ellm\n",
    "    \n",
    "\n",
    "    # Vectorize over z\n",
    "    y_ell_mz_grid = jax.vmap(get_yellm_for_z)(z_grid)  \n",
    "    # shape = (n_z, n_m, n_ell)\n",
    "\n",
    "    # Save ell from a single call (assuming same for all z):\n",
    "    ell_vals, _ = y_ell_interpolate(z_grid[0], m_grid, params_values_dict=params_values_dict)\n",
    "    # or keep a separate function get_ell_range() if you prefer\n",
    "    ell = ell_vals  # shape = (n_ell,)\n",
    "\n",
    "    # 2) Get halo mass function dndlnm over the same z,m\n",
    "    def get_hmf_for_z(zp):\n",
    "        return get_hmf_at_z_and_m(z=zp, m=m_grid, params_values_dict=params_values_dict)\n",
    "    dndlnm_grid = jax.vmap(get_hmf_for_z)(z_grid)  \n",
    "    # shape = (n_z, n_m)\n",
    "\n",
    "    # 3) Get comoving volume element dV/dz/dOmega over z\n",
    "    comov_vol = dVdzdOmega(z_grid, params_values_dict=params_values_dict)\n",
    "    # shape = (n_z,)\n",
    "\n",
    "    # Expand dimensions for consistent broadcasting:\n",
    "    #   dndlnm_grid_expanded: shape (n_z, n_m, 1, 1)\n",
    "    dndlnm_grid_expanded = dndlnm_grid[:, :, None, None]\n",
    "    #   comov_vol_expanded: shape (n_z, 1, 1, 1)\n",
    "    comov_vol_expanded   = comov_vol[:, None, None, None]\n",
    "\n",
    "    # 4) Construct the integrand:\n",
    "    # y^2 for each ell\n",
    "    y_ell_sq = y_ell_mz_grid**2  # shape: (n_z, n_m, n_ell)\n",
    "\n",
    "    # We need (n_z, n_m, n_ell, n_ell'). \n",
    "    # The product y_ell_sq[..., None] * y_ell_sq[..., None, :] \n",
    "    # gives shape (n_z, n_m, n_ell, n_ell)\n",
    "    # i.e. y_ell^2 * y_ell'^2\n",
    "    integrand = y_ell_sq[:, :, :, None] * y_ell_sq[:, :, None, :]\n",
    "    # print(integrand.shape)\n",
    "\n",
    "    # Now multiply by dndlnm and comov. \n",
    "    integrand = integrand * dndlnm_grid_expanded * comov_vol_expanded\n",
    "    # final shape = (n_z, n_m, n_ell, n_ell)\n",
    "\n",
    "    return ell, integrand\n"
   ]
  },
  {
   "cell_type": "code",
   "execution_count": null,
   "metadata": {},
   "outputs": [],
   "source": [
    "def compute_trispectrum(params_values_dict=None):\n",
    "    # 1) Build integrand\n",
    "    ell, integrand = get_integral_grid_trisp(params_values_dict)\n",
    "\n",
    "    # 2) Construct z and m grids (consistent with what's in get_integral_grid_trisp)\n",
    "    allparams = classy_sz.get_all_relevant_params(params_values_dict=params_values_dict)\n",
    "    z_min = allparams['z_min']\n",
    "    z_max = allparams['z_max']\n",
    "    z_grid = jnp.geomspace(z_min, z_max, 100)\n",
    "    \n",
    "    M_min = allparams['M_min']\n",
    "    M_max = allparams['M_max']\n",
    "    m_grid = jnp.geomspace(M_min, M_max, 100)\n",
    "    logm_grid = jnp.log(m_grid)\n",
    "\n",
    "    # integrand shape = (n_z, n_m, n_ell, n_ell')\n",
    "\n",
    "    # 3) Integrate over m (axis=1) using log(m) or m—depending on your definition\n",
    "    # partial_m shape = (n_z, n_ell, n_ell')\n",
    "    partial_m = simpson(integrand, x=logm_grid, axis=1)  \n",
    "\n",
    "    # 4) Integrate over z (axis=0)\n",
    "    # final shape = (n_ell, n_ell')\n",
    "    T_ell_ellprime = simpson(partial_m, x=z_grid, axis=0)\n",
    "\n",
    "    # T_ell_ellprime[i,j] ~ T_{ell_i, ell_j}\n",
    "    return ell, T_ell_ellprime\n"
   ]
  },
  {
   "cell_type": "code",
   "execution_count": null,
   "metadata": {},
   "outputs": [],
   "source": [
    "# %timeit -n 10 -r 5 ell, T_ell_ellprime = compute_trispectrum(params_values_dict=allpars)\n",
    "ell, T_ell_ellprime = compute_trispectrum(params_values_dict=allpars)"
   ]
  },
  {
   "cell_type": "code",
   "execution_count": null,
   "metadata": {},
   "outputs": [],
   "source": [
    "ell, T_ell_ellprime = compute_trispectrum(params_values_dict=allpars)\n",
    "# print(T_ell_ellprime*1e24)\n",
    "# print(C_yy)\n",
    "# Precompute the factor: (ell*(ell+1)) for each ell\n",
    "ell_factor = ell * (ell + 1.0)   # shape (n_ell,)\n",
    "\n",
    "# Broadcast to 2D via outer product\n",
    "# shape: (n_ell, n_ell)\n",
    "ell2D_factor = jnp.outer(ell_factor, ell_factor)\n",
    "\n",
    "# The overall scaling factor\n",
    "prefactor = 1 / ((2.0 * jnp.pi)**2)\n",
    "\n",
    "# Finally, multiply element-wise\n",
    "scaled_T_ell_ellprime = T_ell_ellprime * ell2D_factor * prefactor"
   ]
  },
  {
   "cell_type": "code",
   "execution_count": null,
   "metadata": {},
   "outputs": [
    {
     "data": {
      "text/plain": [
       "<matplotlib.colorbar.Colorbar at 0x441590410>"
      ]
     },
     "execution_count": 464,
     "metadata": {},
     "output_type": "execute_result"
    },
    {
     "data": {
      "image/png": "[encoded data removed]",
      "text/plain": [
       "<Figure size 640x480 with 2 Axes>"
      ]
     },
     "metadata": {},
     "output_type": "display_data"
    }
   ],
   "source": [
    "plt.imshow(T_ell_ellprime)\n",
    "plt.colorbar()"
   ]
  },
  {
   "cell_type": "code",
   "execution_count": null,
   "metadata": {},
   "outputs": [
    {
     "data": {
      "text/plain": [
       "(42,)"
      ]
     },
     "execution_count": 465,
     "metadata": {},
     "output_type": "execute_result"
    }
   ],
   "source": [
    "ell.shape"
   ]
  },
  {
   "cell_type": "code",
   "execution_count": null,
   "metadata": {},
   "outputs": [
    {
     "data": {
      "text/plain": [
       "(42, 42)"
      ]
     },
     "execution_count": 466,
     "metadata": {},
     "output_type": "execute_result"
    },
    {
     "data": {
      "image/png": "[encoded data removed]",
      "text/plain": [
       "<Figure size 640x480 with 2 Axes>"
      ]
     },
     "metadata": {},
     "output_type": "display_data"
    }
   ],
   "source": [
    "plt.imshow(scaled_T_ell_ellprime)\n",
    "plt.colorbar()\n",
    "scaled_T_ell_ellprime.shape"
   ]
  },
  {
   "cell_type": "markdown",
   "metadata": {},
   "source": [
    "## The full tSZ covariance matrix (G+NG)"
   ]
  },
  {
   "cell_type": "code",
   "execution_count": null,
   "metadata": {},
   "outputs": [],
   "source": [
    "def compute_tsz_covariance(params_values_dict=None, noise_ell=None, f_sky=1.0):\n",
    "    \"\"\"\n",
    "    Returns M_llp\n",
    "    Time to compute this = time to compute tSZ power spectrum + time to compute tSZ trispectrum\n",
    "    \"\"\"\n",
    "\n",
    "    # 1) Compute the tSZ power spectrum C_ell^{yy}\n",
    "    C_yy = compute_integral(params_values_dict=params_values_dict)  \n",
    "    # Shape: (n_ell,)\n",
    "\n",
    "    # 2) Compute the tSZ trispectrum T_{ell,ell'}^{yy} and grab the ell array\n",
    "    ell_arr, T_ell_ellprime = compute_trispectrum(params_values_dict=params_values_dict)\n",
    "    # T_ell_ellprime shape: (n_ell, n_ell)\n",
    "    # ell_arr shape:        (n_ell,)\n",
    "\n",
    "    # 3) If no noise is given, set it to zero\n",
    "    if noise_ell is None:\n",
    "        noise_ell = jnp.zeros_like(C_yy)\n",
    "    # noise_ell shape: (n_ell,)\n",
    "\n",
    "    # 4) Construct the diagonal term\n",
    "    #    diag_term[ell] = [4π (C_ell + N_ell)^2] / [ell + 1/2]\n",
    "    diag_term = (4.0 * jnp.pi) * (C_yy + noise_ell)**2 / (ell_arr + 0.5)\n",
    "\n",
    "    # 5) Build the full covariance matrix\n",
    "    #    M = diag_term * δ_{ell,ell'} + T_{ell,ell'}\n",
    "    #    Then multiply by 1 / [4π f_sky]\n",
    "    M = jnp.diag(diag_term) + T_ell_ellprime\n",
    "\n",
    "    M_G = jnp.diag(diag_term)/ (4.0 * jnp.pi * f_sky)\n",
    "\n",
    "    M = M / (4.0 * jnp.pi * f_sky)\n",
    "\n",
    "    return ell_arr, M, M_G\n"
   ]
  },
  {
   "cell_type": "code",
   "execution_count": null,
   "metadata": {},
   "outputs": [
    {
     "data": {
      "text/plain": [
       "<matplotlib.colorbar.Colorbar at 0x44163d370>"
      ]
     },
     "execution_count": 468,
     "metadata": {},
     "output_type": "execute_result"
    },
    {
     "data": {
      "image/png": "[encoded data removed]",
      "text/plain": [
       "<Figure size 640x480 with 2 Axes>"
      ]
     },
     "metadata": {},
     "output_type": "display_data"
    }
   ],
   "source": [
    "# Suppose you have your parameter dictionary `allpars`\n",
    "# %timeit -n 10 -r 5 ell_arr, M = compute_tsz_covariance(params_values_dict=allpars, noise_ell=None, f_sky=1.0)\n",
    "ell_arr, M, M_G= compute_tsz_covariance(params_values_dict=allpars, noise_ell=None, f_sky=1.0)\n",
    "\n",
    "# print(\"ell array:\", ell_arr)\n",
    "# print(\"Covariance matrix shape:\", M.shape)\n",
    "# e.g. (n_ell, n_ell)\n",
    "scaled_M_llp =M * ell2D_factor * prefactor\n",
    "scaled_M_G_llp = M_G * ell2D_factor * prefactor\n",
    "\n",
    "plt.imshow(scaled_M_llp)\n",
    "plt.colorbar()"
   ]
  },
  {
   "cell_type": "code",
   "execution_count": null,
   "metadata": {},
   "outputs": [
    {
     "ename": "KeyboardInterrupt",
     "evalue": "",
     "output_type": "error",
     "traceback": [
      "\u001b[0;31m---------------------------------------------------------------------------\u001b[0m",
      "\u001b[0;31mKeyboardInterrupt\u001b[0m                         Traceback (most recent call last)",
      "Cell \u001b[0;32mIn[469], line 22\u001b[0m\n\u001b[1;32m     20\u001b[0m plt\u001b[38;5;241m.\u001b[39mtitle(\u001b[38;5;124m'\u001b[39m\u001b[38;5;124mtSZ Power Spectrum and Diagonal Errors\u001b[39m\u001b[38;5;124m'\u001b[39m)\n\u001b[1;32m     21\u001b[0m plt\u001b[38;5;241m.\u001b[39mgrid(visible\u001b[38;5;241m=\u001b[39m\u001b[38;5;28;01mTrue\u001b[39;00m, which\u001b[38;5;241m=\u001b[39m\u001b[38;5;124m\"\u001b[39m\u001b[38;5;124mboth\u001b[39m\u001b[38;5;124m\"\u001b[39m, alpha\u001b[38;5;241m=\u001b[39m\u001b[38;5;241m0.2\u001b[39m, linestyle\u001b[38;5;241m=\u001b[39m\u001b[38;5;124m'\u001b[39m\u001b[38;5;124m--\u001b[39m\u001b[38;5;124m'\u001b[39m)\n\u001b[0;32m---> 22\u001b[0m \u001b[43mplt\u001b[49m\u001b[38;5;241;43m.\u001b[39;49m\u001b[43mshow\u001b[49m\u001b[43m(\u001b[49m\u001b[43m)\u001b[49m\n",
      "File \u001b[0;32m~/envs/jax_env/lib/python3.12/site-packages/matplotlib/pyplot.py:614\u001b[0m, in \u001b[0;36mshow\u001b[0;34m(*args, **kwargs)\u001b[0m\n\u001b[1;32m    570\u001b[0m \u001b[38;5;250m\u001b[39m\u001b[38;5;124;03m\"\"\"\u001b[39;00m\n\u001b[1;32m    571\u001b[0m \u001b[38;5;124;03mDisplay all open figures.\u001b[39;00m\n\u001b[1;32m    572\u001b[0m \n\u001b[0;32m   (...)\u001b[0m\n\u001b[1;32m    611\u001b[0m \u001b[38;5;124;03mexplicitly there.\u001b[39;00m\n\u001b[1;32m    612\u001b[0m \u001b[38;5;124;03m\"\"\"\u001b[39;00m\n\u001b[1;32m    613\u001b[0m _warn_if_gui_out_of_main_thread()\n\u001b[0;32m--> 614\u001b[0m \u001b[38;5;28;01mreturn\u001b[39;00m \u001b[43m_get_backend_mod\u001b[49m\u001b[43m(\u001b[49m\u001b[43m)\u001b[49m\u001b[38;5;241;43m.\u001b[39;49m\u001b[43mshow\u001b[49m\u001b[43m(\u001b[49m\u001b[38;5;241;43m*\u001b[39;49m\u001b[43margs\u001b[49m\u001b[43m,\u001b[49m\u001b[43m \u001b[49m\u001b[38;5;241;43m*\u001b[39;49m\u001b[38;5;241;43m*\u001b[39;49m\u001b[43mkwargs\u001b[49m\u001b[43m)\u001b[49m\n",
      "File \u001b[0;32m~/envs/jax_env/lib/python3.12/site-packages/matplotlib_inline/backend_inline.py:90\u001b[0m, in \u001b[0;36mshow\u001b[0;34m(close, block)\u001b[0m\n\u001b[1;32m     88\u001b[0m \u001b[38;5;28;01mtry\u001b[39;00m:\n\u001b[1;32m     89\u001b[0m     \u001b[38;5;28;01mfor\u001b[39;00m figure_manager \u001b[38;5;129;01min\u001b[39;00m Gcf\u001b[38;5;241m.\u001b[39mget_all_fig_managers():\n\u001b[0;32m---> 90\u001b[0m         \u001b[43mdisplay\u001b[49m\u001b[43m(\u001b[49m\n\u001b[1;32m     91\u001b[0m \u001b[43m            \u001b[49m\u001b[43mfigure_manager\u001b[49m\u001b[38;5;241;43m.\u001b[39;49m\u001b[43mcanvas\u001b[49m\u001b[38;5;241;43m.\u001b[39;49m\u001b[43mfigure\u001b[49m\u001b[43m,\u001b[49m\n\u001b[1;32m     92\u001b[0m \u001b[43m            \u001b[49m\u001b[43mmetadata\u001b[49m\u001b[38;5;241;43m=\u001b[39;49m\u001b[43m_fetch_figure_metadata\u001b[49m\u001b[43m(\u001b[49m\u001b[43mfigure_manager\u001b[49m\u001b[38;5;241;43m.\u001b[39;49m\u001b[43mcanvas\u001b[49m\u001b[38;5;241;43m.\u001b[39;49m\u001b[43mfigure\u001b[49m\u001b[43m)\u001b[49m\n\u001b[1;32m     93\u001b[0m \u001b[43m        \u001b[49m\u001b[43m)\u001b[49m\n\u001b[1;32m     94\u001b[0m \u001b[38;5;28;01mfinally\u001b[39;00m:\n\u001b[1;32m     95\u001b[0m     show\u001b[38;5;241m.\u001b[39m_to_draw \u001b[38;5;241m=\u001b[39m []\n",
      "File \u001b[0;32m~/envs/jax_env/lib/python3.12/site-packages/IPython/core/display_functions.py:298\u001b[0m, in \u001b[0;36mdisplay\u001b[0;34m(include, exclude, metadata, transient, display_id, raw, clear, *objs, **kwargs)\u001b[0m\n\u001b[1;32m    296\u001b[0m     publish_display_data(data\u001b[38;5;241m=\u001b[39mobj, metadata\u001b[38;5;241m=\u001b[39mmetadata, \u001b[38;5;241m*\u001b[39m\u001b[38;5;241m*\u001b[39mkwargs)\n\u001b[1;32m    297\u001b[0m \u001b[38;5;28;01melse\u001b[39;00m:\n\u001b[0;32m--> 298\u001b[0m     format_dict, md_dict \u001b[38;5;241m=\u001b[39m \u001b[38;5;28;43mformat\u001b[39;49m\u001b[43m(\u001b[49m\u001b[43mobj\u001b[49m\u001b[43m,\u001b[49m\u001b[43m \u001b[49m\u001b[43minclude\u001b[49m\u001b[38;5;241;43m=\u001b[39;49m\u001b[43minclude\u001b[49m\u001b[43m,\u001b[49m\u001b[43m \u001b[49m\u001b[43mexclude\u001b[49m\u001b[38;5;241;43m=\u001b[39;49m\u001b[43mexclude\u001b[49m\u001b[43m)\u001b[49m\n\u001b[1;32m    299\u001b[0m     \u001b[38;5;28;01mif\u001b[39;00m \u001b[38;5;129;01mnot\u001b[39;00m format_dict:\n\u001b[1;32m    300\u001b[0m         \u001b[38;5;66;03m# nothing to display (e.g. _ipython_display_ took over)\u001b[39;00m\n\u001b[1;32m    301\u001b[0m         \u001b[38;5;28;01mcontinue\u001b[39;00m\n",
      "File \u001b[0;32m~/envs/jax_env/lib/python3.12/site-packages/IPython/core/formatters.py:238\u001b[0m, in \u001b[0;36mDisplayFormatter.format\u001b[0;34m(self, obj, include, exclude)\u001b[0m\n\u001b[1;32m    236\u001b[0m md \u001b[38;5;241m=\u001b[39m \u001b[38;5;28;01mNone\u001b[39;00m\n\u001b[1;32m    237\u001b[0m \u001b[38;5;28;01mtry\u001b[39;00m:\n\u001b[0;32m--> 238\u001b[0m     data \u001b[38;5;241m=\u001b[39m \u001b[43mformatter\u001b[49m\u001b[43m(\u001b[49m\u001b[43mobj\u001b[49m\u001b[43m)\u001b[49m\n\u001b[1;32m    239\u001b[0m \u001b[38;5;28;01mexcept\u001b[39;00m:\n\u001b[1;32m    240\u001b[0m     \u001b[38;5;66;03m# FIXME: log the exception\u001b[39;00m\n\u001b[1;32m    241\u001b[0m     \u001b[38;5;28;01mraise\u001b[39;00m\n",
      "File \u001b[0;32m~/envs/jax_env/lib/python3.12/site-packages/decorator.py:232\u001b[0m, in \u001b[0;36mdecorate.<locals>.fun\u001b[0;34m(*args, **kw)\u001b[0m\n\u001b[1;32m    230\u001b[0m \u001b[38;5;28;01mif\u001b[39;00m \u001b[38;5;129;01mnot\u001b[39;00m kwsyntax:\n\u001b[1;32m    231\u001b[0m     args, kw \u001b[38;5;241m=\u001b[39m fix(args, kw, sig)\n\u001b[0;32m--> 232\u001b[0m \u001b[38;5;28;01mreturn\u001b[39;00m \u001b[43mcaller\u001b[49m\u001b[43m(\u001b[49m\u001b[43mfunc\u001b[49m\u001b[43m,\u001b[49m\u001b[43m \u001b[49m\u001b[38;5;241;43m*\u001b[39;49m\u001b[43m(\u001b[49m\u001b[43mextras\u001b[49m\u001b[43m \u001b[49m\u001b[38;5;241;43m+\u001b[39;49m\u001b[43m \u001b[49m\u001b[43margs\u001b[49m\u001b[43m)\u001b[49m\u001b[43m,\u001b[49m\u001b[43m \u001b[49m\u001b[38;5;241;43m*\u001b[39;49m\u001b[38;5;241;43m*\u001b[39;49m\u001b[43mkw\u001b[49m\u001b[43m)\u001b[49m\n",
      "File \u001b[0;32m~/envs/jax_env/lib/python3.12/site-packages/IPython/core/formatters.py:282\u001b[0m, in \u001b[0;36mcatch_format_error\u001b[0;34m(method, self, *args, **kwargs)\u001b[0m\n\u001b[1;32m    280\u001b[0m \u001b[38;5;250m\u001b[39m\u001b[38;5;124;03m\"\"\"show traceback on failed format call\"\"\"\u001b[39;00m\n\u001b[1;32m    281\u001b[0m \u001b[38;5;28;01mtry\u001b[39;00m:\n\u001b[0;32m--> 282\u001b[0m     r \u001b[38;5;241m=\u001b[39m \u001b[43mmethod\u001b[49m\u001b[43m(\u001b[49m\u001b[38;5;28;43mself\u001b[39;49m\u001b[43m,\u001b[49m\u001b[43m \u001b[49m\u001b[38;5;241;43m*\u001b[39;49m\u001b[43margs\u001b[49m\u001b[43m,\u001b[49m\u001b[43m \u001b[49m\u001b[38;5;241;43m*\u001b[39;49m\u001b[38;5;241;43m*\u001b[39;49m\u001b[43mkwargs\u001b[49m\u001b[43m)\u001b[49m\n\u001b[1;32m    283\u001b[0m \u001b[38;5;28;01mexcept\u001b[39;00m \u001b[38;5;167;01mNotImplementedError\u001b[39;00m:\n\u001b[1;32m    284\u001b[0m     \u001b[38;5;66;03m# don't warn on NotImplementedErrors\u001b[39;00m\n\u001b[1;32m    285\u001b[0m     \u001b[38;5;28;01mreturn\u001b[39;00m \u001b[38;5;28mself\u001b[39m\u001b[38;5;241m.\u001b[39m_check_return(\u001b[38;5;28;01mNone\u001b[39;00m, args[\u001b[38;5;241m0\u001b[39m])\n",
      "File \u001b[0;32m~/envs/jax_env/lib/python3.12/site-packages/IPython/core/formatters.py:402\u001b[0m, in \u001b[0;36mBaseFormatter.__call__\u001b[0;34m(self, obj)\u001b[0m\n\u001b[1;32m    400\u001b[0m     \u001b[38;5;28;01mpass\u001b[39;00m\n\u001b[1;32m    401\u001b[0m \u001b[38;5;28;01melse\u001b[39;00m:\n\u001b[0;32m--> 402\u001b[0m     \u001b[38;5;28;01mreturn\u001b[39;00m \u001b[43mprinter\u001b[49m\u001b[43m(\u001b[49m\u001b[43mobj\u001b[49m\u001b[43m)\u001b[49m\n\u001b[1;32m    403\u001b[0m \u001b[38;5;66;03m# Finally look for special method names\u001b[39;00m\n\u001b[1;32m    404\u001b[0m method \u001b[38;5;241m=\u001b[39m get_real_method(obj, \u001b[38;5;28mself\u001b[39m\u001b[38;5;241m.\u001b[39mprint_method)\n",
      "File \u001b[0;32m~/envs/jax_env/lib/python3.12/site-packages/IPython/core/pylabtools.py:170\u001b[0m, in \u001b[0;36mprint_figure\u001b[0;34m(fig, fmt, bbox_inches, base64, **kwargs)\u001b[0m\n\u001b[1;32m    167\u001b[0m     \u001b[38;5;28;01mfrom\u001b[39;00m\u001b[38;5;250m \u001b[39m\u001b[38;5;21;01mmatplotlib\u001b[39;00m\u001b[38;5;21;01m.\u001b[39;00m\u001b[38;5;21;01mbackend_bases\u001b[39;00m\u001b[38;5;250m \u001b[39m\u001b[38;5;28;01mimport\u001b[39;00m FigureCanvasBase\n\u001b[1;32m    168\u001b[0m     FigureCanvasBase(fig)\n\u001b[0;32m--> 170\u001b[0m \u001b[43mfig\u001b[49m\u001b[38;5;241;43m.\u001b[39;49m\u001b[43mcanvas\u001b[49m\u001b[38;5;241;43m.\u001b[39;49m\u001b[43mprint_figure\u001b[49m\u001b[43m(\u001b[49m\u001b[43mbytes_io\u001b[49m\u001b[43m,\u001b[49m\u001b[43m \u001b[49m\u001b[38;5;241;43m*\u001b[39;49m\u001b[38;5;241;43m*\u001b[39;49m\u001b[43mkw\u001b[49m\u001b[43m)\u001b[49m\n\u001b[1;32m    171\u001b[0m data \u001b[38;5;241m=\u001b[39m bytes_io\u001b[38;5;241m.\u001b[39mgetvalue()\n\u001b[1;32m    172\u001b[0m \u001b[38;5;28;01mif\u001b[39;00m fmt \u001b[38;5;241m==\u001b[39m \u001b[38;5;124m'\u001b[39m\u001b[38;5;124msvg\u001b[39m\u001b[38;5;124m'\u001b[39m:\n",
      "File \u001b[0;32m~/envs/jax_env/lib/python3.12/site-packages/matplotlib/backend_bases.py:2155\u001b[0m, in \u001b[0;36mFigureCanvasBase.print_figure\u001b[0;34m(self, filename, dpi, facecolor, edgecolor, orientation, format, bbox_inches, pad_inches, bbox_extra_artists, backend, **kwargs)\u001b[0m\n\u001b[1;32m   2152\u001b[0m     \u001b[38;5;66;03m# we do this instead of `self.figure.draw_without_rendering`\u001b[39;00m\n\u001b[1;32m   2153\u001b[0m     \u001b[38;5;66;03m# so that we can inject the orientation\u001b[39;00m\n\u001b[1;32m   2154\u001b[0m     \u001b[38;5;28;01mwith\u001b[39;00m \u001b[38;5;28mgetattr\u001b[39m(renderer, \u001b[38;5;124m\"\u001b[39m\u001b[38;5;124m_draw_disabled\u001b[39m\u001b[38;5;124m\"\u001b[39m, nullcontext)():\n\u001b[0;32m-> 2155\u001b[0m         \u001b[38;5;28;43mself\u001b[39;49m\u001b[38;5;241;43m.\u001b[39;49m\u001b[43mfigure\u001b[49m\u001b[38;5;241;43m.\u001b[39;49m\u001b[43mdraw\u001b[49m\u001b[43m(\u001b[49m\u001b[43mrenderer\u001b[49m\u001b[43m)\u001b[49m\n\u001b[1;32m   2156\u001b[0m \u001b[38;5;28;01mif\u001b[39;00m bbox_inches:\n\u001b[1;32m   2157\u001b[0m     \u001b[38;5;28;01mif\u001b[39;00m bbox_inches \u001b[38;5;241m==\u001b[39m \u001b[38;5;124m\"\u001b[39m\u001b[38;5;124mtight\u001b[39m\u001b[38;5;124m\"\u001b[39m:\n",
      "File \u001b[0;32m~/envs/jax_env/lib/python3.12/site-packages/matplotlib/artist.py:94\u001b[0m, in \u001b[0;36m_finalize_rasterization.<locals>.draw_wrapper\u001b[0;34m(artist, renderer, *args, **kwargs)\u001b[0m\n\u001b[1;32m     92\u001b[0m \u001b[38;5;129m@wraps\u001b[39m(draw)\n\u001b[1;32m     93\u001b[0m \u001b[38;5;28;01mdef\u001b[39;00m\u001b[38;5;250m \u001b[39m\u001b[38;5;21mdraw_wrapper\u001b[39m(artist, renderer, \u001b[38;5;241m*\u001b[39margs, \u001b[38;5;241m*\u001b[39m\u001b[38;5;241m*\u001b[39mkwargs):\n\u001b[0;32m---> 94\u001b[0m     result \u001b[38;5;241m=\u001b[39m \u001b[43mdraw\u001b[49m\u001b[43m(\u001b[49m\u001b[43martist\u001b[49m\u001b[43m,\u001b[49m\u001b[43m \u001b[49m\u001b[43mrenderer\u001b[49m\u001b[43m,\u001b[49m\u001b[43m \u001b[49m\u001b[38;5;241;43m*\u001b[39;49m\u001b[43margs\u001b[49m\u001b[43m,\u001b[49m\u001b[43m \u001b[49m\u001b[38;5;241;43m*\u001b[39;49m\u001b[38;5;241;43m*\u001b[39;49m\u001b[43mkwargs\u001b[49m\u001b[43m)\u001b[49m\n\u001b[1;32m     95\u001b[0m     \u001b[38;5;28;01mif\u001b[39;00m renderer\u001b[38;5;241m.\u001b[39m_rasterizing:\n\u001b[1;32m     96\u001b[0m         renderer\u001b[38;5;241m.\u001b[39mstop_rasterizing()\n",
      "File \u001b[0;32m~/envs/jax_env/lib/python3.12/site-packages/matplotlib/artist.py:71\u001b[0m, in \u001b[0;36mallow_rasterization.<locals>.draw_wrapper\u001b[0;34m(artist, renderer)\u001b[0m\n\u001b[1;32m     68\u001b[0m     \u001b[38;5;28;01mif\u001b[39;00m artist\u001b[38;5;241m.\u001b[39mget_agg_filter() \u001b[38;5;129;01mis\u001b[39;00m \u001b[38;5;129;01mnot\u001b[39;00m \u001b[38;5;28;01mNone\u001b[39;00m:\n\u001b[1;32m     69\u001b[0m         renderer\u001b[38;5;241m.\u001b[39mstart_filter()\n\u001b[0;32m---> 71\u001b[0m     \u001b[38;5;28;01mreturn\u001b[39;00m \u001b[43mdraw\u001b[49m\u001b[43m(\u001b[49m\u001b[43martist\u001b[49m\u001b[43m,\u001b[49m\u001b[43m \u001b[49m\u001b[43mrenderer\u001b[49m\u001b[43m)\u001b[49m\n\u001b[1;32m     72\u001b[0m \u001b[38;5;28;01mfinally\u001b[39;00m:\n\u001b[1;32m     73\u001b[0m     \u001b[38;5;28;01mif\u001b[39;00m artist\u001b[38;5;241m.\u001b[39mget_agg_filter() \u001b[38;5;129;01mis\u001b[39;00m \u001b[38;5;129;01mnot\u001b[39;00m \u001b[38;5;28;01mNone\u001b[39;00m:\n",
      "File \u001b[0;32m~/envs/jax_env/lib/python3.12/site-packages/matplotlib/figure.py:3257\u001b[0m, in \u001b[0;36mFigure.draw\u001b[0;34m(self, renderer)\u001b[0m\n\u001b[1;32m   3254\u001b[0m             \u001b[38;5;66;03m# ValueError can occur when resizing a window.\u001b[39;00m\n\u001b[1;32m   3256\u001b[0m     \u001b[38;5;28mself\u001b[39m\u001b[38;5;241m.\u001b[39mpatch\u001b[38;5;241m.\u001b[39mdraw(renderer)\n\u001b[0;32m-> 3257\u001b[0m     \u001b[43mmimage\u001b[49m\u001b[38;5;241;43m.\u001b[39;49m\u001b[43m_draw_list_compositing_images\u001b[49m\u001b[43m(\u001b[49m\n\u001b[1;32m   3258\u001b[0m \u001b[43m        \u001b[49m\u001b[43mrenderer\u001b[49m\u001b[43m,\u001b[49m\u001b[43m \u001b[49m\u001b[38;5;28;43mself\u001b[39;49m\u001b[43m,\u001b[49m\u001b[43m \u001b[49m\u001b[43martists\u001b[49m\u001b[43m,\u001b[49m\u001b[43m \u001b[49m\u001b[38;5;28;43mself\u001b[39;49m\u001b[38;5;241;43m.\u001b[39;49m\u001b[43msuppressComposite\u001b[49m\u001b[43m)\u001b[49m\n\u001b[1;32m   3260\u001b[0m     renderer\u001b[38;5;241m.\u001b[39mclose_group(\u001b[38;5;124m'\u001b[39m\u001b[38;5;124mfigure\u001b[39m\u001b[38;5;124m'\u001b[39m)\n\u001b[1;32m   3261\u001b[0m \u001b[38;5;28;01mfinally\u001b[39;00m:\n",
      "File \u001b[0;32m~/envs/jax_env/lib/python3.12/site-packages/matplotlib/image.py:134\u001b[0m, in \u001b[0;36m_draw_list_compositing_images\u001b[0;34m(renderer, parent, artists, suppress_composite)\u001b[0m\n\u001b[1;32m    132\u001b[0m \u001b[38;5;28;01mif\u001b[39;00m not_composite \u001b[38;5;129;01mor\u001b[39;00m \u001b[38;5;129;01mnot\u001b[39;00m has_images:\n\u001b[1;32m    133\u001b[0m     \u001b[38;5;28;01mfor\u001b[39;00m a \u001b[38;5;129;01min\u001b[39;00m artists:\n\u001b[0;32m--> 134\u001b[0m         \u001b[43ma\u001b[49m\u001b[38;5;241;43m.\u001b[39;49m\u001b[43mdraw\u001b[49m\u001b[43m(\u001b[49m\u001b[43mrenderer\u001b[49m\u001b[43m)\u001b[49m\n\u001b[1;32m    135\u001b[0m \u001b[38;5;28;01melse\u001b[39;00m:\n\u001b[1;32m    136\u001b[0m     \u001b[38;5;66;03m# Composite any adjacent images together\u001b[39;00m\n\u001b[1;32m    137\u001b[0m     image_group \u001b[38;5;241m=\u001b[39m []\n",
      "File \u001b[0;32m~/envs/jax_env/lib/python3.12/site-packages/matplotlib/artist.py:71\u001b[0m, in \u001b[0;36mallow_rasterization.<locals>.draw_wrapper\u001b[0;34m(artist, renderer)\u001b[0m\n\u001b[1;32m     68\u001b[0m     \u001b[38;5;28;01mif\u001b[39;00m artist\u001b[38;5;241m.\u001b[39mget_agg_filter() \u001b[38;5;129;01mis\u001b[39;00m \u001b[38;5;129;01mnot\u001b[39;00m \u001b[38;5;28;01mNone\u001b[39;00m:\n\u001b[1;32m     69\u001b[0m         renderer\u001b[38;5;241m.\u001b[39mstart_filter()\n\u001b[0;32m---> 71\u001b[0m     \u001b[38;5;28;01mreturn\u001b[39;00m \u001b[43mdraw\u001b[49m\u001b[43m(\u001b[49m\u001b[43martist\u001b[49m\u001b[43m,\u001b[49m\u001b[43m \u001b[49m\u001b[43mrenderer\u001b[49m\u001b[43m)\u001b[49m\n\u001b[1;32m     72\u001b[0m \u001b[38;5;28;01mfinally\u001b[39;00m:\n\u001b[1;32m     73\u001b[0m     \u001b[38;5;28;01mif\u001b[39;00m artist\u001b[38;5;241m.\u001b[39mget_agg_filter() \u001b[38;5;129;01mis\u001b[39;00m \u001b[38;5;129;01mnot\u001b[39;00m \u001b[38;5;28;01mNone\u001b[39;00m:\n",
      "File \u001b[0;32m~/envs/jax_env/lib/python3.12/site-packages/matplotlib/axes/_base.py:3181\u001b[0m, in \u001b[0;36m_AxesBase.draw\u001b[0;34m(self, renderer)\u001b[0m\n\u001b[1;32m   3178\u001b[0m \u001b[38;5;28;01mif\u001b[39;00m artists_rasterized:\n\u001b[1;32m   3179\u001b[0m     _draw_rasterized(\u001b[38;5;28mself\u001b[39m\u001b[38;5;241m.\u001b[39mget_figure(root\u001b[38;5;241m=\u001b[39m\u001b[38;5;28;01mTrue\u001b[39;00m), artists_rasterized, renderer)\n\u001b[0;32m-> 3181\u001b[0m \u001b[43mmimage\u001b[49m\u001b[38;5;241;43m.\u001b[39;49m\u001b[43m_draw_list_compositing_images\u001b[49m\u001b[43m(\u001b[49m\n\u001b[1;32m   3182\u001b[0m \u001b[43m    \u001b[49m\u001b[43mrenderer\u001b[49m\u001b[43m,\u001b[49m\u001b[43m \u001b[49m\u001b[38;5;28;43mself\u001b[39;49m\u001b[43m,\u001b[49m\u001b[43m \u001b[49m\u001b[43martists\u001b[49m\u001b[43m,\u001b[49m\u001b[43m \u001b[49m\u001b[38;5;28;43mself\u001b[39;49m\u001b[38;5;241;43m.\u001b[39;49m\u001b[43mget_figure\u001b[49m\u001b[43m(\u001b[49m\u001b[43mroot\u001b[49m\u001b[38;5;241;43m=\u001b[39;49m\u001b[38;5;28;43;01mTrue\u001b[39;49;00m\u001b[43m)\u001b[49m\u001b[38;5;241;43m.\u001b[39;49m\u001b[43msuppressComposite\u001b[49m\u001b[43m)\u001b[49m\n\u001b[1;32m   3184\u001b[0m renderer\u001b[38;5;241m.\u001b[39mclose_group(\u001b[38;5;124m'\u001b[39m\u001b[38;5;124maxes\u001b[39m\u001b[38;5;124m'\u001b[39m)\n\u001b[1;32m   3185\u001b[0m \u001b[38;5;28mself\u001b[39m\u001b[38;5;241m.\u001b[39mstale \u001b[38;5;241m=\u001b[39m \u001b[38;5;28;01mFalse\u001b[39;00m\n",
      "File \u001b[0;32m~/envs/jax_env/lib/python3.12/site-packages/matplotlib/image.py:134\u001b[0m, in \u001b[0;36m_draw_list_compositing_images\u001b[0;34m(renderer, parent, artists, suppress_composite)\u001b[0m\n\u001b[1;32m    132\u001b[0m \u001b[38;5;28;01mif\u001b[39;00m not_composite \u001b[38;5;129;01mor\u001b[39;00m \u001b[38;5;129;01mnot\u001b[39;00m has_images:\n\u001b[1;32m    133\u001b[0m     \u001b[38;5;28;01mfor\u001b[39;00m a \u001b[38;5;129;01min\u001b[39;00m artists:\n\u001b[0;32m--> 134\u001b[0m         \u001b[43ma\u001b[49m\u001b[38;5;241;43m.\u001b[39;49m\u001b[43mdraw\u001b[49m\u001b[43m(\u001b[49m\u001b[43mrenderer\u001b[49m\u001b[43m)\u001b[49m\n\u001b[1;32m    135\u001b[0m \u001b[38;5;28;01melse\u001b[39;00m:\n\u001b[1;32m    136\u001b[0m     \u001b[38;5;66;03m# Composite any adjacent images together\u001b[39;00m\n\u001b[1;32m    137\u001b[0m     image_group \u001b[38;5;241m=\u001b[39m []\n",
      "File \u001b[0;32m~/envs/jax_env/lib/python3.12/site-packages/matplotlib/artist.py:71\u001b[0m, in \u001b[0;36mallow_rasterization.<locals>.draw_wrapper\u001b[0;34m(artist, renderer)\u001b[0m\n\u001b[1;32m     68\u001b[0m     \u001b[38;5;28;01mif\u001b[39;00m artist\u001b[38;5;241m.\u001b[39mget_agg_filter() \u001b[38;5;129;01mis\u001b[39;00m \u001b[38;5;129;01mnot\u001b[39;00m \u001b[38;5;28;01mNone\u001b[39;00m:\n\u001b[1;32m     69\u001b[0m         renderer\u001b[38;5;241m.\u001b[39mstart_filter()\n\u001b[0;32m---> 71\u001b[0m     \u001b[38;5;28;01mreturn\u001b[39;00m \u001b[43mdraw\u001b[49m\u001b[43m(\u001b[49m\u001b[43martist\u001b[49m\u001b[43m,\u001b[49m\u001b[43m \u001b[49m\u001b[43mrenderer\u001b[49m\u001b[43m)\u001b[49m\n\u001b[1;32m     72\u001b[0m \u001b[38;5;28;01mfinally\u001b[39;00m:\n\u001b[1;32m     73\u001b[0m     \u001b[38;5;28;01mif\u001b[39;00m artist\u001b[38;5;241m.\u001b[39mget_agg_filter() \u001b[38;5;129;01mis\u001b[39;00m \u001b[38;5;129;01mnot\u001b[39;00m \u001b[38;5;28;01mNone\u001b[39;00m:\n",
      "File \u001b[0;32m~/envs/jax_env/lib/python3.12/site-packages/matplotlib/axis.py:1415\u001b[0m, in \u001b[0;36mAxis.draw\u001b[0;34m(self, renderer)\u001b[0m\n\u001b[1;32m   1412\u001b[0m     \u001b[38;5;28;01mreturn\u001b[39;00m\n\u001b[1;32m   1413\u001b[0m renderer\u001b[38;5;241m.\u001b[39mopen_group(\u001b[38;5;18m__name__\u001b[39m, gid\u001b[38;5;241m=\u001b[39m\u001b[38;5;28mself\u001b[39m\u001b[38;5;241m.\u001b[39mget_gid())\n\u001b[0;32m-> 1415\u001b[0m ticks_to_draw \u001b[38;5;241m=\u001b[39m \u001b[38;5;28;43mself\u001b[39;49m\u001b[38;5;241;43m.\u001b[39;49m\u001b[43m_update_ticks\u001b[49m\u001b[43m(\u001b[49m\u001b[43m)\u001b[49m\n\u001b[1;32m   1416\u001b[0m tlb1, tlb2 \u001b[38;5;241m=\u001b[39m \u001b[38;5;28mself\u001b[39m\u001b[38;5;241m.\u001b[39m_get_ticklabel_bboxes(ticks_to_draw, renderer)\n\u001b[1;32m   1418\u001b[0m \u001b[38;5;28;01mfor\u001b[39;00m tick \u001b[38;5;129;01min\u001b[39;00m ticks_to_draw:\n",
      "File \u001b[0;32m~/envs/jax_env/lib/python3.12/site-packages/matplotlib/axis.py:1292\u001b[0m, in \u001b[0;36mAxis._update_ticks\u001b[0;34m(self)\u001b[0m\n\u001b[1;32m   1287\u001b[0m \u001b[38;5;28;01mdef\u001b[39;00m\u001b[38;5;250m \u001b[39m\u001b[38;5;21m_update_ticks\u001b[39m(\u001b[38;5;28mself\u001b[39m):\n\u001b[1;32m   1288\u001b[0m \u001b[38;5;250m    \u001b[39m\u001b[38;5;124;03m\"\"\"\u001b[39;00m\n\u001b[1;32m   1289\u001b[0m \u001b[38;5;124;03m    Update ticks (position and labels) using the current data interval of\u001b[39;00m\n\u001b[1;32m   1290\u001b[0m \u001b[38;5;124;03m    the axes.  Return the list of ticks that will be drawn.\u001b[39;00m\n\u001b[1;32m   1291\u001b[0m \u001b[38;5;124;03m    \"\"\"\u001b[39;00m\n\u001b[0;32m-> 1292\u001b[0m     major_locs \u001b[38;5;241m=\u001b[39m \u001b[38;5;28;43mself\u001b[39;49m\u001b[38;5;241;43m.\u001b[39;49m\u001b[43mget_majorticklocs\u001b[49m\u001b[43m(\u001b[49m\u001b[43m)\u001b[49m\n\u001b[1;32m   1293\u001b[0m     major_labels \u001b[38;5;241m=\u001b[39m \u001b[38;5;28mself\u001b[39m\u001b[38;5;241m.\u001b[39mmajor\u001b[38;5;241m.\u001b[39mformatter\u001b[38;5;241m.\u001b[39mformat_ticks(major_locs)\n\u001b[1;32m   1294\u001b[0m     major_ticks \u001b[38;5;241m=\u001b[39m \u001b[38;5;28mself\u001b[39m\u001b[38;5;241m.\u001b[39mget_major_ticks(\u001b[38;5;28mlen\u001b[39m(major_locs))\n",
      "File \u001b[0;32m~/envs/jax_env/lib/python3.12/site-packages/matplotlib/axis.py:1536\u001b[0m, in \u001b[0;36mAxis.get_majorticklocs\u001b[0;34m(self)\u001b[0m\n\u001b[1;32m   1534\u001b[0m \u001b[38;5;28;01mdef\u001b[39;00m\u001b[38;5;250m \u001b[39m\u001b[38;5;21mget_majorticklocs\u001b[39m(\u001b[38;5;28mself\u001b[39m):\n\u001b[1;32m   1535\u001b[0m \u001b[38;5;250m    \u001b[39m\u001b[38;5;124;03m\"\"\"Return this Axis' major tick locations in data coordinates.\"\"\"\u001b[39;00m\n\u001b[0;32m-> 1536\u001b[0m     \u001b[38;5;28;01mreturn\u001b[39;00m \u001b[38;5;28;43mself\u001b[39;49m\u001b[38;5;241;43m.\u001b[39;49m\u001b[43mmajor\u001b[49m\u001b[38;5;241;43m.\u001b[39;49m\u001b[43mlocator\u001b[49m\u001b[43m(\u001b[49m\u001b[43m)\u001b[49m\n",
      "File \u001b[0;32m~/envs/jax_env/lib/python3.12/site-packages/matplotlib/ticker.py:2399\u001b[0m, in \u001b[0;36mLogLocator.__call__\u001b[0;34m(self)\u001b[0m\n\u001b[1;32m   2397\u001b[0m \u001b[38;5;250m\u001b[39m\u001b[38;5;124;03m\"\"\"Return the locations of the ticks.\"\"\"\u001b[39;00m\n\u001b[1;32m   2398\u001b[0m vmin, vmax \u001b[38;5;241m=\u001b[39m \u001b[38;5;28mself\u001b[39m\u001b[38;5;241m.\u001b[39maxis\u001b[38;5;241m.\u001b[39mget_view_interval()\n\u001b[0;32m-> 2399\u001b[0m \u001b[38;5;28;01mreturn\u001b[39;00m \u001b[38;5;28;43mself\u001b[39;49m\u001b[38;5;241;43m.\u001b[39;49m\u001b[43mtick_values\u001b[49m\u001b[43m(\u001b[49m\u001b[43mvmin\u001b[49m\u001b[43m,\u001b[49m\u001b[43m \u001b[49m\u001b[43mvmax\u001b[49m\u001b[43m)\u001b[49m\n",
      "File \u001b[0;32m~/envs/jax_env/lib/python3.12/site-packages/matplotlib/ticker.py:2404\u001b[0m, in \u001b[0;36mLogLocator.tick_values\u001b[0;34m(self, vmin, vmax)\u001b[0m\n\u001b[1;32m   2402\u001b[0m \u001b[38;5;28;01mif\u001b[39;00m \u001b[38;5;28mself\u001b[39m\u001b[38;5;241m.\u001b[39mnumticks \u001b[38;5;241m==\u001b[39m \u001b[38;5;124m'\u001b[39m\u001b[38;5;124mauto\u001b[39m\u001b[38;5;124m'\u001b[39m:\n\u001b[1;32m   2403\u001b[0m     \u001b[38;5;28;01mif\u001b[39;00m \u001b[38;5;28mself\u001b[39m\u001b[38;5;241m.\u001b[39maxis \u001b[38;5;129;01mis\u001b[39;00m \u001b[38;5;129;01mnot\u001b[39;00m \u001b[38;5;28;01mNone\u001b[39;00m:\n\u001b[0;32m-> 2404\u001b[0m         numticks \u001b[38;5;241m=\u001b[39m np\u001b[38;5;241m.\u001b[39mclip(\u001b[38;5;28;43mself\u001b[39;49m\u001b[38;5;241;43m.\u001b[39;49m\u001b[43maxis\u001b[49m\u001b[38;5;241;43m.\u001b[39;49m\u001b[43mget_tick_space\u001b[49m\u001b[43m(\u001b[49m\u001b[43m)\u001b[49m, \u001b[38;5;241m2\u001b[39m, \u001b[38;5;241m9\u001b[39m)\n\u001b[1;32m   2405\u001b[0m     \u001b[38;5;28;01melse\u001b[39;00m:\n\u001b[1;32m   2406\u001b[0m         numticks \u001b[38;5;241m=\u001b[39m \u001b[38;5;241m9\u001b[39m\n",
      "File \u001b[0;32m~/envs/jax_env/lib/python3.12/site-packages/matplotlib/axis.py:2599\u001b[0m, in \u001b[0;36mXAxis.get_tick_space\u001b[0;34m(self)\u001b[0m\n\u001b[1;32m   2597\u001b[0m size \u001b[38;5;241m=\u001b[39m \u001b[38;5;28mself\u001b[39m\u001b[38;5;241m.\u001b[39m_get_tick_label_size(\u001b[38;5;124m'\u001b[39m\u001b[38;5;124mx\u001b[39m\u001b[38;5;124m'\u001b[39m) \u001b[38;5;241m*\u001b[39m \u001b[38;5;241m3\u001b[39m\n\u001b[1;32m   2598\u001b[0m \u001b[38;5;28;01mif\u001b[39;00m size \u001b[38;5;241m>\u001b[39m \u001b[38;5;241m0\u001b[39m:\n\u001b[0;32m-> 2599\u001b[0m     \u001b[38;5;28;01mreturn\u001b[39;00m \u001b[38;5;28mint\u001b[39m(\u001b[43mnp\u001b[49m\u001b[38;5;241;43m.\u001b[39;49m\u001b[43mfloor\u001b[49m\u001b[43m(\u001b[49m\u001b[43mlength\u001b[49m\u001b[43m \u001b[49m\u001b[38;5;241;43m/\u001b[39;49m\u001b[43m \u001b[49m\u001b[43msize\u001b[49m\u001b[43m)\u001b[49m)\n\u001b[1;32m   2600\u001b[0m \u001b[38;5;28;01melse\u001b[39;00m:\n\u001b[1;32m   2601\u001b[0m     \u001b[38;5;28;01mreturn\u001b[39;00m \u001b[38;5;241m2\u001b[39m\u001b[38;5;241m*\u001b[39m\u001b[38;5;241m*\u001b[39m\u001b[38;5;241m31\u001b[39m \u001b[38;5;241m-\u001b[39m \u001b[38;5;241m1\u001b[39m\n",
      "\u001b[0;31mKeyboardInterrupt\u001b[0m: "
     ]
    }
   ],
   "source": [
    "# Now you can, for example, slice out the diagonal to get error bars:\n",
    "diag_vals = jnp.diag(scaled_M_llp)   # shape (n_ell,)\n",
    "diag_vals_G = jnp.diag(scaled_M_G_llp)   # shape (n_ell,)\n",
    "# print(diag_vals_G)\n",
    "sigma = jnp.sqrt(diag_vals)\n",
    "sigma_G = jnp.sqrt(diag_vals_G)\n",
    "D_yy = ell * (ell + 1) * C_yy / (2 * jnp.pi)\n",
    "# Then you can plot C_ell^{yy} with error bars = sqrt(M_{ell,ell}).\n",
    "\n",
    "plt.figure(figsize=(7,5))\n",
    "plt.errorbar(ell_arr, D_yy*1e12, yerr=sigma*1e12, fmt='.-', label=r'$D_\\ell^{yy}$ (with errors)', color='b')\n",
    "plt.errorbar(ell_arr, D_yy*1e12, yerr=sigma_G*1e12, fmt='.', label=r'$D_\\ell^{yy}$ (Gaussian errors)', color='r')\n",
    "plt.xlabel(r'$\\ell$')\n",
    "plt.ylabel(r'$D_\\ell^{yy}$')\n",
    "plt.xscale('log')\n",
    "plt.yscale('log')\n",
    "plt.xlim(1, 1e4)\n",
    "# plt.ylim(1e-3, 1e1)\n",
    "plt.legend()\n",
    "plt.title('tSZ Power Spectrum and Diagonal Errors')\n",
    "plt.grid(visible=True, which=\"both\", alpha=0.2, linestyle='--')\n",
    "plt.show()\n"
   ]
  }
 ],
 "metadata": {
  "kernelspec": {
   "display_name": "jax_env",
   "language": "python",
   "name": "python3"
  },
  "language_info": {
   "codemirror_mode": {
    "name": "ipython",
    "version": 3
   },
   "file_extension": ".py",
   "mimetype": "text/x-python",
   "name": "python",
   "nbconvert_exporter": "python",
   "pygments_lexer": "ipython3",
   "version": "3.12.4"
  }
 },
 "nbformat": 4,
 "nbformat_minor": 2
}
