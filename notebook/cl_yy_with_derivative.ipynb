{
 "cells": [
  {
   "cell_type": "code",
   "execution_count": 5,
   "metadata": {},
   "outputs": [],
   "source": [
    "import numpy as np\n",
    "import mcfit\n",
    "from mcfit import TophatVar\n",
    "import jax\n",
    "import jax.numpy as jnp\n",
    "import jax.scipy as jscipy\n",
    "from jax.scipy.interpolate import RegularGridInterpolator\n",
    "from jax.scipy.integrate import trapezoid\n",
    "import functools\n",
    "import matplotlib.pyplot as plt\n",
    "from classy_sz import Class as Class_sz\n",
    "from scipy.integrate import simpson"
   ]
  },
  {
   "cell_type": "code",
   "execution_count": 6,
   "metadata": {},
   "outputs": [],
   "source": [
    "# cosmo_params = {\n",
    "# 'omega_b': 0.02242,\n",
    "# 'omega_cdm':  0.11933,\n",
    "# 'H0': 67.66, # use H0 because this is what is used by the emulators and to avoid any ambiguity when comparing with camb.\n",
    "# # 'H0': 80, # use H0 because this is what is used by the emulators and to avoid any ambiguity when comparing with camb.\n",
    "# 'tau_reio': 0.0561,\n",
    "# 'ln10^{10}A_s': 3.047,\n",
    "# 'n_s': 0.9665,\n",
    "# }"
   ]
  },
  {
   "cell_type": "code",
   "execution_count": 7,
   "metadata": {},
   "outputs": [],
   "source": [
    "# %%time\n",
    "# classy_sz = Class_sz()\n",
    "# classy_sz.set(cosmo_params)\n",
    "# classy_sz.set({\n",
    "# 'output':' ',\n",
    "# 'M_min': 1.0e10,\n",
    "# 'M_max': 3.5e15,\n",
    "\n",
    "# \"ell_min\" : 2,\n",
    "# \"ell_max\" : 8000,\n",
    "# # 'dell': 10,\n",
    "# 'dlogell': 0.05,\n",
    "\n",
    "# 'z_min' : 0.005,\n",
    "# 'z_max' : 3.0,\n",
    "\n",
    "# 'pressure_profile':'GNFW', # can be Battaglia, Arnaud, etc\n",
    "    \n",
    "# \"P0GNFW\": 8.130,\n",
    "# \"c500\": 1.156,\n",
    "# \"gammaGNFW\": 0.3292,\n",
    "# \"alphaGNFW\": 1.0620,\n",
    "# \"betaGNFW\":5.4807,\n",
    "\n",
    "# # X ray mass bias (if applicable)\n",
    "# 'B' : 1.25,\n",
    "\n",
    "# 'jax' : 1, # Enable jax\n",
    "# })\n",
    "\n",
    "# classy_sz.compute_class_szfast()"
   ]
  },
  {
   "cell_type": "code",
   "execution_count": 8,
   "metadata": {},
   "outputs": [],
   "source": [
    "allpars = {\n",
    "'omega_b': 0.02242,\n",
    "'omega_cdm':  0.1193,\n",
    "'H0': 67.66, # use H0 because this is what is used by the emulators and to avoid any ambiguity when comparing with camb.\n",
    "# 'H0': 80, # use H0 because this is what is used by the emulators and to avoid any ambiguity when comparing with camb.\n",
    "'tau_reio': 0.0561,\n",
    "'ln10^{10}A_s': 3.047,\n",
    "# 'sigma8': 0.8,\n",
    "'n_s': 0.9665,\n",
    "# \"cosmo_model\": 0, # use mnu-lcdm emulators\n",
    "\n",
    "'M_min': 1.0e10,\n",
    "'M_max': 3.5e15,\n",
    "\n",
    "# \"ell_min\" : 2,\n",
    "# \"ell_max\" : 8000,\n",
    "# # 'dell': 10,\n",
    "# 'dlogell': 0.1,\n",
    "\n",
    "'z_min' : 0.005,\n",
    "'z_max' : 3.0,\n",
    "\n",
    "\"P0GNFW\": 8.130,\n",
    "\"c500\": 1.156,\n",
    "\"gammaGNFW\": 0.3292,\n",
    "\"alphaGNFW\": 1.0620,\n",
    "\"betaGNFW\":5.4807,\n",
    "# X ray mass bias (if applicable)\n",
    "'B' : 1.,\n",
    "\"cosmo_model\": 1, # use mnu-lcdm emulators\n",
    "\n",
    "'jax' : 1, # Enable jax\n",
    "}"
   ]
  },
  {
   "cell_type": "code",
   "execution_count": 9,
   "metadata": {},
   "outputs": [],
   "source": [
    "classy_sz = Class_sz()\n",
    "classy_sz.set(allpars)\n",
    "classy_sz.set({\n",
    "'output':'',\n",
    "'pressure_profile':'GNFW', # can be Battaglia, Arnaud, etc\n",
    "})\n",
    "classy_sz.compute_class_szfast()"
   ]
  },
  {
   "cell_type": "code",
   "execution_count": 10,
   "metadata": {},
   "outputs": [],
   "source": [
    "def gnfw_pressure_profile(x, z, m, params_values_dict = None):\n",
    "    \"\"\"\n",
    "    GNFW pressure profile\n",
    "    \"\"\"\n",
    "    # Obtain cosmological parameters from classy_sz\n",
    "    rparams = classy_sz.get_all_relevant_params(params_values_dict = params_values_dict)\n",
    "    # rparams = classy_sz.pars\n",
    "    conv_fac = 299792.458 # speed of light\n",
    "    h = rparams['H0']/100\n",
    "    H = classy_sz.get_hubble_at_z(z, params_values_dict = params_values_dict) * conv_fac  # Hubble parameter at given z\n",
    "    H0 = rparams['H0']  # Hubble parameter at z=0\n",
    "\n",
    "    # GNFW prefactor\n",
    "    B = rparams['B']    \n",
    "    m_delta_tilde = (m / B) # convert to M_sun \n",
    "    C = 1.65 * (h / 0.7)**2 * (H / H0)**(8 / 3) * (m_delta_tilde / (0.7 * 3e14))**(2 / 3 + 0.12) * (0.7/h)**1.5 # eV cm^-3\n",
    "    c500 = rparams['c500']\n",
    "    gamma = rparams['gammaGNFW']\n",
    "    alpha = rparams['alphaGNFW']\n",
    "    beta = rparams['betaGNFW']\n",
    "    P0 = rparams['P0GNFW']\n",
    "\n",
    "    # Calculate scaled radius and pressure profile\n",
    "    scaled_x = c500 * x\n",
    "    term1 = scaled_x**(-gamma)\n",
    "    term2 = (1 + scaled_x**alpha)**((gamma - beta) / alpha)\n",
    "    Pe = C * P0 * term1 * term2\n",
    "\n",
    "    return Pe\n"
   ]
  },
  {
   "cell_type": "code",
   "execution_count": 11,
   "metadata": {},
   "outputs": [],
   "source": [
    "def window_function(x, x_min, x_max):\n",
    "    \"\"\"\n",
    "    Since the integral is between x_min and x_max\n",
    "    \"\"\"\n",
    "\n",
    "    return np.where((x >= x_min) & (x <= x_max), 1.0, 0.0)"
   ]
  },
  {
   "cell_type": "code",
   "execution_count": 12,
   "metadata": {},
   "outputs": [],
   "source": [
    "def hankel_integrand(x, z, m, x_min=1e-6, x_max=4, params_values_dict = None):\n",
    "    \"\"\"\n",
    "    Compute x^0.5 * Pe(x) * W(x).\n",
    "    Handles x and m as arrays using vmap for vectorization.\n",
    "    \"\"\"\n",
    "    # Vectorize over m\n",
    "    def single_m(m_val, params_values_dict = params_values_dict):\n",
    "        # Compute GNFW pressure profile for given m\n",
    "        Pe = gnfw_pressure_profile(x, z, m_val, params_values_dict = params_values_dict)\n",
    "        \n",
    "        # Compute the window function\n",
    "        W_x = window_function(x, x_min, x_max)\n",
    "        \n",
    "        # Combine the result\n",
    "        return x**0.5 * Pe * W_x\n",
    "    \n",
    "    # Apply vmap to vectorize over m\n",
    "    result = jax.vmap(single_m)(m)\n",
    "    \n",
    "    return result  # Shape: (len(m), len(x))"
   ]
  },
  {
   "cell_type": "code",
   "execution_count": 13,
   "metadata": {},
   "outputs": [],
   "source": [
    "def mpc_per_h_to_cm(mpc_per_h, h):\n",
    "    \"\"\"\n",
    "    Converts a distance in Mpc/h to centimeters.\n",
    "    \"\"\"\n",
    "    # 1 megaparsec (Mpc) in centimeters\n",
    "    Mpc_to_cm = 3.085677581e24  # cm\n",
    "\n",
    "    # Convert Mpc/h to Mpc by dividing by h\n",
    "    mpc = mpc_per_h / h\n",
    "\n",
    "    # Convert Mpc to cm\n",
    "    cm = mpc * Mpc_to_cm\n",
    "\n",
    "    return cm"
   ]
  },
  {
   "cell_type": "code",
   "execution_count": 14,
   "metadata": {},
   "outputs": [],
   "source": [
    "def y_ell_prefactor(z, m, delta = 500, params_values_dict = None): \n",
    "    \n",
    "    rparams = classy_sz.get_all_relevant_params(params_values_dict = params_values_dict)\n",
    "    # rparams = classy_sz.pars\n",
    "    h = rparams['H0']/100\n",
    "    B = rparams['B']\n",
    "    # print(rparams)\n",
    "    me_in_eV = 510998.95 # electron mass in eV/c^2\n",
    "    # me_in_eV = 511000 # electron mass in eV/c^2\n",
    "    sigmat_cm = 6.6524587321e-25 # Thomson cross section in cm^2\n",
    "    sigmat_over_mec2 = sigmat_cm / me_in_eV\n",
    "    # sigmat_over_mec2 = 283.2980000259841 / 0.5176\n",
    "\n",
    "    dAz = classy_sz.get_angular_distance_at_z(z,params_values_dict = params_values_dict)*h\n",
    "    # dAz = classy_sz.get_angular_distance_at_z(z,params_values_dict = params_values_dict)/(1+z)*h # in Mpc/h\n",
    "    r_delta = classy_sz.get_r_delta_of_m_delta_at_z(delta, m, z, params_values_dict = params_values_dict)/(B**(1/3))  # in Mpc/h\n",
    "    ell_delta = dAz/r_delta\n",
    "    # print(ell_delta)\n",
    "    h = rparams['H0']/100\n",
    "\n",
    "    r_delta_cm = mpc_per_h_to_cm(r_delta, h)  # r is in cm \n",
    "    # print(r_delta_cm/ell_delta**2)\n",
    "    # print(sigmat_over_mec2)\n",
    "\n",
    "    prefactor = sigmat_over_mec2 * 4 * np.pi * r_delta_cm/(ell_delta**2)\n",
    "\n",
    "    return prefactor"
   ]
  },
  {
   "cell_type": "code",
   "execution_count": null,
   "metadata": {},
   "outputs": [],
   "source": [
    "def y_ell_complete(z, m, x_min=1e-6, x_max=4, params_values_dict = None):\n",
    "\n",
    "    rparams = classy_sz.get_all_relevant_params(params_values_dict = params_values_dict)\n",
    "    h = rparams['H0']/100\n",
    "    B = rparams['B']\n",
    "\n",
    "    prefactor = y_ell_prefactor(z, m, params_values_dict=params_values_dict)\n",
    "    # print(prefactor)\n",
    "    # Define x in logarithmic space\n",
    "    x = jnp.logspace(jnp.log10(1e-6), jnp.log10(1e5), num=1024)  # Avoid x = 0 to prevent divergence\n",
    "\n",
    "    integrand = hankel_integrand(x, z, m, x_min=1e-6, x_max=4, params_values_dict=params_values_dict)\n",
    "    # print(integrand)\n",
    "\n",
    "    # Hankel transform with JAX\n",
    "    H = mcfit.Hankel(x, nu=0.5, lowring=True, backend='jax') \n",
    "    H_jit = jax.jit(functools.partial(H, extrap=False))\n",
    "\n",
    "    k, y_k = H_jit(integrand) # Note that k = ell/ell_delta\n",
    "    # print(k)\n",
    "    # print(y_k)\n",
    "\n",
    "    dAz = classy_sz.get_angular_distance_at_z(z, params_values_dict = params_values_dict) * h # in Mpc/h\n",
    "    # dAz = classy_sz.get_angular_distance_at_z(z,params_values_dict = params_values_dict)/(1+z)*h # in Mpc/h\n",
    "\n",
    "    delta = 500\n",
    "    r_delta = classy_sz.get_r_delta_of_m_delta_at_z(delta, m, z, params_values_dict = params_values_dict)/(B**(1/3))  # in Mpc/h\n",
    "    # print(r_delta)\n",
    "    ell_delta = dAz/r_delta\n",
    "    # print(ell_delta)\n",
    "\n",
    "    ell = jnp.zeros(ell_delta.shape)\n",
    "    # ell = k * ell_delta  # Note that k = ell/ell_delta\n",
    "    ell = k[None, :] * ell_delta[:, None]\n",
    "    # print(\"shape  of ell:\", ell.shape)\n",
    "\n",
    "\n",
    "    # print(\"shape of k:\", k.shape)\n",
    "    # print(\"shape of ell_delta:\", ell_delta.shape)\n",
    "\n",
    "    # print(ell)\n",
    "    # print(ell_delta[:, None].shape)\n",
    "    # print(k[None, :])\n",
    "    # print(y_k.shape)\n",
    "    # print(prefactor.shape)\n",
    "    # print(prefactor[:, None])\n",
    "\n",
    "    # y_ell = prefactor * y_k * np.sqrt(np.pi/(2*k)) # multiply the prefactor of spherical Bessel to Hankel\n",
    "    y_ell = prefactor[:, None] * y_k * jnp.sqrt(jnp.pi / (2 * k[None, :]))\n",
    "\n",
    "    return ell, y_ell"
   ]
  },
  {
   "cell_type": "code",
   "execution_count": 16,
   "metadata": {},
   "outputs": [
    {
     "data": {
      "text/plain": [
       "(2, 128)"
      ]
     },
     "execution_count": 16,
     "metadata": {},
     "output_type": "execute_result"
    }
   ],
   "source": [
    "# m = jnp.linspace(5e13, 5e15, 100)\n",
    "m = jnp.array([1e10, 3.5e15])\n",
    "y_ell_complete(z=1, m=m, x_min=1e-9, x_max=10, params_values_dict=allpars)[0].shape"
   ]
  },
  {
   "cell_type": "code",
   "execution_count": 17,
   "metadata": {},
   "outputs": [],
   "source": [
    "def y_ell_interpolate(z, m, params_values_dict = None):\n",
    "    \"\"\"\n",
    "    Interpolate y_ell values onto a uniform ell grid for multiple m values.\n",
    "    \"\"\"\n",
    "    # Get cosmological parameters\n",
    "    rparams = classy_sz.pars\n",
    "    # l_min = rparams['ell_min']\n",
    "    # l_max = rparams['ell_max']\n",
    "    # dlogell = rparams['dlogell']\n",
    "\n",
    "\n",
    "    # log10_l_min = jnp.log10(l_min)\n",
    "    # log10_l_max = jnp.log10(l_max)\n",
    "    # num = int((log10_l_max - log10_l_min) / dlogell) + 1\n",
    "    # # print(num)\n",
    "\n",
    "    # Compute the complete y_ell values\n",
    "    ell_nointer_list, y_ell_nointer_list = y_ell_complete(z, m, params_values_dict = params_values_dict)\n",
    "\n",
    "    # Define evaluation ell values (uniform grid)\n",
    "    ell_eval = get_ell_range()\n",
    "\n",
    "    # Interpolator function for a single m\n",
    "    def interpolate_single(ell_nointer, y_ell_nointer):\n",
    "        interpolator = RegularGridInterpolator((ell_nointer,), y_ell_nointer, method='linear', bounds_error=False, fill_value=None)\n",
    "        return interpolator(ell_eval)\n",
    "\n",
    "    # Vectorize the interpolation across all m\n",
    "    interpolate_all = jax.vmap(interpolate_single, in_axes=(0, 0), out_axes=0)\n",
    "\n",
    "    # Perform the interpolation\n",
    "    y_ell_eval_list = interpolate_all(ell_nointer_list, y_ell_nointer_list)\n",
    "\n",
    "    return ell_eval, y_ell_eval_list\n"
   ]
  },
  {
   "cell_type": "code",
   "execution_count": 18,
   "metadata": {},
   "outputs": [],
   "source": [
    "# m = jnp.array([3e10,3e14, 5e15,1e16])\n",
    "# # m = jnp.array([5e15])\n",
    "# z = 1\n",
    "# y_ell_interpolate(z, m, params_values_dict=allpars)[1].shape"
   ]
  },
  {
   "cell_type": "code",
   "execution_count": 19,
   "metadata": {},
   "outputs": [
    {
     "data": {
      "text/plain": [
       "Array(1697.91140317, dtype=float64)"
      ]
     },
     "execution_count": 19,
     "metadata": {},
     "output_type": "execute_result"
    }
   ],
   "source": [
    "# classy_sz.get_r_delta_of_m_delta_at_z(500, 3e15, 1, params_values_dict=cosmo_params)\n",
    "classy_sz.get_angular_distance_at_z(1, params_values_dict = allpars)"
   ]
  },
  {
   "cell_type": "code",
   "execution_count": 20,
   "metadata": {},
   "outputs": [],
   "source": [
    "# z = 1\n",
    "# ell = y_ell_interpolate(z, m, params_values_dict=allpars)[0]\n",
    "# y_ell = y_ell_interpolate(z, m, params_values_dict=allpars)[1][0]\n",
    "# plt.plot(ell, y_ell, label='Interpolation', color='r')\n",
    "\n",
    "# ell_no_inter = y_ell_complete(z, m, params_values_dict = allpars)[0][0]\n",
    "# y_ell_no_inter = y_ell_complete(z, m, params_values_dict = allpars)[1][0]\n",
    "# plt.plot(ell_no_inter, y_ell_no_inter, label='No Interpolation', color='b') \n",
    "# plt.xlim(1,1e5)\n",
    "# # plt.ylim(1.5e-25,3e-25)\n",
    "# plt.ylabel(r'$y_{\\ell}$')\n",
    "# plt.xlabel(r'$\\ell$')\n",
    "# plt.xscale('log')\n",
    "# # plt.yscale('log')\n",
    "# plt.legend()\n",
    "# plt.show()"
   ]
  },
  {
   "cell_type": "code",
   "execution_count": 21,
   "metadata": {},
   "outputs": [],
   "source": [
    "# ell_delta = 2889.13353347\n",
    "# prefactor = y_ell_prefactor(z, m, params_values_dict= allpars)[0]\n",
    "# ell = y_ell_interpolate(z, m, params_values_dict= allpars)[0]\n",
    "# y_ell = y_ell_interpolate(z, m, params_values_dict= allpars)[1][0]\n",
    "# plt.plot(ell/ell_delta, y_ell/prefactor, label='Interpolation')\n",
    "\n",
    "# ell_no_inter = y_ell_complete(z, m, params_values_dict = allpars)[0][0]\n",
    "# y_ell_no_inter = y_ell_complete(z, m, params_values_dict = allpars)[1][0]\n",
    "# plt.plot(ell_no_inter/ell_delta, y_ell_no_inter/prefactor, label='No Interpolation')\n",
    "# plt.xlim(1e-5,1.5e5)\n",
    "# plt.ylim(1e-14,1e2)\n",
    "# plt.ylabel(r'$I_{gnfw}$')\n",
    "# plt.xlabel(r'$\\ell/\\ell_{500}$')\n",
    "# plt.xscale('log')\n",
    "# plt.yscale('log')\n",
    "# plt.legend()\n",
    "# plt.show()"
   ]
  },
  {
   "cell_type": "code",
   "execution_count": 22,
   "metadata": {},
   "outputs": [],
   "source": [
    "# z_min = 0.005\n",
    "# z_max = 3.0\n",
    "# z = jnp.geomspace(z_min, z_max, 100)\n",
    "# m = jnp.geomspace(1e10,1e15,100)\n",
    "# y_ell_interpolate(z=1, m=m)[1].shape"
   ]
  },
  {
   "cell_type": "markdown",
   "metadata": {},
   "source": [
    "## Halo mass function (T08500c)"
   ]
  },
  {
   "cell_type": "code",
   "execution_count": 23,
   "metadata": {},
   "outputs": [],
   "source": [
    "def MF_T08(sigmas, z, delta_mean):\n",
    "    # Convert delta_mean to log scale\n",
    "    delta_mean = jnp.log10(delta_mean)\n",
    "\n",
    "    # Define parameters as JAX arrays\n",
    "    delta_mean_tab = jnp.log10(jnp.array([200, 300, 400, 600, 800, 1200, 1600, 2400, 3200]))\n",
    "    A_tab = jnp.array([0.186, 0.200, 0.212, 0.218, 0.248, 0.255, 0.260, 0.260, 0.260])\n",
    "    aa_tab = jnp.array([1.47, 1.52, 1.56, 1.61, 1.87, 2.13, 2.30, 2.53, 2.66])\n",
    "    b_tab = jnp.array([2.57, 2.25, 2.05, 1.87, 1.59, 1.51, 1.46, 1.44, 1.41])\n",
    "    c_tab = jnp.array([1.19, 1.27, 1.34, 1.45, 1.58, 1.80, 1.97, 2.24, 2.44])\n",
    "\n",
    "    # Linear interpolation using jnp.interp\n",
    "    Ap = jnp.interp(delta_mean, delta_mean_tab, A_tab) * (1 + z) ** -0.14\n",
    "    a = jnp.interp(delta_mean, delta_mean_tab, aa_tab) * (1 + z) ** -0.06\n",
    "    b = jnp.interp(delta_mean, delta_mean_tab, b_tab) * (1 + z) ** -jnp.power(10, -jnp.power(0.75 / jnp.log10(jnp.power(10, delta_mean) / 75), 1.2))\n",
    "    c = jnp.interp(delta_mean, delta_mean_tab, c_tab)\n",
    "\n",
    "    # print(a.shape,b.shape,c.shape,Ap.shape,sigmas.shape)\n",
    "\n",
    "    # Calculate final result\n",
    "    result = 0.5 * Ap[:,None] * (jnp.power(sigmas / b[:, None], -a[:, None]) + 1) * jnp.exp(-c[:, None] / sigmas**2)\n",
    "\n",
    "    return result"
   ]
  },
  {
   "cell_type": "code",
   "execution_count": null,
   "metadata": {},
   "outputs": [],
   "source": [
    "def get_hmf_grid(delta = 500, delta_def = 'critical', params_values_dict = None):\n",
    "    \n",
    "    rparams = classy_sz.get_all_relevant_params(params_values_dict = params_values_dict)\n",
    "    # print(rparams)\n",
    "    h = rparams['h']\n",
    "    ## initialize (get ks)\n",
    "    z = 1.\n",
    "    _,ks = classy_sz.get_pkl_at_z(z,params_values_dict = params_values_dict)\n",
    "\n",
    "    # Define a single function for `get_pkl_at_z` calls\n",
    "    def get_pks_for_z(zp):\n",
    "        pks, ks = classy_sz.get_pkl_at_z(zp, params_values_dict= params_values_dict)\n",
    "        # print(pks)\n",
    "        return pks.flatten()\n",
    "\n",
    "    # Vectorize this function over `z_grid`\n",
    "    z_grid = classy_sz.z_grid()\n",
    "    P = jax.vmap(get_pks_for_z)(z_grid).T\n",
    "\n",
    "    # %timeit P = jax.vmap(get_pks_for_z)(z_grid).T\n",
    "\n",
    "    # Vectorize the TophatVar function over `z_grid`\n",
    "    def compute_tophat_var(pks, ks):\n",
    "        _, var_z = TophatVar(ks, lowring=True, backend='jax')(pks, extrap=True)\n",
    "        return var_z\n",
    "\n",
    "    # Apply the function to each column of P\n",
    "    var = jax.vmap(compute_tophat_var, in_axes=(1, None))(P, ks)\n",
    "\n",
    "\n",
    "    # # Vectorize the TophatVar function over `z_grid`\n",
    "    # def compute_tophat_dvar(pks, ks):\n",
    "    #     #analytical derivatives\n",
    "    #     rvar, var_z = TophatVar(ks, lowring=True, backend='jax',deriv=1)(pks*ks, extrap=True) \n",
    "        \n",
    "    #     #numerical derivatives\n",
    "    #     # var_z = jnp.gradient(jnp.sqrt(var),rvar)*2.*jnp.sqrt(var)\n",
    "    #     # cosmocnc:  TophatVar(self.k,lowring=True,deriv=1)(self.pk*self.k,extrap=True)\n",
    "    #     return var_z\n",
    "        # Vectorize the TophatVar function over `z_grid`\n",
    "    def compute_tophat_dvar(pks, ks, var = var):\n",
    "        # analytical method: ... doesnt work.....!\n",
    "        # rvar , dvar_z = TophatVar(ks, lowring=True, backend='jax',deriv=1)(pks*ks, extrap=True)\n",
    "        # numerical method: \n",
    "        rvar, var_z = TophatVar(ks, lowring=True, backend='jax')(pks, extrap=True)\n",
    "        dvar_z = jnp.gradient(jnp.sqrt(var_z),rvar)*2.*jnp.sqrt(var_z)\n",
    "        return dvar_z\n",
    "\n",
    "\n",
    "    # Apply the function to each column of P\n",
    "    dvar = jax.vmap(compute_tophat_dvar, in_axes=(1, None))(P, ks)\n",
    "    # %timeit dvar = jax.vmap(compute_tophat_dvar, in_axes=(1, None))(P, ks)\n",
    "\n",
    "\n",
    "    # Step 4: Compute gradient of var with respect to R\n",
    "    # Assuming R is uniform across z_grid, use the first R from TophatVar\n",
    "    R, _ = TophatVar(ks, lowring=True, backend='jax')(P[:, 0], extrap=True)\n",
    "    R = R.flatten()  # Ensure R has shape (1000,)\n",
    "    lnr_grid = jnp.log(R)\n",
    "    lnx_grid = jnp.log(1+z_grid)\n",
    "    \n",
    "    \n",
    "    \n",
    "    lnsigma_grid = 0.5*jnp.log(var)\n",
    "    \n",
    "    # dvar = R*jnp.gradient(var, jnp.log(R))\n",
    "    dsigma2_grid = dvar\n",
    "\n",
    "    \n",
    "    Rh = R*rparams['h']\n",
    "\n",
    "    lnm_grid = jnp.log(4*jnp.pi*rparams['Omega0_cb']*rparams['Rho_crit_0']*Rh**3/3.) # in h-units\n",
    "    \n",
    "    # Define the interpolator\n",
    "    # lnsigma_interpolator = jscipy.interpolate.RegularGridInterpolator((lnx_grid, lnm_grid), lnsigma_grid)\n",
    "    # dsigma2_interpolator = jscipy.interpolate.RegularGridInterpolator((lnx_grid, lnm_grid), dsigma2_grid)\n",
    "    # print(jnp.exp(lnm_grid)[0],jnp.exp(lnm_grid)[-1])\n",
    "    if delta_def == 'critical':\n",
    "        delta_mean = classy_sz.get_delta_mean_from_delta_crit_at_z(delta,z_grid,params_values_dict = params_values_dict)\n",
    "    elif delta_def == 'mean':\n",
    "        delta_mean = jnp.full_like(z_grid, delta)\n",
    "    else:\n",
    "        print(\"Not implemened yet\")\n",
    "    # print(delta_mean[0],delta_mean[-1])\n",
    "    \n",
    "    \n",
    "    delta_c =  (3./20.)*jnp.power(12.*jnp.pi,2./3.) # this is = 1.686470199841145\n",
    "    # print(delta_c)\n",
    "    # note here we dont use matter dependent delta_c\n",
    "    # which would be multiplied by (1.+0.012299*log10(pvecback[pba->index_bg_Omega_m]));\n",
    "    \n",
    "    \n",
    "    sigmas = jnp.exp(lnsigma_grid)\n",
    "    nus = (delta_c/sigmas)**2 ## currently for book keeping\n",
    "    # print(\"nus\",nus.shape)\n",
    "    # print(\"sigmas shape\",sigmas.shape)\n",
    "    # print(\"z_grid shape\",z_grid.shape)\n",
    "    # print(\"delta_mean shape\",delta_mean.shape)\n",
    "    \n",
    "    hmf = MF_T08(sigmas, z_grid, delta_mean)\n",
    "    # print(\"hmf shape\",hmf.shape)\n",
    "\n",
    "    lnSigma2 = 2.*lnsigma_grid\n",
    "    dlnsigmadlnR = dsigma2_grid/2.\n",
    "    dlnSigma2dlnR = 2.*dlnsigmadlnR*R/jnp.exp(lnSigma2)\n",
    "    dlnnudlnRh = -dlnSigma2dlnR\n",
    "    \n",
    "    # Return dn/dlogM in units of h^3 Mpc^-3\n",
    "    dndlnm_grid = 1./3.*3./(4.*jnp.pi*Rh**3)*dlnnudlnRh*hmf\n",
    "    return lnx_grid,lnm_grid,dndlnm_grid"
   ]
  },
  {
   "cell_type": "code",
   "execution_count": 25,
   "metadata": {},
   "outputs": [],
   "source": [
    "def get_hmf_at_z_and_m(z,m,params_values_dict = None):\n",
    "    lnx, lnm, dndlnm = get_hmf_grid(delta = 500, delta_def = 'critical', params_values_dict = params_values_dict)\n",
    "    hmf_interp = jscipy.interpolate.RegularGridInterpolator((lnx, lnm), jnp.log(dndlnm))\n",
    "    lnxp = jnp.log(1.+z)\n",
    "    lnmp = jnp.log(m)\n",
    "    return jnp.exp(hmf_interp((lnxp,lnmp)))"
   ]
  },
  {
   "cell_type": "code",
   "execution_count": 26,
   "metadata": {},
   "outputs": [
    {
     "name": "stdout",
     "output_type": "stream",
     "text": [
      "(500,)\n",
      "(500,)\n",
      "(500,)\n"
     ]
    },
    {
     "data": {
      "text/plain": [
       "(10000000000.0, 1000000000000000.0)"
      ]
     },
     "execution_count": 26,
     "metadata": {},
     "output_type": "execute_result"
    },
    {
     "data": {
      "image/png": "[encoded data removed]",
      "text/plain": [
       "<Figure size 640x480 with 1 Axes>"
      ]
     },
     "metadata": {},
     "output_type": "display_data"
    }
   ],
   "source": [
    "m = jnp.geomspace(1e10,1e15,200)\n",
    "for z in [0,1,2]:\n",
    "    dndlnm = get_hmf_at_z_and_m(z,m,params_values_dict = allpars)\n",
    "    plt.plot(m,dndlnm)\n",
    "plt.loglog()\n",
    "plt.grid(which='both',alpha=0.1)\n",
    "plt.ylim(1e-6,2e-1)\n",
    "plt.xlim(1e10,1e15)"
   ]
  },
  {
   "cell_type": "markdown",
   "metadata": {},
   "source": [
    "## Comoving volume element"
   ]
  },
  {
   "cell_type": "code",
   "execution_count": 27,
   "metadata": {},
   "outputs": [],
   "source": [
    "def dVdzdOmega(z, params_values_dict = None):\n",
    "\n",
    "    rparams = classy_sz.get_all_relevant_params(params_values_dict = params_values_dict)\n",
    "    h = rparams['h']\n",
    "    dAz = classy_sz.get_angular_distance_at_z(z,params_values_dict = params_values_dict) * h\n",
    "    # dAz = classy_sz.get_angular_distance_at_z(z,params_values_dict = cosmo_params)/(1+z)*h # in Mpc/h\n",
    "    Hz = classy_sz.get_hubble_at_z(z,params_values_dict = params_values_dict) / h # in Mpc^(-1) h\n",
    "    # print(Hz)\n",
    "\n",
    "    return (1+z)**2*dAz**2/Hz"
   ]
  },
  {
   "cell_type": "markdown",
   "metadata": {},
   "source": [
    "## Simpson integration"
   ]
  },
  {
   "cell_type": "code",
   "execution_count": 28,
   "metadata": {},
   "outputs": [],
   "source": [
    "def simpson(y, *, x=None, dx=1.0, axis=-1):\n",
    "    y = jnp.asarray(y)\n",
    "    nd = len(y.shape)\n",
    "    N = y.shape[axis]\n",
    "    last_dx = dx\n",
    "    returnshape = 0\n",
    "    if x is not None:\n",
    "        x = jnp.asarray(x)\n",
    "        if len(x.shape) == 1:\n",
    "            shapex = [1] * nd\n",
    "            shapex[axis] = x.shape[0]\n",
    "            saveshape = x.shape\n",
    "            returnshape = 1\n",
    "            x = x.reshape(tuple(shapex))\n",
    "        elif len(x.shape) != len(y.shape):\n",
    "            raise ValueError(\"If given, shape of x must be 1-D or the \"\n",
    "                             \"same as y.\")\n",
    "        if x.shape[axis] != N:\n",
    "            raise ValueError(\"If given, length of x along axis must be the \"\n",
    "                             \"same as y.\")\n",
    "    if N % 2 == 0:\n",
    "        val = 0.0\n",
    "        result = 0.0\n",
    "        slice_all = (slice(None),) * nd\n",
    "        if N == 2:\n",
    "            # need at least 3 points in integration axis to form parabolic\n",
    "            # segment. If there are two points then any of 'avg', 'first',\n",
    "            # 'last' should give the same result.\n",
    "            slice1 = tupleset(slice_all, axis, -1)\n",
    "            slice2 = tupleset(slice_all, axis, -2)\n",
    "            if x is not None:\n",
    "                last_dx = x[slice1] - x[slice2]\n",
    "            val += 0.5 * last_dx * (y[slice1] + y[slice2])\n",
    "        else:\n",
    "            # use Simpson's rule on first intervals\n",
    "            result = _basic_simpson(y, 0, N-3, x, dx, axis)\n",
    "            slice1 = tupleset(slice_all, axis, -1)\n",
    "            slice2 = tupleset(slice_all, axis, -2)\n",
    "            slice3 = tupleset(slice_all, axis, -3)\n",
    "            h = jnp.asarray([dx, dx], dtype=jnp.float64)\n",
    "            if x is not None:\n",
    "                # grab the last two spacings from the appropriate axis\n",
    "                hm2 = tupleset(slice_all, axis, slice(-2, -1, 1))\n",
    "                hm1 = tupleset(slice_all, axis, slice(-1, None, 1))\n",
    "                diffs = jnp.float64(jnp.diff(x, axis=axis))\n",
    "                h = [jnp.squeeze(diffs[hm2], axis=axis),\n",
    "                     jnp.squeeze(diffs[hm1], axis=axis)]\n",
    "            num = 2 * h[1] ** 2 + 3 * h[0] * h[1]\n",
    "            den = 6 * (h[1] + h[0])\n",
    "            alpha = jnp.true_divide(\n",
    "                num,\n",
    "                den,\n",
    "            )\n",
    "            num = h[1] ** 2 + 3.0 * h[0] * h[1]\n",
    "            den = 6 * h[0]\n",
    "            beta = jnp.true_divide(\n",
    "                num,\n",
    "                den,\n",
    "            )\n",
    "            num = 1 * h[1] ** 3\n",
    "            den = 6 * h[0] * (h[0] + h[1])\n",
    "            eta = jnp.true_divide(\n",
    "                num,\n",
    "                den,\n",
    "            )\n",
    "            result += alpha*y[slice1] + beta*y[slice2] - eta*y[slice3]\n",
    "        result += val\n",
    "    else:\n",
    "        result = _basic_simpson(y, 0, N-2, x, dx, axis)\n",
    "    if returnshape:\n",
    "        x = x.reshape(saveshape)\n",
    "    return result\n",
    "def _basic_simpson(y, start, stop, x, dx, axis):\n",
    "    nd = len(y.shape)\n",
    "    if start is None:\n",
    "        start = 0\n",
    "    step = 2\n",
    "    slice_all = (slice(None),)*nd\n",
    "    slice0 = tupleset(slice_all, axis, slice(start, stop, step))\n",
    "    slice1 = tupleset(slice_all, axis, slice(start+1, stop+1, step))\n",
    "    slice2 = tupleset(slice_all, axis, slice(start+2, stop+2, step))\n",
    "    if x is None:  # Even-spaced Simpson's rule.\n",
    "        result = jnp.sum(y[slice0] + 4.0*y[slice1] + y[slice2], axis=axis)\n",
    "        result *= dx / 3.0\n",
    "    else:\n",
    "        # Account for possibly different spacings.\n",
    "        #    Simpson's rule changes a bit.\n",
    "        h = jnp.diff(x, axis=axis)\n",
    "        sl0 = tupleset(slice_all, axis, slice(start, stop, step))\n",
    "        sl1 = tupleset(slice_all, axis, slice(start+1, stop+1, step))\n",
    "        h0 = h[sl0].astype(float)\n",
    "        h1 = h[sl1].astype(float)\n",
    "        hsum = h0 + h1\n",
    "        hprod = h0 * h1\n",
    "        h0divh1 = jnp.true_divide(h0, h1)\n",
    "        tmp = hsum/6.0 * (y[slice0] *\n",
    "                          (2.0 - jnp.true_divide(1.0, h0divh1)) +\n",
    "                          y[slice1] * (hsum *\n",
    "                                       jnp.true_divide(hsum, hprod)) +\n",
    "                          y[slice2] * (2.0 - h0divh1))\n",
    "        result = jnp.sum(tmp, axis=axis)\n",
    "    return result\n",
    "def tupleset(t, i, value):\n",
    "    l = list(t)\n",
    "    l[i] = value\n",
    "    return tuple(l)"
   ]
  },
  {
   "cell_type": "code",
   "execution_count": 29,
   "metadata": {},
   "outputs": [],
   "source": [
    "z_min = 0.005\n",
    "z_max = 3.0\n",
    "z_grid = jnp.geomspace(z_min, z_max, 100)\n",
    "m_grid = jnp.geomspace(1e10,3.5e15,100)\n",
    "# z_grid = jnp.linspace(z_min, z_max, 100)\n",
    "# m_grid = jnp.logspace(jnp.log10(1e10),jnp.log10(3.5e15),100)"
   ]
  },
  {
   "cell_type": "code",
   "execution_count": 30,
   "metadata": {},
   "outputs": [],
   "source": [
    "# def compute_integrand_at_z(z):\n",
    "#     # Compute dndlnm, ell, and y_ell for a single redshift z\n",
    "#     dndlnm = get_hmf_at_z_and_m(z = z, m=m_grid, params_values_dict=cosmo_params)\n",
    "\n",
    "#     ell = y_ell_interpolate(z=z, m=m_grid)[0]\n",
    "#     y_ell = y_ell_interpolate(z=z, m=m_grid)[1]\n",
    "    \n",
    "#     # Compute C_yy for all ell\n",
    "#     integral_m = dndlnm[:, None] * (y_ell**2) / m_grid[:, None] # Shape: (len(m_grid), len(ell))\n",
    "#     # C_yy = jax.vmap(lambda col: trapezoid(col, m_grid, dm), in_axes=1)(integral_m)\n",
    "#     C_yy_z = jnp.zeros(len(ell))\n",
    "\n",
    "#     for i in range(len(ell)):\n",
    "#         # C_yy_z[i] = simpson(integral_m[:,i], x=m_grid, dx=m_grid[1]-m_grid[0])\n",
    "#         C_yy_z = C_yy_z.at[i].set(simpson(integral_m[:,i], x=m_grid, dx=(m_grid[1]-m_grid[0])))\n",
    "\n",
    "#     return C_yy_z"
   ]
  },
  {
   "cell_type": "code",
   "execution_count": 31,
   "metadata": {},
   "outputs": [],
   "source": [
    "# def get_ytimeshmf_grid(params_values_dict = None):\n",
    "    \n",
    "#     rparams = classy_sz.get_all_relevant_params(params_values_dict = params_values_dict)\n",
    "#     allparams = classy_sz.pars\n",
    "    \n",
    "\n",
    "#     z_min = allparams['z_min']\n",
    "#     z_max = allparams['z_max']\n",
    "#     z_grid = jnp.geomspace(z_min, z_max, 100)\n",
    "    \n",
    "\n",
    "#     # Define an m_grid:\n",
    "#     M_min = allparams['M_min']\n",
    "#     M_max = allparams['M_max']\n",
    "#     m_grid_yl = jnp.geomspace(M_min,M_max,100)\n",
    "\n",
    "\n",
    "#     def get_yellm_for_z(zp):\n",
    "#         ell, y_ellm = y_ell_interpolate(zp, m_grid_yl)\n",
    "#         # print(y_ellm)\n",
    "#         # print(ell.shape)\n",
    "#         # ell, y_ellm = y_ell_interpolate(zp, m_grid_yl)\n",
    "#         return y_ellm\n",
    "    \n",
    "#     def get_hmf_for_z(zp):\n",
    "#         dndlnm = get_hmf_at_z_and_m(z = zp, m=m_grid_yl, params_values_dict=cosmo_params)\n",
    "#         return dndlnm\n",
    " \n",
    "\n",
    "    \n",
    "#     # Vectorize this function over `z_grid`\n",
    "#     y_ell_mz_grid = jax.vmap(get_yellm_for_z)(z_grid)\n",
    "#     dndlnm_grid = jax.vmap(get_hmf_for_z)(z_grid)\n",
    "#     # print(y_ell_mz_grid.shape)\n",
    "#     # print(dndlnm_grid.shape)\n",
    "\n",
    "#     # Ensure `dndlnm_grid` has a compatible shape for broadcasting\n",
    "#     dndlnm_grid_expanded = dndlnm_grid[:, :, None]  # Shape becomes (100, 100, 1)\n",
    "\n",
    "#     # Perform element-wise multiplication\n",
    "#     result = y_ell_mz_grid * dndlnm_grid_expanded  # Shape becomes (100, 100, 18)  \n",
    "#     # print(result.shape) \n",
    "\n",
    "#     return result\n",
    "    \n",
    "    "
   ]
  },
  {
   "cell_type": "code",
   "execution_count": 32,
   "metadata": {},
   "outputs": [],
   "source": [
    "# get_ytimeshmf_grid()[0][1][:]\n",
    "# get_ytimeshmf_grid().shape"
   ]
  },
  {
   "cell_type": "code",
   "execution_count": 33,
   "metadata": {},
   "outputs": [],
   "source": [
    "# def get_ell_range(params_values_dict = None):\n",
    "\n",
    "#     # Get cosmological parameters\n",
    "#     rparams = classy_sz.get_all_relevant_params(params_values_dict = params_values_dict)\n",
    "#     l_min = rparams['ell_min']\n",
    "#     l_max = rparams['ell_max']\n",
    "#     dlogell = rparams['dlogell']\n",
    "\n",
    "#     log10_l_min = jnp.log10(l_min)\n",
    "#     log10_l_max = jnp.log10(l_max)\n",
    "#     num = int((log10_l_max - log10_l_min) / dlogell) + 1\n",
    "#     # print(num)\n",
    "\n",
    "#     # Define evaluation ell values (uniform grid)\n",
    "#     ell_eval = jnp.logspace(log10_l_min, log10_l_max, num=num)\n",
    "    \n",
    "#     return ell_eval"
   ]
  },
  {
   "cell_type": "code",
   "execution_count": 34,
   "metadata": {},
   "outputs": [],
   "source": [
    "def get_ell_range():\n",
    "    # Predefined list of ell values\n",
    "    ell_eval = jnp.array([10., 13.5, 18., 23.5, 30.5, 40., 52.5, 68.5, 89.5, \n",
    "                         117., 152.5, 198., 257.5, 335.5, 436.5, 567.5, 738., 959.5])\n",
    "\n",
    "    return ell_eval"
   ]
  },
  {
   "cell_type": "code",
   "execution_count": 35,
   "metadata": {},
   "outputs": [],
   "source": [
    "# %timeit compute_integrand_at_z(1)"
   ]
  },
  {
   "cell_type": "code",
   "execution_count": 36,
   "metadata": {},
   "outputs": [],
   "source": [
    "# ell = get_ell_range(params_values_dict=allpars)\n",
    "# ell.shape"
   ]
  },
  {
   "cell_type": "code",
   "execution_count": 37,
   "metadata": {},
   "outputs": [],
   "source": [
    "# y = compute_integrand_at_z(0.005)\n",
    "# plt.loglog(ell, y)"
   ]
  },
  {
   "cell_type": "code",
   "execution_count": 38,
   "metadata": {},
   "outputs": [],
   "source": [
    "# %%time\n",
    "# mint_zgrid = jax.vmap(compute_integrand_at_z)(z_grid)"
   ]
  },
  {
   "cell_type": "code",
   "execution_count": 39,
   "metadata": {},
   "outputs": [
    {
     "data": {
      "text/plain": [
       "(100,)"
      ]
     },
     "execution_count": 39,
     "metadata": {},
     "output_type": "execute_result"
    }
   ],
   "source": [
    "comov_vol = dVdzdOmega(z_grid, params_values_dict=allpars)\n",
    "# z_integral = mint_zgrid * comov_vol[:, None]\n",
    "# z_integral.shape\n",
    "# mint_zgrid.shape\n",
    "comov_vol.shape\n"
   ]
  },
  {
   "cell_type": "code",
   "execution_count": 40,
   "metadata": {},
   "outputs": [],
   "source": [
    "def get_integral_grid(params_values_dict = None):\n",
    "    \n",
    "    rparams = classy_sz.get_all_relevant_params(params_values_dict = params_values_dict)\n",
    "    allparams = classy_sz.pars\n",
    "    \n",
    "\n",
    "    z_min = allparams['z_min']\n",
    "    z_max = allparams['z_max']\n",
    "    z_grid = jnp.geomspace(z_min, z_max, 100)\n",
    "    \n",
    "    h = rparams['h']\n",
    "    # Define an m_grid:\n",
    "    M_min = allparams['M_min']\n",
    "    M_max = allparams['M_max']\n",
    "    m_grid_yl = jnp.geomspace(M_min,M_max,100)\n",
    "    # m_grid_dndlnm = jnp.geomspace(M_min,M_max,100) * h\n",
    "\n",
    "\n",
    "    def get_yellm_for_z(zp):\n",
    "        ell, y_ellm = y_ell_interpolate(zp, m_grid_yl, params_values_dict = params_values_dict)\n",
    "        # print(y_ellm)\n",
    "        # print(ell.shape)\n",
    "        # ell, y_ellm = y_ell_complete(zp, m_grid_yl, params_values_dict=cosmo_params)\n",
    "        return ell, y_ellm\n",
    "    \n",
    "    def get_hmf_for_z(zp):\n",
    "        # dndlnm = get_hmf_at_z_and_m(z = zp, m=m_grid_dndlnm, params_values_dict=cosmo_params)\n",
    "        dndlnm = get_hmf_at_z_and_m(z = zp, m=m_grid_yl, params_values_dict= params_values_dict)\n",
    "        return dndlnm\n",
    " \n",
    "\n",
    "    # Vectorize this function over `z_grid`\n",
    "    # y_ell_mz_grid = jax.vmap(get_yellm_for_z)(z_grid)\n",
    "    ell, y_ell_mz_grid = jax.vmap(get_yellm_for_z)(z_grid)\n",
    "    dndlnm_grid = jax.vmap(get_hmf_for_z)(z_grid)\n",
    "    # print(y_ell_mz_grid.shape)\n",
    "    # print(dndlnm_grid.shape)\n",
    "\n",
    "    # print(z_grid)\n",
    "    # print(y_ell_mz_grid)\n",
    "    # Ensure `dndlnm_grid` has a compatible shape for broadcasting\n",
    "    dndlnm_grid_expanded = dndlnm_grid[:, :, None]  # Shape becomes (100, 100, 1)\n",
    "\n",
    "    comov_vol = dVdzdOmega(z_grid, params_values_dict=params_values_dict)\n",
    "\n",
    "    # Expand comov_vol to align with the shape of `result`\n",
    "    comov_vol_expanded = comov_vol[:, None, None]  # Shape becomes (100, 1, 1)\n",
    "\n",
    "    # Perform element-wise multiplication\n",
    "    result = y_ell_mz_grid**2 * dndlnm_grid_expanded * comov_vol_expanded  # Shape becomes (100, 100, 18)= (dim_z, dim_m, dim_ell)\n",
    "    # result = y_ell_mz_grid\n",
    "    # prefactor = y_ell_prefactor(z_grid, m_grid_yl, params_values_dict=cosmo_params)\n",
    "\n",
    "    # Perform element-wise multiplication\n",
    "    # result = y_ell_mz_grid * dndlnm_grid_expanded  # Shape becomes (100, 100, 18)  \n",
    "    # print(result.shape) \n",
    "    # print(ell.shape)\n",
    "    return result\n",
    "    \n",
    "    "
   ]
  },
  {
   "cell_type": "code",
   "execution_count": 41,
   "metadata": {},
   "outputs": [],
   "source": [
    "def compute_integral(params_values_dict = None):\n",
    "\n",
    "    allparams = classy_sz.pars\n",
    "\n",
    "    integrand = get_integral_grid(params_values_dict = params_values_dict) # shape is (dim_z, dim_m, dim_ell) \n",
    "    # ell = get_integral_grid()[0]\n",
    "    # print(integrand.shape)\n",
    "    # print(ell.shape)\n",
    "\n",
    "    z_min = allparams['z_min']\n",
    "    z_max = allparams['z_max']\n",
    "    z_grid = jnp.geomspace(z_min, z_max, 100)\n",
    "    \n",
    "\n",
    "    # Define an m_grid:\n",
    "    M_min = allparams['M_min']\n",
    "    M_max = allparams['M_max']\n",
    "    m_grid = jnp.geomspace(M_min,M_max,100)\n",
    "    logm_grid = jnp.log(m_grid)\n",
    "\n",
    "\n",
    "    # ell = get_ell_range()\n",
    "    # ell = y_ell_complete(z=1, m=m_grid, params_values_dict = cosmo_params)[0]\n",
    "    # This will store the integrated value for each ell\n",
    "    C_yy = jnp.zeros(len(ell))\n",
    "\n",
    "    for i in range(len(ell)):\n",
    "        # 1) Integrate over m\n",
    "        #    integrand[:, :, i] has shape (dim_z, dim_m)\n",
    "        partial_m = simpson(integrand[:, :, i], x=logm_grid, dx=(logm_grid[1]-logm_grid[0]),axis=1)\n",
    "        # partial_m = jnp.trapezoid(integrand[:, :, i], x=logm_grid, dx=(logm_grid[1]-logm_grid[0]),axis=1)\n",
    "        # partial_m = simpson(integrand[:, :, i], x=m_grid, axis=1)\n",
    "        # partial_m now has shape (dim_z,)\n",
    "\n",
    "        # 2) Integrate the result over z\n",
    "        result = simpson(partial_m, x=z_grid, dx = (z_grid[1]-z_grid[0]), axis=0)\n",
    "        # result = jnp.trapezoid(partial_m, x=z_grid, dx = (z_grid[1]-z_grid[0]), axis=0)\n",
    "\n",
    "        # Store the result for this ell\n",
    "        C_yy = C_yy.at[i].set(result)\n",
    "            \n",
    "    return C_yy  "
   ]
  },
  {
   "cell_type": "code",
   "execution_count": 42,
   "metadata": {},
   "outputs": [
    {
     "name": "stdout",
     "output_type": "stream",
     "text": [
      "(500,)\n",
      "(500,)\n",
      "(500,)\n",
      "(500,)\n",
      "(500,)\n",
      "(500,)\n",
      "(500,)\n",
      "(500,)\n",
      "(500,)\n",
      "(500,)\n",
      "(500,)\n",
      "(500,)\n",
      "(500,)\n",
      "(500,)\n",
      "(500,)\n",
      "(500,)\n",
      "(500,)\n",
      "(500,)\n",
      "(500,)\n",
      "(500,)\n",
      "(500,)\n",
      "(500,)\n",
      "(500,)\n",
      "(500,)\n",
      "(500,)\n",
      "(500,)\n",
      "(500,)\n",
      "(500,)\n",
      "(500,)\n",
      "(500,)\n",
      "(500,)\n",
      "(500,)\n",
      "(500,)\n",
      "(500,)\n",
      "(500,)\n",
      "(500,)\n",
      "(500,)\n",
      "(500,)\n",
      "(500,)\n",
      "(500,)\n",
      "(500,)\n",
      "(500,)\n",
      "(500,)\n",
      "(500,)\n",
      "(500,)\n",
      "(500,)\n",
      "(500,)\n",
      "(500,)\n",
      "(500,)\n",
      "(500,)\n",
      "391 ms ± 288 ms per loop (mean ± std. dev. of 5 runs, 10 loops each)\n",
      "(500,)\n"
     ]
    }
   ],
   "source": [
    "ell = get_ell_range()\n",
    "%timeit -n 10 -r 5  C_yy = compute_integral(params_values_dict = allpars)\n",
    "C_yy = compute_integral(params_values_dict = allpars)"
   ]
  },
  {
   "cell_type": "code",
   "execution_count": 43,
   "metadata": {},
   "outputs": [
    {
     "data": {
      "image/png": "[encoded data removed]",
      "text/plain": [
       "<Figure size 640x480 with 1 Axes>"
      ]
     },
     "metadata": {},
     "output_type": "display_data"
    }
   ],
   "source": [
    "# ell=ell-0.5\n",
    "plt.plot(ell, ell*(ell+1)*C_yy*1e12/(2*jnp.pi))\n",
    "plt.xscale('log')\n",
    "plt.yscale('log')\n",
    "plt.xlabel(r'$\\ell$')\n",
    "plt.ylabel(r'$10^{12} D_{\\ell}^{y y}$')\n",
    "plt.grid(visible=True, which=\"both\", alpha=0.2, linestyle='--')\n",
    "plt.show()"
   ]
  },
  {
   "cell_type": "code",
   "execution_count": 44,
   "metadata": {},
   "outputs": [
    {
     "data": {
      "text/plain": [
       "(200, 18)"
      ]
     },
     "execution_count": 44,
     "metadata": {},
     "output_type": "execute_result"
    }
   ],
   "source": [
    "y_ell_interpolate(z=1, m=m, params_values_dict=allpars)[1].shape\n",
    "# print(y_ell_interpolate)"
   ]
  },
  {
   "cell_type": "code",
   "execution_count": 45,
   "metadata": {},
   "outputs": [
    {
     "name": "stdout",
     "output_type": "stream",
     "text": [
      "ell peak 959.5\n",
      "y_max: 1.530694186117452\n"
     ]
    }
   ],
   "source": [
    "# Calculate the y values for the plot\n",
    "y_values = ell * (ell + 1) * C_yy * 1e12/2/jnp.pi\n",
    "# y_values = ell * (ell + 1) * C_yy * 1e12\n",
    "\n",
    "# Find the maximum value and the corresponding ell\n",
    "max_y = np.max(y_values)\n",
    "ell_max = ell[np.argmax(y_values)]\n",
    "print(\"ell peak\",ell_max)\n",
    "print(\"y_max:\",max_y)"
   ]
  },
  {
   "cell_type": "code",
   "execution_count": 46,
   "metadata": {},
   "outputs": [],
   "source": [
    "from jax import jacfwd\n",
    "# print(2.6328693066916244/2.1484195310302745)\n",
    "\n",
    "# 2.1484195310302745/0.67"
   ]
  },
  {
   "cell_type": "code",
   "execution_count": 47,
   "metadata": {},
   "outputs": [],
   "source": [
    "# H_new = 60\n",
    "# # omega_cdm = 0.11933\n",
    "# def cl_yy(H):\n",
    "\n",
    "#     H = H_new\n",
    "#     allpars.update({'H0':H})\n",
    "#     cl_yy = compute_integral(params_values_dict = allpars)\n",
    "    \n",
    "#     return cl_yy\n",
    "# 1.6/0.6766"
   ]
  },
  {
   "cell_type": "code",
   "execution_count": 48,
   "metadata": {},
   "outputs": [],
   "source": [
    "# cl_yy_prime = cl_yy(H_new)\n",
    "# # print(ell*(ell+1)*(cl_yy_prime - C_yy)*1e12/(2*jnp.pi))\n",
    "# plt.loglog(ell, ell*(ell+1)*cl_yy_prime*1e12/(2*jnp.pi),color='red')\n",
    "# plt.loglog(ell, ell*(ell+1)*C_yy*1e12/(2*jnp.pi), color='blue')"
   ]
  },
  {
   "cell_type": "code",
   "execution_count": 49,
   "metadata": {},
   "outputs": [],
   "source": [
    "Omega_c = 0.26\n",
    "# omega_cdm = 0.11933\n",
    "def cl_yy(Omega_c):\n",
    "\n",
    "    omega_cdm = Omega_c*(allpars['H0']/100)**2\n",
    "    allpars.update({'omega_cdm': omega_cdm})\n",
    "    cl_yy = compute_integral(params_values_dict = allpars)\n",
    "    \n",
    "    return cl_yy\n"
   ]
  },
  {
   "cell_type": "code",
   "execution_count": 50,
   "metadata": {},
   "outputs": [],
   "source": [
    "# cl_yy_prime = cl_yy(Omega_c)\n",
    "# print(ell*(ell+1)*(cl_yy_prime - C_yy)*1e12/(2*jnp.pi))\n",
    "# plt.loglog(ell, ell*(ell+1)*cl_yy_prime*1e12/(2*jnp.pi),color='red')\n",
    "# plt.loglog(ell, ell*(ell+1)*C_yy*1e12/(2*jnp.pi), color='blue')\n",
    "# plt.grid(visible=True, which=\"both\", alpha=0.2, linestyle='--')\n",
    "# plt.show()"
   ]
  },
  {
   "cell_type": "code",
   "execution_count": 51,
   "metadata": {},
   "outputs": [
    {
     "name": "stdout",
     "output_type": "stream",
     "text": [
      "(500,)\n",
      "(500,)\n",
      "(500,)\n",
      "(500,)\n",
      "(500,)\n",
      "(500,)\n",
      "(500,)\n",
      "(500,)\n",
      "(500,)\n",
      "(500,)\n",
      "(500,)\n",
      "(500,)\n",
      "(500,)\n",
      "(500,)\n",
      "(500,)\n",
      "(500,)\n",
      "(500,)\n",
      "(500,)\n",
      "(500,)\n",
      "(500,)\n",
      "(500,)\n",
      "(500,)\n",
      "(500,)\n",
      "(500,)\n",
      "(500,)\n",
      "(500,)\n",
      "(500,)\n",
      "(500,)\n",
      "(500,)\n",
      "(500,)\n",
      "(500,)\n",
      "(500,)\n",
      "(500,)\n",
      "(500,)\n",
      "(500,)\n",
      "(500,)\n",
      "(500,)\n",
      "(500,)\n",
      "(500,)\n",
      "(500,)\n",
      "(500,)\n",
      "(500,)\n",
      "(500,)\n",
      "(500,)\n",
      "(500,)\n",
      "(500,)\n",
      "(500,)\n",
      "(500,)\n",
      "(500,)\n",
      "(500,)\n",
      "756 ms ± 445 ms per loop (mean ± std. dev. of 5 runs, 10 loops each)\n"
     ]
    }
   ],
   "source": [
    "dcl_yy_deomegac = jacfwd(cl_yy,argnums=(0))\n",
    "# print(dcl_yy_deomegac(Omega_c))\n",
    "%timeit -n 10 -r 5 dcl_yy_deomegac(Omega_c)"
   ]
  },
  {
   "cell_type": "code",
   "execution_count": 52,
   "metadata": {},
   "outputs": [
    {
     "name": "stdout",
     "output_type": "stream",
     "text": [
      "(500,)\n",
      "{'omega_b': 0.02242, 'omega_cdm': Traced<ShapedArray(float64[], weak_type=True)>with<JVPTrace> with\n",
      "  primal = Array(0.11902477, dtype=float64, weak_type=True)\n",
      "  tangent = Traced<ShapedArray(float64[], weak_type=True)>with<BatchTrace> with\n",
      "    val = Array([0.45778756], dtype=float64, weak_type=True)\n",
      "    batch_dim = 0, 'H0': 67.66, 'tau_reio': 0.0561, 'ln10^{10}A_s': 3.047, 'n_s': 0.9665, 'M_min': 10000000000.0, 'M_max': 3500000000000000.0, 'z_min': 0.005, 'z_max': 3.0, 'P0GNFW': 8.13, 'c500': 1.156, 'gammaGNFW': 0.3292, 'alphaGNFW': 1.062, 'betaGNFW': 5.4807, 'B': 1.0, 'cosmo_model': 1, 'jax': 1}\n"
     ]
    },
    {
     "data": {
      "text/plain": [
       "Text(0, 0.5, '$|\\\\partial \\\\mathrm{C_\\\\ell^{yy}}/\\\\partial \\\\Omega_c|$')"
      ]
     },
     "execution_count": 52,
     "metadata": {},
     "output_type": "execute_result"
    },
    {
     "data": {
      "image/png": "[encoded data removed]",
      "text/plain": [
       "<Figure size 640x480 with 1 Axes>"
      ]
     },
     "metadata": {},
     "output_type": "display_data"
    }
   ],
   "source": [
    "plt.loglog(ell, 1e12*ell*(ell+1)*jnp.abs(dcl_yy_deomegac(Omega_c))/2/jnp.pi)\n",
    "print(allpars)\n",
    "plt.grid(which = 'both',alpha=0.1)\n",
    "plt.xlabel(r\"$\\ell$\")\n",
    "plt.ylabel(r\"$|\\partial \\mathrm{C_\\ell^{yy}}/\\partial \\Omega_c|$\")"
   ]
  }
 ],
 "metadata": {
  "kernelspec": {
   "display_name": "jax_env",
   "language": "python",
   "name": "python3"
  },
  "language_info": {
   "codemirror_mode": {
    "name": "ipython",
    "version": 3
   },
   "file_extension": ".py",
   "mimetype": "text/x-python",
   "name": "python",
   "nbconvert_exporter": "python",
   "pygments_lexer": "ipython3",
   "version": "3.12.4"
  }
 },
 "nbformat": 4,
 "nbformat_minor": 2
}
