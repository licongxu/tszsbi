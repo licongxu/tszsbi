{
 "cells": [
  {
   "cell_type": "code",
   "execution_count": 4,
   "id": "e6fd6160-83af-4f9b-847e-64b6b839d2e8",
   "metadata": {},
   "outputs": [],
   "source": [
    "# tSZ Map Painter (Notebook Version)\n",
    "# ----------------------------------\n",
    "# Serial version of the original MPI-enabled script, adapted for\n",
    "# interactive use in a Jupyter notebook.  To run:\n",
    "#   1. Ensure all required packages are installed in your Julia environment.\n",
    "#   2. Define/adjust `idx_range`, `cat_dir`, and `out_dir` as needed.\n",
    "#   3. Execute the cells sequentially.\n",
    "using XGPaint\n",
    "using CSV, DataFrames\n",
    "using Healpix\n",
    "using Pixell\n",
    "using Dates, Printf"
   ]
  },
  {
   "cell_type": "code",
   "execution_count": 5,
   "id": "4c886f2e",
   "metadata": {},
   "outputs": [
    {
     "data": {
      "text/plain": [
       "process_catalogue_fast (generic function with 1 method)"
      ]
     },
     "metadata": {},
     "output_type": "display_data"
    }
   ],
   "source": [
    "# ---------------------------------------------------------------------------\n",
    "# Main worker: load a halo catalogue, paint the corresponding y‑map, and save.\n",
    "# Automatically skips if either the catalogue or parameter file is missing.\n",
    "# NO BEAM CONVOLUTION in this version.\n",
    "# ---------------------------------------------------------------------------\n",
    "wall() = time()\n",
    "function process_catalogue_fast(cat_path::AbstractString,\n",
    "    par_path::AbstractString,\n",
    "    idx::Integer)\n",
    "\n",
    "    # ---------------- safety checks -----------------------------------------\n",
    "    if !isfile(cat_path)\n",
    "    @warn \"Catalogue file $(cat_path) not found – skipping idx=$(idx).\"\n",
    "    return nothing\n",
    "    end\n",
    "    if !isfile(par_path)\n",
    "    @warn \"Parameter file $(par_path) not found – skipping idx=$(idx).\"\n",
    "    return nothing\n",
    "    end\n",
    "\n",
    "    println(\"\\nProcessing catalogue: $(basename(cat_path)) (idx = $idx)\")\n",
    "\n",
    "    # ---------------- 1 | read catalogue ------------------------------------\n",
    "    df        = CSV.read(cat_path, DataFrame)\n",
    "    z_arr     = df.z\n",
    "    m_arr     = df.M .* 1e14                        # Msun\n",
    "    ra_arr    = rem.(df.lon .+ π, 2π) .- π          # convert to [−π, π]\n",
    "    dec_arr   = df.lat .- π/2                       # convert to [−π/2, π/2]\n",
    "\n",
    "    # ---------------- 2 | cosmology -----------------------------------------\n",
    "    p         = CSV.read(par_path, DataFrame)[1, :]\n",
    "    h, Ωb, Ωc, B = p.h,  p.Ob0h2/p.h^2,  p.Oc0h2/p.h^2,  p.B\n",
    "    @printf(\"   cosmo: h = %.3f   Ω_b = %.4f   Ω_c = %.4f\\n\", h, Ωb, Ωc)\n",
    "\n",
    "    # ---------------- 3 | build y‑profile interpolator (NO BEAM) -------------\n",
    "    t0 = wall()\n",
    "    a10_base = Arnauld10ThermalSZProfile(Omega_c = Ωc, Omega_b = Ωb, h = h, B = B)\n",
    "    # Supported kwargs in your a10_fast_profile.jl are (Nx, x_min, x_max).\n",
    "    y_model  = build_interpolator(a10_base; Nx = 256)\n",
    "    @printf(\"   interpolator built in %.3f s\\n\", wall() - t0)\n",
    "\n",
    "    # ---------------- 4 | prepare canvas patch ------------------------------\n",
    "    box        = [ 5  -5; -5  5] * Pixell.degree    # 10°×10° patch (RA, Dec)\n",
    "    shape, wcs = geometry(CarClenshawCurtis{Float64}, box, 0.5 * Pixell.arcminute)\n",
    "    sky_map    = Enmap(zeros(shape), wcs)\n",
    "    workspace  = profileworkspace(shape, wcs)\n",
    "\n",
    "    # ---------------- 5 | paint all clusters --------------------------------\n",
    "    t1 = wall()\n",
    "    paint!(sky_map, workspace, y_model, m_arr, z_arr, ra_arr, dec_arr)\n",
    "    @printf(\"   painting finished in %.3f s\\n\", wall() - t1)\n",
    "\n",
    "    # ---------------- 6 | write result to FITS ------------------------------\n",
    "    out_dir  = \"../map_patches_demo\"              # change if desired\n",
    "    mkpath(out_dir)\n",
    "    mapfile = joinpath(out_dir, @sprintf(\"y_map_10deg_fast_%d.fits\", idx))\n",
    "\n",
    "    write_map(mapfile, sky_map)\n",
    "    println(\"   saved → $mapfile\")\n",
    "end"
   ]
  },
  {
   "cell_type": "code",
   "execution_count": 6,
   "id": "e9fc4f3a",
   "metadata": {},
   "outputs": [
    {
     "name": "stdout",
     "output_type": "stream",
     "text": [
      "\n",
      "Processing catalogue: catalogue_sbi_0.csv (idx = 0)\n",
      "   cosmo: h = 0.650   Ω_b = 0.0516   Ω_c = 0.2764\n",
      "   interpolator built in 1.295 s\n",
      "   painting finished in 5.214 s\n",
      "   saved → ../map_patches_demo/y_map_10deg_fast_0.fits\n",
      "\n",
      "Processing catalogue: catalogue_sbi_1.csv (idx = 1)\n",
      "   cosmo: h = 0.892   Ω_b = 0.0308   Ω_c = 0.1581\n",
      "   interpolator built in 0.026 s\n",
      "   painting finished in 11.270 s\n",
      "   saved → ../map_patches_demo/y_map_10deg_fast_1.fits\n",
      "\n",
      "All requested catalogues processed.\n"
     ]
    }
   ],
   "source": [
    "# ---------------------------------------------------------------------------\n",
    "# Example driver loop.  Adjust `idx_range` (and optionally the directories)\n",
    "# to select which catalogues you wish to process.\n",
    "# ---------------------------------------------------------------------------\n",
    "idx_range = 0:1\n",
    "cat_dir   = \"../catalogue_demo\"      # <- make sure this is the right folder\n",
    "\n",
    "for idx in idx_range\n",
    "    par_file = joinpath(cat_dir, @sprintf(\"params_sbi_%d.csv\",    idx))\n",
    "    cat_file = joinpath(cat_dir, @sprintf(\"catalogue_sbi_%d.csv\", idx))\n",
    "\n",
    "    process_catalogue_fast(cat_file, par_file, idx)\n",
    "end\n",
    "\n",
    "println(\"\\nAll requested catalogues processed.\")\n",
    "\n"
   ]
  }
 ],
 "metadata": {
  "kernelspec": {
   "display_name": "Julia 1.11.3",
   "language": "julia",
   "name": "julia-1.11"
  },
  "language_info": {
   "file_extension": ".jl",
   "mimetype": "application/julia",
   "name": "julia",
   "version": "1.11.3"
  }
 },
 "nbformat": 4,
 "nbformat_minor": 5
}
