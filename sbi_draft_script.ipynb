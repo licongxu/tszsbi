{
 "cells": [
  {
   "cell_type": "code",
   "execution_count": 3,
   "metadata": {},
   "outputs": [
    {
     "name": "stderr",
     "output_type": "stream",
     "text": [
      "/Users/licongxu/envs/jax_env/lib/python3.12/site-packages/jax/_src/api_util.py:691: DeprecationWarning: Passing arguments 'a', 'a_min' or 'a_max' to jax.numpy.clip is deprecated. Please use 'arr', 'min' or 'max' respectively instead.\n",
      "  ans = _fun(*args, **kwargs)\n"
     ]
    }
   ],
   "source": [
    "import tszpower\n",
    "from classy_sz import Class as Class_sz\n",
    "import jax\n",
    "import jax.numpy as jnp \n",
    "import numpy as np\n",
    "import torch\n",
    "from sbi.utils import BoxUniform\n",
    "from sbi.utils.user_input_checks import (\n",
    "    check_sbi_inputs,\n",
    "    process_prior,\n",
    "    process_simulator,\n",
    ")\n",
    "from sbi.inference import NPE\n",
    "from sbi.inference import FMPE\n",
    "import matplotlib.pyplot as plt"
   ]
  },
  {
   "cell_type": "code",
   "execution_count": 4,
   "metadata": {},
   "outputs": [],
   "source": [
    "# 1) Define parameters\n",
    "allpars = {\n",
    "    # 'output': '',\n",
    "    'omega_b': 0.0225,\n",
    "    'omega_cdm': 0.12,\n",
    "    'H0': 87.66,\n",
    "    'tau_reio': 0.0561,\n",
    "    'ln10^{10}A_s': 3.0,\n",
    "    'n_s': 0.9665,\n",
    "    'M_min': 1e10,\n",
    "    'M_max': 3.5e15,\n",
    "    # 'ell_min': 2,\n",
    "    # 'ell_max': 8000,\n",
    "    # 'dlogell': 0.1,\n",
    "    'z_min': 5e-3,\n",
    "    'z_max': 3.0,\n",
    "    'P0GNFW': 8.130,\n",
    "    'c500': 1.156,\n",
    "    'gammaGNFW': 0.3292,\n",
    "    'alphaGNFW': 1.0620,\n",
    "    'betaGNFW': 5.4807,\n",
    "    'B': 1.0,\n",
    "    # \"cosmo_model\": 1, # use mnu-lcdm emulators\n",
    "    'jax': 1\n",
    "}"
   ]
  },
  {
   "cell_type": "code",
   "execution_count": 5,
   "metadata": {},
   "outputs": [],
   "source": [
    "tszpower.classy_sz.set(allpars)\n",
    "tszpower.classy_sz.compute_class_szfast()\n",
    "# relavant_pars = tszpower.classy_sz.get_all_relevant_params(allpars)"
   ]
  },
  {
   "cell_type": "code",
   "execution_count": 6,
   "metadata": {},
   "outputs": [],
   "source": [
    "# compute_Cl_yy_total(logA, omega_b, omega_cdm, H0, n_s, B, A_cib, A_rs, A_ir, key, params_values_dict=None, n_realizations=1)\n",
    "logA = [3., 3.2]\n",
    "omega_b = [0.0225, 0.0235]\n",
    "omega_cdm = [0.12, 0.13]\n",
    "H0 = [69., 71.]\n",
    "n_s = [0.965, 0.967]\n",
    "B = [1.6, 2.0]\n",
    "A_cib =[0.5, 1.5]\n",
    "A_rs = [1.5, 2.5]\n",
    "A_ir = [1.5, 2.5]"
   ]
  },
  {
   "cell_type": "code",
   "execution_count": 7,
   "metadata": {},
   "outputs": [
    {
     "name": "stdout",
     "output_type": "stream",
     "text": [
      "(2, 18)\n",
      "(2, 18)\n"
     ]
    },
    {
     "data": {
      "text/plain": [
       "[<matplotlib.lines.Line2D at 0x4a828e360>]"
      ]
     },
     "execution_count": 7,
     "metadata": {},
     "output_type": "execute_result"
    },
    {
     "data": {
      "image/png": "[encoded data removed]",
      "text/plain": [
       "<Figure size 640x480 with 1 Axes>"
      ]
     },
     "metadata": {},
     "output_type": "display_data"
    }
   ],
   "source": [
    "key = jax.random.PRNGKey(66)\n",
    "print(tszpower.compute_Cl_yy_noiseless(logA, omega_b, omega_cdm, H0, n_s, B, params_values_dict=allpars).shape)\n",
    "print(tszpower.compute_foreground(A_cib, A_rs, A_ir).shape)\n",
    "Dl_yy = tszpower.compute_Cl_yy_total(logA, omega_b, omega_cdm, H0, n_s, B, A_cib, A_rs, A_ir, key, params_values_dict=allpars)\n",
    "ell = tszpower.get_ell_range()\n",
    "plt.loglog(ell, Dl_yy[0])"
   ]
  },
  {
   "cell_type": "code",
   "execution_count": 8,
   "metadata": {},
   "outputs": [],
   "source": [
    "def simulator(theta: torch.Tensor) -> torch.Tensor:\n",
    "    \"\"\"\n",
    "    Simulator that wraps tszpower.compute_Cl_yy_total.\n",
    "    \n",
    "    The input `theta` is expected to be a torch.Tensor of shape (batch, 9)\n",
    "    with columns ordered as:\n",
    "      [logA, omega_b, omega_cdm, H0, n_s, B, A_cib, A_rs, A_ir]\n",
    "      \n",
    "    This function uses the torch tensor directly by converting each element\n",
    "    to a Python float, calls the tszpower simulator, and then returns a torch.Tensor.\n",
    "    \"\"\"\n",
    "    batch_size = theta.shape[0]\n",
    "    \n",
    "    # Generate a base key and split it for each simulation.\n",
    "    base_key = jax.random.PRNGKey(42)\n",
    "    keys = jax.random.split(base_key, batch_size)\n",
    "    \n",
    "    sim_list = []\n",
    "    for i in range(batch_size):\n",
    "        # Extract each parameter as a Python float\n",
    "        logA      = float(theta[i, 0])\n",
    "        omega_b   = float(theta[i, 1])\n",
    "        omega_cdm = float(theta[i, 2])\n",
    "        H0        = float(theta[i, 3])\n",
    "        n_s       = float(theta[i, 4])\n",
    "        B         = float(theta[i, 5])\n",
    "        A_cib     = float(theta[i, 6])\n",
    "        A_rs      = float(theta[i, 7])\n",
    "        A_ir      = float(theta[i, 8])\n",
    "        \n",
    "        # Call your tszpower simulator (which uses JAX internally)\n",
    "        sim_i = tszpower.compute_Cl_yy_total(\n",
    "            logA,\n",
    "            omega_b,\n",
    "            omega_cdm,\n",
    "            H0,\n",
    "            n_s,\n",
    "            B,\n",
    "            A_cib,\n",
    "            A_rs,\n",
    "            A_ir,\n",
    "            keys[i],\n",
    "            params_values_dict=allpars,  # your global parameter dictionary\n",
    "            n_realizations=1\n",
    "        )\n",
    "        # Convert the returned JAX array to a NumPy array and then to a torch.Tensor\n",
    "        sim_torch = torch.tensor(np.array(sim_i), dtype=torch.float32)\n",
    "        sim_list.append(sim_torch)\n",
    "    \n",
    "    # Stack the results to form a tensor of shape (batch, n_ell)\n",
    "    return torch.stack(sim_list, dim=0)\n"
   ]
  },
  {
   "cell_type": "code",
   "execution_count": 9,
   "metadata": {},
   "outputs": [],
   "source": [
    "# --- Define the Prior ---\n",
    "# We need a 9-dimensional prior (one for each free parameter).\n",
    "# Order: [logA, omega_b, omega_cdm, H0, n_s, B, A_cib, A_rs, A_ir]\n",
    "\n",
    "low = torch.tensor([2.5,   0.02,  0.11, 55.,  0.94, 1.0, 0.0, 0.0, 0.0])\n",
    "high = torch.tensor([3.5, 0.025, 0.13, 90.,  1.0,  2.0, 5.0, 5.0, 5.0])\n",
    "prior = BoxUniform(low=low, high=high)\n",
    "\n",
    "# Process the prior.\n",
    "prior, num_parameters, prior_returns_numpy = process_prior(prior)\n",
    "# Process the simulator to ensure it returns batched outputs and torch.Tensors.\n",
    "simulator = process_simulator(simulator, prior, prior_returns_numpy)\n",
    "# Check consistency.\n",
    "check_sbi_inputs(simulator, prior)"
   ]
  },
  {
   "cell_type": "code",
   "execution_count": 10,
   "metadata": {},
   "outputs": [],
   "source": [
    "# inference = NPE(prior=prior)\n",
    "inference = FMPE(prior)"
   ]
  },
  {
   "cell_type": "code",
   "execution_count": null,
   "metadata": {},
   "outputs": [
    {
     "ename": "",
     "evalue": "",
     "output_type": "error",
     "traceback": [
      "\u001b[1;31mThe Kernel crashed while executing code in the current cell or a previous cell. \n",
      "\u001b[1;31mPlease review the code in the cell(s) to identify a possible cause of the failure. \n",
      "\u001b[1;31mClick <a href='https://aka.ms/vscodeJupyterKernelCrash'>here</a> for more info. \n",
      "\u001b[1;31mView Jupyter <a href='command:jupyter.viewOutput'>log</a> for further details."
     ]
    }
   ],
   "source": [
    "data_file = np.loadtxt(\"data/data_ps-ell-y2-erry2_total-planck-collab-15.txt\")\n",
    "x_o = data_file[:, 1]"
   ]
  },
  {
   "cell_type": "code",
   "execution_count": null,
   "metadata": {},
   "outputs": [],
   "source": [
    "# --- Generate Simulations ---\n",
    "num_simulations = 10\n",
    "theta = prior.sample((num_simulations,))  # shape (2000, 9)\n",
    "x = simulator(theta)           # x should have shape (2000, n_ell)\n",
    "# print(\"theta.shape\", theta.shape)\n",
    "# print(\"x.shape\", x.shape)\n",
    "inference.append_simulations(theta, x).train()\n",
    "# posterior = inference.build_posterior().set_default_x(x_o)"
   ]
  },
  {
   "cell_type": "code",
   "execution_count": null,
   "metadata": {},
   "outputs": [],
   "source": [
    "posterior = inference.build_posterior(density_estimator)\n",
    "\n",
    "print(posterior) # prints how the posterior was trained"
   ]
  },
  {
   "cell_type": "code",
   "execution_count": null,
   "metadata": {},
   "outputs": [],
   "source": [
    "samples = posterior.sample((1000,), x=data_true)\n",
    "# print(samples)"
   ]
  },
  {
   "cell_type": "code",
   "execution_count": null,
   "metadata": {},
   "outputs": [],
   "source": [
    "_ = pairplot(samples,\n",
    "             # limits=[[-2, 2], [-2, 2], [-2, 2]],\n",
    "             figsize=(6, 6),)\n",
    "             # labels=[r\"$\\theta_1$\", r\"$\\theta_2$\", r\"$\\theta_3$\"])"
   ]
  }
 ],
 "metadata": {
  "kernelspec": {
   "display_name": "jax_env",
   "language": "python",
   "name": "python3"
  },
  "language_info": {
   "codemirror_mode": {
    "name": "ipython",
    "version": 3
   },
   "file_extension": ".py",
   "mimetype": "text/x-python",
   "name": "python",
   "nbconvert_exporter": "python",
   "pygments_lexer": "ipython3",
   "version": "3.12.4"
  }
 },
 "nbformat": 4,
 "nbformat_minor": 4
}
